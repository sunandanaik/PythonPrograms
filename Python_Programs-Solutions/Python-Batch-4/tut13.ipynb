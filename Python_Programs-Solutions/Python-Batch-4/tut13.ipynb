{
 "cells": [
  {
   "cell_type": "code",
   "execution_count": 7,
   "id": "d8cf488f",
   "metadata": {},
   "outputs": [
    {
     "name": "stdout",
     "output_type": "stream",
     "text": [
      "Title of Poetry is: Leaves of Grass\n",
      "Author is : Walt Whitman\n",
      "Price is : 600\n",
      "Poem Count is: 383\n",
      "Title of Poetry is: Leaves of Grass\n",
      "Author is : Walt Whitman\n",
      "Price is : 510.0\n",
      "Poem Count is: 383\n",
      "Title of Poetry is: Spiderman\n",
      "Author is : Stan Lee\n",
      "Price is : 250\n",
      "Issues No: 134\n",
      "Title of Poetry is: To kill a Mockingbird\n",
      "Author is : Harper Lee\n",
      "Price is : 310\n",
      "Pages: 281\n"
     ]
    }
   ],
   "source": [
    "class Book():\n",
    "    title=\"\"\n",
    "    author=\"\"\n",
    "    __price=0\n",
    "    __discount=0\n",
    "    def __init__(self,title,author,price):\n",
    "        self.title = title\n",
    "        self.author = author\n",
    "        self.__price = price\n",
    "        self.__discount=None\n",
    "        \n",
    "    def setDiscount(self,d):\n",
    "        self.__discount = d\n",
    "        \n",
    "    def getPrice(self):\n",
    "        if self.__discount is None:\n",
    "            return self.__price\n",
    "        else:\n",
    "            return self.__price * (1-self.__discount)\n",
    "                  \n",
    "class Poetry(Book):\n",
    "    poems_count=0\n",
    "    def __init__(self,poems_count,title,author,price):\n",
    "        super().__init__(title,author,price)\n",
    "        self.poems_count = poems_count\n",
    "        \n",
    "    def showPoetry(self):\n",
    "        print(\"Title of Poetry is:\",self.title)\n",
    "        print(\"Author is :\",self.author)\n",
    "        print(\"Price is :\",self.getPrice())\n",
    "        print(\"Poem Count is:\",self.poems_count)\n",
    "        \n",
    "class Comic(Book):\n",
    "    issues=0\n",
    "    def __init__(self,issues,title,author,price):\n",
    "        super().__init__(title,author,price)\n",
    "        self.issues=issues\n",
    "        \n",
    "    def showComic(self):\n",
    "        print(\"Title of Poetry is:\",self.title)\n",
    "        print(\"Author is :\",self.author)\n",
    "        print(\"Price is :\",self.getPrice())\n",
    "        print(\"Issues No:\",self.issues)\n",
    "        \n",
    "class Novel(Book):\n",
    "    pages=0\n",
    "    def __init__(self,pages,title,author,price):\n",
    "        super().__init__(title,author,price)\n",
    "        self.pages=pages\n",
    "        \n",
    "    def showNovel(self):\n",
    "        print(\"Title of Poetry is:\",self.title)\n",
    "        print(\"Author is :\",self.author)\n",
    "        print(\"Price is :\",self.getPrice())\n",
    "        print(\"Pages:\",self.pages)\n",
    "    \n",
    "    \n",
    "#Creating Object of Poetry class\n",
    "poem_1 = Poetry(383,'Leaves of Grass', 'Walt Whitman', 600)\n",
    "poem_1.showPoetry()\n",
    "poem_1.setDiscount(0.15)\n",
    "poem_1.showPoetry()\n",
    "\n",
    "comic_1=Comic(134,\"Spiderman\",\"Stan Lee\",250)\n",
    "comic_1.showComic()\n",
    "\n",
    "novel_1 = Novel(281,'To kill a Mockingbird', 'Harper Lee', 310)\n",
    "novel_1.showNovel()"
   ]
  },
  {
   "cell_type": "code",
   "execution_count": 2,
   "id": "4031225f",
   "metadata": {},
   "outputs": [
    {
     "name": "stdout",
     "output_type": "stream",
     "text": [
      "The Super car has 4 doors,4 wheels, Engine is:V8 and Wheel Drive System is :AWD\n",
      "I am driving McLaren 720S Syder supercar\n"
     ]
    }
   ],
   "source": [
    "class Car():\n",
    "    ndoors=0\n",
    "    nwheels=0\n",
    "    taillights=\"\"\n",
    "    headlights=\"\"\n",
    "    def __init__(self,ndoors,nwheels,taillights,headlights):\n",
    "        self.ndoors=ndoors\n",
    "        self.nwheels=nwheels\n",
    "        self.taillights=taillights\n",
    "        self.headlights=headlights\n",
    "        \n",
    "class McLaren(Car):\n",
    "    engine=\"\"\n",
    "    wheeldrive=\"\"\n",
    "    def __init__(self,ndoors,nwheels,taillights,headlights,engine,wheeldrive):\n",
    "        Car.__init__(self,ndoors,nwheels,taillights,headlights)\n",
    "        self.engine=engine\n",
    "        self.wheeldrive=wheeldrive\n",
    "    def drive(self):\n",
    "        print(\"I am driving McLaren 720S Syder supercar\")\n",
    "        \n",
    "    def __repr__(self):\n",
    "        return f\"The Super car has {self.ndoors} doors,{self.nwheels} wheels, Engine is:{self.engine} and Wheel Drive System is :{self.wheeldrive}\"\n",
    "        \n",
    "#Creating Objects\n",
    "supercar=McLaren(4,4,\"Yes\",\"Yes\",\"V8\",\"AWD\")\n",
    "print(supercar)\n",
    "supercar.drive()"
   ]
  },
  {
   "cell_type": "code",
   "execution_count": 7,
   "id": "b4672f8f",
   "metadata": {},
   "outputs": [
    {
     "name": "stdout",
     "output_type": "stream",
     "text": [
      "I am a Car\n",
      "Number of wheels: 4\n",
      "Does it has a roof? True\n",
      "Used for General Transportation\n",
      "I take family for vacation, and I commute to work.\n",
      "I am a Bike\n",
      "Number of wheels : 2\n",
      "Does it have a roof? False\n",
      "Used for General Transportation\n",
      "I go for Racing and I go for Road Trip.\n"
     ]
    }
   ],
   "source": [
    "class Vehicle():\n",
    "    def general_usage(self):\n",
    "        print(\"Used for General Transportation\")\n",
    "        \n",
    "class Car(Vehicle):\n",
    "    def __init__(self):\n",
    "        print(\"I am a Car\")\n",
    "        self.wheels=4\n",
    "        self.roof=True\n",
    "        \n",
    "    def work(self):\n",
    "        self.general_usage()\n",
    "        print(\"I take family for vacation, and I commute to work.\")\n",
    "        \n",
    "class Bike(Vehicle):\n",
    "    def __init__(self):\n",
    "        print(\"I am a Bike\")\n",
    "        self.wheels=2\n",
    "        self.roof=False\n",
    "    def work(self):\n",
    "        self.general_usage()\n",
    "        print(\"I go for Racing and I go for Road Trip.\")\n",
    "        \n",
    "audi=Car()\n",
    "print(\"Number of wheels:\",audi.wheels)\n",
    "print(\"Does it has a roof?\",audi.roof)\n",
    "audi.work()\n",
    "\n",
    "honda=Bike()\n",
    "print(\"Number of wheels :\",honda.wheels)\n",
    "print(\"Does it have a roof?\",honda.roof)\n",
    "honda.work()"
   ]
  },
  {
   "cell_type": "code",
   "execution_count": 11,
   "id": "dd2c646a",
   "metadata": {},
   "outputs": [
    {
     "name": "stdout",
     "output_type": "stream",
     "text": [
      "Area of Square is : 16\n"
     ]
    }
   ],
   "source": [
    "from abc import ABC, abstractmethod\n",
    "class Shape(ABC):\n",
    "    def cal_area(self):\n",
    "        #no body\n",
    "        pass\n",
    "\n",
    "class Square(Shape):\n",
    "    def __init__(self,side):\n",
    "        self.side=side\n",
    "     \n",
    "    def Area(self):\n",
    "        result=self.side * self.side\n",
    "        print(\"Area of Square is :\",result)\n",
    "    \n",
    "        \n",
    "sq=Square(4)\n",
    "sq.Area()"
   ]
  },
  {
   "cell_type": "code",
   "execution_count": null,
   "id": "f24aacc2",
   "metadata": {},
   "outputs": [],
   "source": []
  }
 ],
 "metadata": {
  "kernelspec": {
   "display_name": "Python 3",
   "language": "python",
   "name": "python3"
  },
  "language_info": {
   "codemirror_mode": {
    "name": "ipython",
    "version": 3
   },
   "file_extension": ".py",
   "mimetype": "text/x-python",
   "name": "python",
   "nbconvert_exporter": "python",
   "pygments_lexer": "ipython3",
   "version": "3.9.0"
  }
 },
 "nbformat": 4,
 "nbformat_minor": 5
}
