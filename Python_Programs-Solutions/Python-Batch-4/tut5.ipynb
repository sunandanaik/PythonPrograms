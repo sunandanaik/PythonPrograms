{
 "cells": [
  {
   "cell_type": "code",
   "execution_count": 1,
   "id": "8fdef818",
   "metadata": {},
   "outputs": [
    {
     "name": "stdout",
     "output_type": "stream",
     "text": [
      "No a is not greater than b\n"
     ]
    }
   ],
   "source": [
    "a=5\n",
    "b=10\n",
    "if a>b:\n",
    "    print(\"Yes a is greater than b\")\n",
    "else:\n",
    "    print(\"No a is not greater than b\")"
   ]
  },
  {
   "cell_type": "code",
   "execution_count": 2,
   "id": "cc79b0c7",
   "metadata": {},
   "outputs": [
    {
     "name": "stdout",
     "output_type": "stream",
     "text": [
      "Enter your marks:70\n",
      "I will put you in tuition\n"
     ]
    }
   ],
   "source": [
    "marks=int(input(\"Enter your marks:\"))\n",
    "if marks>90:\n",
    "    print(\"I will give you ice cream\")\n",
    "else:\n",
    "    print(\"I will put you in tuition\")"
   ]
  },
  {
   "cell_type": "code",
   "execution_count": 3,
   "id": "723c4ed8",
   "metadata": {},
   "outputs": [
    {
     "name": "stdout",
     "output_type": "stream",
     "text": [
      "You are eligible to vote\n"
     ]
    }
   ],
   "source": [
    "age=20\n",
    "if( age>18):\n",
    "    print(\"You are eligible to vote\")\n",
    "else:\n",
    "    print(\"He is not eligible to vote\")"
   ]
  },
  {
   "cell_type": "code",
   "execution_count": 4,
   "id": "e52c098c",
   "metadata": {},
   "outputs": [
    {
     "name": "stdout",
     "output_type": "stream",
     "text": [
      "y is the eldest son\n"
     ]
    }
   ],
   "source": [
    "x=8\n",
    "y=10\n",
    "z=5\n",
    "if x>y and x>z:\n",
    "    print(\"x is the eldest son\")\n",
    "elif y>x and y>z:\n",
    "    print(\"y is the eldest son\")\n",
    "else:\n",
    "    print(\"z is the eldest son\")"
   ]
  },
  {
   "cell_type": "code",
   "execution_count": 5,
   "id": "60d68c00",
   "metadata": {},
   "outputs": [
    {
     "name": "stdout",
     "output_type": "stream",
     "text": [
      "y is the eldest son\n"
     ]
    }
   ],
   "source": [
    "if x>y:\n",
    "    if x>z:\n",
    "        print(\"x is the eldest son\")\n",
    "    else:\n",
    "        print(\"z is the eldest son\")\n",
    "elif y>z:\n",
    "    print(\"y is the eldest son\")\n",
    "else:\n",
    "    print(\"z is the eldest son\")"
   ]
  },
  {
   "cell_type": "code",
   "execution_count": 6,
   "id": "475d52e6",
   "metadata": {},
   "outputs": [],
   "source": [
    "x,y,z=8,10,5"
   ]
  },
  {
   "cell_type": "code",
   "execution_count": 7,
   "id": "ad77249f",
   "metadata": {},
   "outputs": [
    {
     "name": "stdout",
     "output_type": "stream",
     "text": [
      "8\n"
     ]
    }
   ],
   "source": [
    "print(x)"
   ]
  },
  {
   "cell_type": "code",
   "execution_count": 8,
   "id": "bd7b46b7",
   "metadata": {},
   "outputs": [
    {
     "name": "stdout",
     "output_type": "stream",
     "text": [
      "10\n"
     ]
    }
   ],
   "source": [
    "print(y)"
   ]
  },
  {
   "cell_type": "code",
   "execution_count": 9,
   "id": "cf7b3c75",
   "metadata": {},
   "outputs": [
    {
     "name": "stdout",
     "output_type": "stream",
     "text": [
      "5\n"
     ]
    }
   ],
   "source": [
    "print(z)"
   ]
  },
  {
   "cell_type": "code",
   "execution_count": 10,
   "id": "cbc29c13",
   "metadata": {},
   "outputs": [
    {
     "name": "stdout",
     "output_type": "stream",
     "text": [
      "Passed\n"
     ]
    }
   ],
   "source": [
    "a,b,c=0,1,0\n",
    "if a==1 or b==1 or c==1:\n",
    "    print('Passed')\n",
    "else:\n",
    "    print('Not Passed')"
   ]
  },
  {
   "cell_type": "code",
   "execution_count": 11,
   "id": "d5876c8e",
   "metadata": {},
   "outputs": [
    {
     "name": "stdout",
     "output_type": "stream",
     "text": [
      "Passed\n"
     ]
    }
   ],
   "source": [
    "if 1 in (a,b,c):\n",
    "    print('Passed')\n",
    "else:\n",
    "    print('passed')"
   ]
  },
  {
   "cell_type": "code",
   "execution_count": 13,
   "id": "62c73271",
   "metadata": {},
   "outputs": [
    {
     "name": "stdout",
     "output_type": "stream",
     "text": [
      "Enter your operations('/','*','-','+'):*\n",
      "Enter value for a:10\n",
      "Enter value for b:20\n",
      "Multiplication is= 200\n"
     ]
    }
   ],
   "source": [
    "operations=['/','*','-','+']\n",
    "\n",
    "choice=input(\"Enter your operations('/','*','-','+'):\")\n",
    "a=int(input(\"Enter value for a:\"))\n",
    "b=int(input(\"Enter value for b:\"))\n",
    "if choice =='/':\n",
    "    ans=a/b\n",
    "    print(\"Division is=\",ans)\n",
    "elif choice =='*':\n",
    "    ans=a*b\n",
    "    print(\"Multiplication is=\",ans)\n",
    "elif choice =='-':\n",
    "    ans= a-b\n",
    "    print(\"Subtraction is=\",ans)\n",
    "else:\n",
    "    ans=a+b\n",
    "    print(\"Addition is=\",ans)"
   ]
  },
  {
   "cell_type": "code",
   "execution_count": 2,
   "id": "a4eb6676",
   "metadata": {},
   "outputs": [
    {
     "name": "stdout",
     "output_type": "stream",
     "text": [
      "Enter your operator(+,-,/,*):*\n",
      "Enter first number:10\n",
      "Enter Second Number:20\n",
      "Result is: 200\n"
     ]
    }
   ],
   "source": [
    "list1=[45,3]\n",
    "list2=[56,9]\n",
    "list3=[56,6]\n",
    "operation=input(\"Enter your operator(+,-,/,*):\")\n",
    "num1=int(input(\"Enter first number:\"))\n",
    "num2=int(input(\"Enter Second Number:\"))\n",
    "if operation==\"*\":\n",
    "    if num1 and num2 in list1:\n",
    "        print(\"Result:555\")\n",
    "    else:\n",
    "        result=num1 * num2\n",
    "        print(\"Result is:\",result)\n",
    "elif operation ==\"+\":\n",
    "    if num1 and num2 in list2:\n",
    "        print(\"Result: 77\")\n",
    "    else:\n",
    "        result=num1 + num2\n",
    "        print(\"Result:\",result)\n",
    "elif operation==\"/\":\n",
    "    if num1 and num2 in list3:\n",
    "        print(\"Result: 4\")\n",
    "    else:\n",
    "        result=num1 / num2\n",
    "        print(\"Result:\",result)\n",
    "elif operation==\"-\":\n",
    "    result=num1 - num2\n",
    "    print(\"Result:\",result)\n",
    "else:\n",
    "    print(\"You have entered invalid operator. Please try again!!\")"
   ]
  },
  {
   "cell_type": "code",
   "execution_count": 6,
   "id": "14aa3a41",
   "metadata": {},
   "outputs": [
    {
     "name": "stdout",
     "output_type": "stream",
     "text": [
      "Enter what you want to check for?:max\n",
      "No max is not present in the tuple\n"
     ]
    }
   ],
   "source": [
    "tup1=(\"Steve\",34,\"Python\")\n",
    "var1=input(\"Enter what you want to check for?:\")\n",
    "if var1 in tup1:\n",
    "    print(f\"Yes {var1} is present in the tuple\")\n",
    "else:\n",
    "    print(f\"No {var1} is not present in the tuple\")"
   ]
  },
  {
   "cell_type": "code",
   "execution_count": 8,
   "id": "e93798d5",
   "metadata": {},
   "outputs": [
    {
     "name": "stdout",
     "output_type": "stream",
     "text": [
      "['Steve', 54, 'Python']\n"
     ]
    }
   ],
   "source": [
    "list1=[\"Steve\",34,\"Python\"]\n",
    "if list1[1]==34:\n",
    "    list1[1]=54\n",
    "    print(list1)\n",
    "else:\n",
    "    print(\"Not present\")"
   ]
  },
  {
   "cell_type": "code",
   "execution_count": 9,
   "id": "07acd138",
   "metadata": {},
   "outputs": [
    {
     "name": "stdout",
     "output_type": "stream",
     "text": [
      "dict_items([('Apple', 150), ('Grapes', 50), ('Orange', 30)])\n"
     ]
    }
   ],
   "source": [
    "fruits={\"Apple\":100,\"Grapes\":50,\"Orange\":30}\n",
    "if fruits[\"Apple\"]==100:\n",
    "    fruits[\"Apple\"]=fruits[\"Apple\"] +50\n",
    "    print(fruits.items())\n",
    "else:\n",
    "    print(fruits)"
   ]
  },
  {
   "cell_type": "code",
   "execution_count": 11,
   "id": "74071553",
   "metadata": {},
   "outputs": [
    {
     "name": "stdout",
     "output_type": "stream",
     "text": [
      "10 is lesser than  20\n"
     ]
    }
   ],
   "source": [
    "a=10\n",
    "b=20\n",
    "if a>b:\n",
    "    print(f\"{a} is greater than {b}\")\n",
    "else:\n",
    "    print(a, \"is lesser than \",b)"
   ]
  },
  {
   "cell_type": "code",
   "execution_count": 14,
   "id": "3cb0c3f1",
   "metadata": {},
   "outputs": [
    {
     "name": "stdout",
     "output_type": "stream",
     "text": [
      "20  is greater than  10\n"
     ]
    }
   ],
   "source": [
    "print(a,\" is greater than \",b) if a>b else print(b,\" is greater than \",a)"
   ]
  },
  {
   "cell_type": "code",
   "execution_count": 17,
   "id": "fc568aad",
   "metadata": {},
   "outputs": [
    {
     "ename": "SyntaxError",
     "evalue": "invalid syntax (<ipython-input-17-289a0f24e8b2>, line 2)",
     "output_type": "error",
     "traceback": [
      "\u001b[1;36m  File \u001b[1;32m\"<ipython-input-17-289a0f24e8b2>\"\u001b[1;36m, line \u001b[1;32m2\u001b[0m\n\u001b[1;33m    switch (day):\u001b[0m\n\u001b[1;37m                 ^\u001b[0m\n\u001b[1;31mSyntaxError\u001b[0m\u001b[1;31m:\u001b[0m invalid syntax\n"
     ]
    }
   ],
   "source": [
    "    day=input(\"Enter your day:\")\n",
    "    switch (day):\n",
    "        case 'Monday':\n",
    "            print('Oh...') \n",
    "        case 'Thursday':\n",
    "            print('Getting close!')\n",
    "        case 'Friday':\n",
    "            print('Almost there!') \n",
    "        case 'Saturday' | 'Sunday':\n",
    "            print('Weekend!!!')\n",
    "        case 'Sunday':\n",
    "            print('Yipppeee!!...')\n"
   ]
  },
  {
   "cell_type": "code",
   "execution_count": 18,
   "id": "66feea70",
   "metadata": {},
   "outputs": [
    {
     "name": "stdout",
     "output_type": "stream",
     "text": [
      "Enter your day:Friday\n",
      "Yipppeee...\n"
     ]
    }
   ],
   "source": [
    "day=input(\"Enter your day:\")\n",
    "if day==\"Monday\":\n",
    "    print('Oh...') \n",
    "elif day ==\"Tuesday\":\n",
    "    print(\"Aww....\")\n",
    "elif day==\"Wednesday\":\n",
    "    print(\"Almost there!!\")\n",
    "elif day==\"Thursday\":\n",
    "    print(\"Getting closer!!..\")\n",
    "elif day ==\"Friday\":\n",
    "    print(\"Yipppeee...\")\n",
    "elif day==\"Saturday\":\n",
    "    print(\"Happpyyyyy...\")\n",
    "else:\n",
    "    print(\"Its a weekend!!\")"
   ]
  },
  {
   "cell_type": "code",
   "execution_count": 4,
   "id": "829753b3",
   "metadata": {},
   "outputs": [
    {
     "name": "stdout",
     "output_type": "stream",
     "text": [
      "2340\n",
      "2500\n",
      "2100\n",
      "3100\n",
      "2900\n",
      "7800\n",
      "6700\n",
      "End of while loop\n",
      "27440\n"
     ]
    }
   ],
   "source": [
    "exp=[2340,2500,2100,3100,2900,7800,6700]\n",
    "total=0 #2340\n",
    "item=0\n",
    "\n",
    "while item < len(exp):\n",
    "    print(exp[item])\n",
    "    total=total+exp[item]\n",
    "    item+=1\n",
    "print(\"End of while loop\")\n",
    "print(total)"
   ]
  },
  {
   "cell_type": "code",
   "execution_count": 5,
   "id": "9cd41a50",
   "metadata": {},
   "outputs": [
    {
     "name": "stdout",
     "output_type": "stream",
     "text": [
      "2340\n"
     ]
    }
   ],
   "source": [
    "print(exp[0])"
   ]
  },
  {
   "cell_type": "code",
   "execution_count": 6,
   "id": "c255826d",
   "metadata": {},
   "outputs": [
    {
     "name": "stdout",
     "output_type": "stream",
     "text": [
      "2500\n"
     ]
    }
   ],
   "source": [
    "print(exp[1])"
   ]
  },
  {
   "cell_type": "code",
   "execution_count": 3,
   "id": "be0a7512",
   "metadata": {},
   "outputs": [
    {
     "name": "stdout",
     "output_type": "stream",
     "text": [
      "2340\n",
      "2500\n",
      "2100\n",
      "3100\n",
      "2900\n",
      "7800\n",
      "6700\n"
     ]
    }
   ],
   "source": [
    "exp=[2340,2500,2100,3100,2900,7800,6700]\n",
    "i=0\n",
    "while i < len(exp):\n",
    "    print(exp[i])\n",
    "    i+=1"
   ]
  },
  {
   "cell_type": "code",
   "execution_count": 12,
   "id": "6b2a138d",
   "metadata": {},
   "outputs": [
    {
     "name": "stdout",
     "output_type": "stream",
     "text": [
      "Enter the starting value:31\n",
      "Enter the ending value:10\n",
      "31\n",
      "30\n",
      "29\n",
      "28\n",
      "27\n",
      "26\n",
      "25\n",
      "24\n",
      "23\n",
      "22\n",
      "21\n",
      "20\n",
      "19\n",
      "18\n",
      "17\n",
      "16\n",
      "15\n",
      "14\n",
      "13\n",
      "12\n",
      "11\n",
      "10\n"
     ]
    }
   ],
   "source": [
    "#a=0\n",
    "startno=int(input(\"Enter the starting value:\"))\n",
    "endno=int(input(\"Enter the ending value:\"))\n",
    "\n",
    "while startno >= endno:\n",
    "    print(startno)\n",
    "    startno -= 1 #1+1=2+1=3+1=4=a\n",
    "    "
   ]
  },
  {
   "cell_type": "code",
   "execution_count": 2,
   "id": "2f42fcc2",
   "metadata": {},
   "outputs": [
    {
     "name": "stdout",
     "output_type": "stream",
     "text": [
      "10\n",
      "9\n",
      "8\n",
      "7\n",
      "6\n",
      "5\n",
      "4\n",
      "3\n",
      "2\n",
      "1\n",
      "0\n"
     ]
    }
   ],
   "source": [
    "i=10\n",
    "while i>=0:\n",
    "    print(i)\n",
    "    i-=1 #i=i-1"
   ]
  },
  {
   "cell_type": "code",
   "execution_count": null,
   "id": "ed5939c1",
   "metadata": {},
   "outputs": [],
   "source": []
  }
 ],
 "metadata": {
  "kernelspec": {
   "display_name": "Python 3",
   "language": "python",
   "name": "python3"
  },
  "language_info": {
   "codemirror_mode": {
    "name": "ipython",
    "version": 3
   },
   "file_extension": ".py",
   "mimetype": "text/x-python",
   "name": "python",
   "nbconvert_exporter": "python",
   "pygments_lexer": "ipython3",
   "version": "3.9.0"
  }
 },
 "nbformat": 4,
 "nbformat_minor": 5
}
