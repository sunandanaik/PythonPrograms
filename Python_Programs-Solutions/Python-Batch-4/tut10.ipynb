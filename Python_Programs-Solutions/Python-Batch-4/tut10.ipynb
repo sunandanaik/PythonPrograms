{
 "cells": [
  {
   "cell_type": "code",
   "execution_count": 1,
   "id": "2b156df0",
   "metadata": {},
   "outputs": [
    {
     "name": "stdout",
     "output_type": "stream",
     "text": [
      "Hello Python\n",
      "Hello Python\n"
     ]
    }
   ],
   "source": [
    "print(\"Hello Python\") #built-in function\n",
    "\n",
    "def printsome(): #user-defined function\n",
    "    print(\"Hello Python\")\n",
    "    \n",
    "printsome()"
   ]
  },
  {
   "cell_type": "code",
   "execution_count": null,
   "id": "c5373b57",
   "metadata": {},
   "outputs": [],
   "source": [
    "math,random,os,sys,calendar #built-in modules"
   ]
  },
  {
   "cell_type": "code",
   "execution_count": 2,
   "id": "613e163d",
   "metadata": {},
   "outputs": [
    {
     "ename": "ModuleNotFoundError",
     "evalue": "No module named 'edit'",
     "output_type": "error",
     "traceback": [
      "\u001b[1;31m---------------------------------------------------------------------------\u001b[0m",
      "\u001b[1;31mModuleNotFoundError\u001b[0m                       Traceback (most recent call last)",
      "\u001b[1;32m<ipython-input-2-289417133fcb>\u001b[0m in \u001b[0;36m<module>\u001b[1;34m\u001b[0m\n\u001b[1;32m----> 1\u001b[1;33m \u001b[1;32mfrom\u001b[0m \u001b[0medit\u001b[0m \u001b[1;32mimport\u001b[0m \u001b[0mmyfunctions\u001b[0m \u001b[1;32mas\u001b[0m \u001b[0mmf\u001b[0m\u001b[1;33m\u001b[0m\u001b[1;33m\u001b[0m\u001b[0m\n\u001b[0m\u001b[0;32m      2\u001b[0m \u001b[0mprint\u001b[0m\u001b[1;33m(\u001b[0m\u001b[1;34m\"Sum is:\"\u001b[0m\u001b[1;33m,\u001b[0m\u001b[0mmf\u001b[0m\u001b[1;33m.\u001b[0m\u001b[0maddnum\u001b[0m\u001b[1;33m(\u001b[0m\u001b[1;36m10\u001b[0m\u001b[1;33m,\u001b[0m\u001b[1;36m20\u001b[0m\u001b[1;33m)\u001b[0m\u001b[1;33m)\u001b[0m\u001b[1;33m\u001b[0m\u001b[1;33m\u001b[0m\u001b[0m\n",
      "\u001b[1;31mModuleNotFoundError\u001b[0m: No module named 'edit'"
     ]
    }
   ],
   "source": [
    "from edit import myfunctions as mf\n",
    "print(\"Sum is:\",mf.addnum(10,20))"
   ]
  },
  {
   "cell_type": "code",
   "execution_count": 3,
   "id": "6759b060",
   "metadata": {},
   "outputs": [
    {
     "name": "stdout",
     "output_type": "stream",
     "text": [
      "Factorial is: 120\n"
     ]
    }
   ],
   "source": [
    "#built-in modules\n",
    "from math import factorial\n",
    "\n",
    "print(\"Factorial is:\",factorial(5))"
   ]
  },
  {
   "cell_type": "code",
   "execution_count": 7,
   "id": "912ebe40",
   "metadata": {},
   "outputs": [
    {
     "name": "stdout",
     "output_type": "stream",
     "text": [
      "8.0\n",
      "2.0\n",
      "3\n",
      "2\n"
     ]
    }
   ],
   "source": [
    "import math\n",
    "\n",
    "print(math.pow(2,3))\n",
    "print(math.sqrt(4))\n",
    "n=2.45\n",
    "print(math.ceil(n))\n",
    "print(math.floor(n))"
   ]
  },
  {
   "cell_type": "code",
   "execution_count": 44,
   "id": "54cacd02",
   "metadata": {},
   "outputs": [
    {
     "name": "stdout",
     "output_type": "stream",
     "text": [
      "4\n",
      "942.3674212260214\n",
      "Apple\n",
      "1\n",
      "[65, 43, 12, 45, 23, 67]\n"
     ]
    }
   ],
   "source": [
    "import random\n",
    "\n",
    "print(random.randint(1,10))\n",
    "print(random.random()*1000)\n",
    "fruits=[\"Apple\",\"Banana\",\"Mango\",\"Grapes\",\"Pineapple\"]\n",
    "print(random.choice(fruits))\n",
    "print(random.randrange(1,10,3))\n",
    "numbers=[12,23,45,67,65,43]\n",
    "random.shuffle(numbers)\n",
    "print(numbers)"
   ]
  },
  {
   "cell_type": "code",
   "execution_count": 1,
   "id": "5a227dcc",
   "metadata": {},
   "outputs": [
    {
     "name": "stdout",
     "output_type": "stream",
     "text": [
      "    August 2021\n",
      "Mo Tu We Th Fr Sa Su\n",
      "                   1\n",
      " 2  3  4  5  6  7  8\n",
      " 9 10 11 12 13 14 15\n",
      "16 17 18 19 20 21 22\n",
      "23 24 25 26 27 28 29\n",
      "30 31\n",
      "\n"
     ]
    }
   ],
   "source": [
    "import calendar\n",
    "cal=calendar.month(2021,8)\n",
    "print(cal)"
   ]
  },
  {
   "cell_type": "code",
   "execution_count": 4,
   "id": "ac069e42",
   "metadata": {},
   "outputs": [
    {
     "name": "stdout",
     "output_type": "stream",
     "text": [
      "Enter the Year:2020\n",
      "True\n"
     ]
    }
   ],
   "source": [
    "import calendar\n",
    "year=int(input(\"Enter the Year:\"))\n",
    "result=calendar.isleap(year)\n",
    "print(result)"
   ]
  },
  {
   "cell_type": "code",
   "execution_count": 17,
   "id": "388cbd39",
   "metadata": {},
   "outputs": [
    {
     "name": "stdout",
     "output_type": "stream",
     "text": [
      "                                      2021\n",
      "\n",
      "      January                       February                       March\n",
      "Mo Tu We Th Fr Sa Su          Mo Tu We Th Fr Sa Su          Mo Tu We Th Fr Sa Su\n",
      "             1  2  3           1  2  3  4  5  6  7           1  2  3  4  5  6  7\n",
      " 4  5  6  7  8  9 10           8  9 10 11 12 13 14           8  9 10 11 12 13 14\n",
      "11 12 13 14 15 16 17          15 16 17 18 19 20 21          15 16 17 18 19 20 21\n",
      "18 19 20 21 22 23 24          22 23 24 25 26 27 28          22 23 24 25 26 27 28\n",
      "25 26 27 28 29 30 31                                        29 30 31\n",
      "\n",
      "       April                          May                           June\n",
      "Mo Tu We Th Fr Sa Su          Mo Tu We Th Fr Sa Su          Mo Tu We Th Fr Sa Su\n",
      "          1  2  3  4                          1  2              1  2  3  4  5  6\n",
      " 5  6  7  8  9 10 11           3  4  5  6  7  8  9           7  8  9 10 11 12 13\n",
      "12 13 14 15 16 17 18          10 11 12 13 14 15 16          14 15 16 17 18 19 20\n",
      "19 20 21 22 23 24 25          17 18 19 20 21 22 23          21 22 23 24 25 26 27\n",
      "26 27 28 29 30                24 25 26 27 28 29 30          28 29 30\n",
      "                              31\n",
      "\n",
      "        July                         August                      September\n",
      "Mo Tu We Th Fr Sa Su          Mo Tu We Th Fr Sa Su          Mo Tu We Th Fr Sa Su\n",
      "          1  2  3  4                             1                 1  2  3  4  5\n",
      " 5  6  7  8  9 10 11           2  3  4  5  6  7  8           6  7  8  9 10 11 12\n",
      "12 13 14 15 16 17 18           9 10 11 12 13 14 15          13 14 15 16 17 18 19\n",
      "19 20 21 22 23 24 25          16 17 18 19 20 21 22          20 21 22 23 24 25 26\n",
      "26 27 28 29 30 31             23 24 25 26 27 28 29          27 28 29 30\n",
      "                              30 31\n",
      "\n",
      "      October                       November                      December\n",
      "Mo Tu We Th Fr Sa Su          Mo Tu We Th Fr Sa Su          Mo Tu We Th Fr Sa Su\n",
      "             1  2  3           1  2  3  4  5  6  7                 1  2  3  4  5\n",
      " 4  5  6  7  8  9 10           8  9 10 11 12 13 14           6  7  8  9 10 11 12\n",
      "11 12 13 14 15 16 17          15 16 17 18 19 20 21          13 14 15 16 17 18 19\n",
      "18 19 20 21 22 23 24          22 23 24 25 26 27 28          20 21 22 23 24 25 26\n",
      "25 26 27 28 29 30 31          29 30                         27 28 29 30 31\n",
      "\n"
     ]
    }
   ],
   "source": [
    "import calendar\n",
    "cal= calendar.calendar(2021,w=0,l=0,c=10,m=3)\n",
    "print(cal)"
   ]
  },
  {
   "cell_type": "code",
   "execution_count": 20,
   "id": "212ea9d6",
   "metadata": {},
   "outputs": [
    {
     "name": "stdout",
     "output_type": "stream",
     "text": [
      "3.9.0 (tags/v3.9.0:9cf6752, Oct  5 2020, 15:34:40) [MSC v.1927 64 bit (AMD64)]\n",
      "['D:\\\\Python_Tutorial\\\\Python_Programs-Solutions\\\\Python-Batch-4', 'c:\\\\python\\\\python39\\\\python39.zip', 'c:\\\\python\\\\python39\\\\DLLs', 'c:\\\\python\\\\python39\\\\lib', 'c:\\\\python\\\\python39', '', 'C:\\\\Users\\\\DELL\\\\AppData\\\\Roaming\\\\Python\\\\Python39\\\\site-packages', 'c:\\\\python\\\\python39\\\\lib\\\\site-packages', 'c:\\\\python\\\\python39\\\\lib\\\\site-packages\\\\win32', 'c:\\\\python\\\\python39\\\\lib\\\\site-packages\\\\win32\\\\lib', 'c:\\\\python\\\\python39\\\\lib\\\\site-packages\\\\Pythonwin', 'c:\\\\python\\\\python39\\\\lib\\\\site-packages\\\\IPython\\\\extensions', 'C:\\\\Users\\\\DELL\\\\.ipython']\n",
      "9223372036854775807\n"
     ]
    }
   ],
   "source": [
    "import sys\n",
    "print(sys.version)\n",
    "print(sys.path)\n",
    "print(sys.maxsize)"
   ]
  },
  {
   "cell_type": "code",
   "execution_count": 26,
   "id": "f92d70b7",
   "metadata": {},
   "outputs": [
    {
     "name": "stdout",
     "output_type": "stream",
     "text": [
      "78.33333333333333\n",
      "83.5\n",
      "90\n",
      "14.236104336041748\n"
     ]
    }
   ],
   "source": [
    "import statistics\n",
    "\n",
    "marks=[56,78,67,89,90,90]\n",
    "print(statistics.mean(marks))\n",
    "print(statistics.median(marks))\n",
    "print(statistics.mode(marks))\n",
    "print(statistics.stdev(marks))"
   ]
  },
  {
   "cell_type": "code",
   "execution_count": 36,
   "id": "718e4b36",
   "metadata": {},
   "outputs": [
    {
     "name": "stdout",
     "output_type": "stream",
     "text": [
      "student(name='John', age=12, marks=67.8)\n",
      "OrderedDict([('Max', 100), ('John', 89), ('Bob', 90)])\n",
      "Max : 100\n",
      "John : 89\n",
      "Bob : 90\n",
      "deque([56, 78, 67, 89, 90])\n",
      "deque([100, 56, 78, 67, 89, 90])\n",
      "deque([100, 56, 78, 67, 89, 90, 200])\n",
      "deque([100, 56, 78, 67, 89, 90])\n",
      "deque([56, 78, 67, 89, 90])\n"
     ]
    }
   ],
   "source": [
    "import collections\n",
    "s=collections.namedtuple('student',['name','age','marks'])\n",
    "print(s('John',12,67.8))\n",
    "\n",
    "d=collections.OrderedDict()\n",
    "d[\"Max\"]=100\n",
    "d[\"John\"]=89\n",
    "d[\"Bob\"]=90\n",
    "print(d)\n",
    "\n",
    "for k,v in d.items():\n",
    "    print(k,\":\",v)\n",
    "\n",
    "marks=[56,78,67,89,90]\n",
    "q=collections.deque(marks)\n",
    "print(q)\n",
    "q.appendleft(100)\n",
    "print(q)\n",
    "q.append(200)\n",
    "print(q)\n",
    "q.pop()\n",
    "print(q)\n",
    "q.popleft()\n",
    "print(q)"
   ]
  },
  {
   "cell_type": "code",
   "execution_count": null,
   "id": "126dbdc9",
   "metadata": {},
   "outputs": [
    {
     "name": "stdout",
     "output_type": "stream",
     "text": [
      "0\n",
      "1\n",
      "2\n",
      "3\n",
      "4\n",
      "5\n",
      "6\n",
      "7\n",
      "8\n",
      "9\n",
      "10\n",
      "11\n",
      "12\n",
      "13\n",
      "14\n",
      "15\n"
     ]
    }
   ],
   "source": [
    "import time\n",
    "for i in range(50):\n",
    "    time.sleep(2)\n",
    "    print(i)"
   ]
  },
  {
   "cell_type": "code",
   "execution_count": null,
   "id": "8b03230d",
   "metadata": {},
   "outputs": [],
   "source": []
  }
 ],
 "metadata": {
  "kernelspec": {
   "display_name": "Python 3",
   "language": "python",
   "name": "python3"
  },
  "language_info": {
   "codemirror_mode": {
    "name": "ipython",
    "version": 3
   },
   "file_extension": ".py",
   "mimetype": "text/x-python",
   "name": "python",
   "nbconvert_exporter": "python",
   "pygments_lexer": "ipython3",
   "version": "3.9.0"
  }
 },
 "nbformat": 4,
 "nbformat_minor": 5
}
