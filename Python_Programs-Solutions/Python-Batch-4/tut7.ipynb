{
 "cells": [
  {
   "cell_type": "code",
   "execution_count": 5,
   "id": "eb41b31f",
   "metadata": {},
   "outputs": [
    {
     "name": "stdout",
     "output_type": "stream",
     "text": [
      "Enter the number:7890\n",
      "Reversed Number is: 987\n"
     ]
    }
   ],
   "source": [
    "num=int(input(\"Enter the number:\"))\n",
    "rev=0\n",
    "while num!=0:\n",
    "    rem= num%10\n",
    "    rev=(rev*10)+rem\n",
    "    num=num//10\n",
    "print(\"Reversed Number is:\",rev)"
   ]
  },
  {
   "cell_type": "code",
   "execution_count": 7,
   "id": "99a47491",
   "metadata": {},
   "outputs": [
    {
     "name": "stdout",
     "output_type": "stream",
     "text": [
      "w\n",
      "e\n",
      "l\n",
      "c\n",
      "o\n",
      "m\n",
      "e\n",
      " \n",
      "t\n",
      "o\n",
      " \n",
      "p\n",
      "y\n",
      "t\n",
      "h\n",
      "o\n",
      "n\n"
     ]
    }
   ],
   "source": [
    "str=\"welcome to python\"\n",
    "len(str)\n",
    "for s in str:\n",
    "    print(s)"
   ]
  },
  {
   "cell_type": "code",
   "execution_count": 12,
   "id": "3ccd00e0",
   "metadata": {},
   "outputs": [
    {
     "name": "stdout",
     "output_type": "stream",
     "text": [
      "n\n",
      "o\n",
      "h\n",
      "t\n",
      "y\n",
      "p\n",
      " \n",
      "o\n",
      "t\n",
      " \n",
      "e\n",
      "m\n",
      "o\n",
      "c\n",
      "l\n",
      "e\n",
      "w\n"
     ]
    }
   ],
   "source": [
    "str=\"welcome to python\"\n",
    "\n",
    "for i in range(1,len(str)+1):\n",
    "    s=\"\"\n",
    "    s=s+str[len(str)-i]\n",
    "    print(s)"
   ]
  },
  {
   "cell_type": "code",
   "execution_count": 14,
   "id": "4086b255",
   "metadata": {},
   "outputs": [
    {
     "name": "stdout",
     "output_type": "stream",
     "text": [
      "w\n",
      "l\n",
      "c\n",
      "m\n"
     ]
    }
   ],
   "source": [
    "str=\"welcome\"\n",
    "for i in str:\n",
    "    if i=='e' or i=='o':\n",
    "        continue\n",
    "    else:\n",
    "        print(i)"
   ]
  },
  {
   "cell_type": "code",
   "execution_count": 15,
   "id": "8215ef2b",
   "metadata": {},
   "outputs": [
    {
     "name": "stdout",
     "output_type": "stream",
     "text": [
      "Apple is 100 Rs.\n",
      "Orange is 50 Rs.\n",
      "Grapes is 60 Rs.\n"
     ]
    }
   ],
   "source": [
    "fruits={\"Apple\":100,\"Orange\":50,\"Grapes\":60}\n",
    "for k,v in fruits.items():\n",
    "    print(f\"{k} is {v} Rs.\")\n",
    "    "
   ]
  },
  {
   "cell_type": "code",
   "execution_count": 17,
   "id": "dc4716b0",
   "metadata": {},
   "outputs": [
    {
     "name": "stdout",
     "output_type": "stream",
     "text": [
      "red:TV\n",
      "red:Book\n",
      "red:Pen\n",
      "blue:TV\n",
      "blue:Book\n",
      "blue:Pen\n",
      "green:TV\n",
      "green:Book\n",
      "green:Pen\n"
     ]
    }
   ],
   "source": [
    "l1=[\"red\",\"blue\",\"green\"]\n",
    "l2=[\"TV\",\"Book\",\"Pen\"]\n",
    "for i in l1:\n",
    "    for j in l2:\n",
    "        print(f\"{i}:{j}\")"
   ]
  },
  {
   "cell_type": "code",
   "execution_count": 18,
   "id": "f44eb80b",
   "metadata": {},
   "outputs": [
    {
     "name": "stdout",
     "output_type": "stream",
     "text": [
      "['red', 'blue', 'green', 'yellow', 'aqua']\n"
     ]
    }
   ],
   "source": [
    "list1=[\"red\",\"blue\",\"green\",\"yellow\",\"aqua\"]\n",
    "newlist=[]\n",
    "for i in list1:\n",
    "    newlist.append(i)\n",
    "print(newlist)"
   ]
  },
  {
   "cell_type": "code",
   "execution_count": 19,
   "id": "9218ebc1",
   "metadata": {},
   "outputs": [
    {
     "name": "stdout",
     "output_type": "stream",
     "text": [
      "['red', 'blue', 'green', 'yellow', 'aqua']\n"
     ]
    }
   ],
   "source": [
    "list1=[\"red\",\"blue\",\"green\",\"yellow\",\"aqua\"]\n",
    "newlist=[i for i in list1] #list comprehension\n",
    "print(newlist)\n"
   ]
  },
  {
   "cell_type": "code",
   "execution_count": 20,
   "id": "a8876a60",
   "metadata": {},
   "outputs": [
    {
     "name": "stdout",
     "output_type": "stream",
     "text": [
      "[121, 484, 1089, 1936, 3025]\n"
     ]
    }
   ],
   "source": [
    "numlist=[11,22,33,44,55]\n",
    "anslist=[]\n",
    "for i in numlist:\n",
    "    anslist.append(i*i)\n",
    "print(anslist)"
   ]
  },
  {
   "cell_type": "code",
   "execution_count": 21,
   "id": "46ef3d80",
   "metadata": {},
   "outputs": [
    {
     "name": "stdout",
     "output_type": "stream",
     "text": [
      "[121, 484, 1089, 1936, 3025]\n"
     ]
    }
   ],
   "source": [
    "numlist=[11,22,33,44,55]\n",
    "anslist=[i*i for i in numlist]\n",
    "print(anslist)"
   ]
  },
  {
   "cell_type": "code",
   "execution_count": 1,
   "id": "bb7402f7",
   "metadata": {},
   "outputs": [
    {
     "name": "stdout",
     "output_type": "stream",
     "text": [
      "[1331, 10648, 35937, 85184, 166375]\n"
     ]
    }
   ],
   "source": [
    "numlist=[11,22,33,44,55]\n",
    "anslist=[i*i*i for i in numlist]\n",
    "print(anslist)"
   ]
  },
  {
   "cell_type": "code",
   "execution_count": 2,
   "id": "0e0151f7",
   "metadata": {},
   "outputs": [
    {
     "name": "stdout",
     "output_type": "stream",
     "text": [
      "[22, 44]\n",
      "[11, 33, 55]\n"
     ]
    }
   ],
   "source": [
    "numlist=[11,22,33,44,55]\n",
    "evenlist=[]\n",
    "oddlist=[]\n",
    "for i in numlist:\n",
    "    if i%2==0:\n",
    "        evenlist.append(i)\n",
    "    else:\n",
    "        oddlist.append(i)\n",
    "print(evenlist)\n",
    "print(oddlist)\n",
    "    "
   ]
  },
  {
   "cell_type": "code",
   "execution_count": 3,
   "id": "f98a490a",
   "metadata": {},
   "outputs": [
    {
     "name": "stdout",
     "output_type": "stream",
     "text": [
      "[22, 44]\n"
     ]
    }
   ],
   "source": [
    "numlist=[11,22,33,44,55]\n",
    "evenlist=[i for i in numlist if i%2==0]\n",
    "print(evenlist)"
   ]
  },
  {
   "cell_type": "code",
   "execution_count": 4,
   "id": "1e347d75",
   "metadata": {},
   "outputs": [
    {
     "name": "stdout",
     "output_type": "stream",
     "text": [
      "{1: 'item1', 2: 'item2', 3: 'item4', 4: 'item4'}\n"
     ]
    }
   ],
   "source": [
    "d1={1:\"item1\",2:\"item2\",3:\"item4\",4:\"item4\"}\n",
    "print(d1)"
   ]
  },
  {
   "cell_type": "code",
   "execution_count": 6,
   "id": "34721aa2",
   "metadata": {},
   "outputs": [
    {
     "name": "stdout",
     "output_type": "stream",
     "text": [
      "{2: 'item2', 4: 'item4', 6: 'item6', 8: 'item8', 10: 'item10'}\n"
     ]
    }
   ],
   "source": [
    "d2={i:f\"item{i}\" for i in range(1,11) if i%2==0}\n",
    "print(d2)"
   ]
  },
  {
   "cell_type": "code",
   "execution_count": 7,
   "id": "9bdb8385",
   "metadata": {},
   "outputs": [
    {
     "name": "stdout",
     "output_type": "stream",
     "text": [
      "{1: 'item1', 2: 'item2', 3: 'item3', 4: 'item4', 5: 'item5', 6: 'item6', 7: 'item7', 8: 'item8', 9: 'item9', 10: 'item10'}\n",
      "{'item1': 1, 'item2': 2, 'item3': 3, 'item4': 4, 'item5': 5, 'item6': 6, 'item7': 7, 'item8': 8, 'item9': 9, 'item10': 10}\n"
     ]
    }
   ],
   "source": [
    "d3={i:f\"item{i}\" for i in range(1,11)}\n",
    "print(d3)\n",
    "d3={v:k for k,v in d3.items()}\n",
    "print(d3)"
   ]
  },
  {
   "cell_type": "code",
   "execution_count": 11,
   "id": "d7b5d2a7",
   "metadata": {},
   "outputs": [
    {
     "name": "stdout",
     "output_type": "stream",
     "text": [
      "('mumbai', 'india')\n",
      "('paris', 'france')\n",
      "('chicago', 'usa')\n"
     ]
    }
   ],
   "source": [
    "cities=[\"mumbai\",\"paris\",\"chicago\"]\n",
    "\n",
    "countries=[\"india\",\"france\",\"usa\"]\n",
    "result= zip(cities,countries)\n",
    "#print(list(result))\n",
    "for i in result:\n",
    "    print(i)"
   ]
  },
  {
   "cell_type": "code",
   "execution_count": 12,
   "id": "1f02bd4d",
   "metadata": {},
   "outputs": [
    {
     "name": "stdout",
     "output_type": "stream",
     "text": [
      "{'mumbai': 'india', 'paris': 'france', 'chicago': 'usa'}\n"
     ]
    }
   ],
   "source": [
    "d4={city:cty for city,cty in zip(cities,countries)}\n",
    "print(d4)"
   ]
  },
  {
   "cell_type": "code",
   "execution_count": 18,
   "id": "345ccfd8",
   "metadata": {},
   "outputs": [
    {
     "name": "stdout",
     "output_type": "stream",
     "text": [
      "{1, 2, 3, 4, 5, 6, 9}\n",
      "{1, 2, 3, 4, 5, 6, 9}\n",
      "{1, 2, 3, 4, 5, 6, 9}\n",
      "{1, 2, 3, 4, 5, 6, 9}\n",
      "{1, 2, 3, 4, 5, 6, 9}\n",
      "{1, 2, 3, 4, 5, 6, 9}\n",
      "{1, 2, 3, 4, 5, 6, 9}\n"
     ]
    }
   ],
   "source": [
    "s=set([1,2,3,4,5,6,5,2,3,9])\n",
    "#print(s)\n",
    "for i in s:\n",
    "    print(s)"
   ]
  },
  {
   "cell_type": "code",
   "execution_count": 15,
   "id": "0ac3e0bb",
   "metadata": {},
   "outputs": [
    {
     "name": "stdout",
     "output_type": "stream",
     "text": [
      "{2, 4, 6}\n"
     ]
    }
   ],
   "source": [
    "s2={i for i in s if i%2==0}\n",
    "print(s2)"
   ]
  },
  {
   "cell_type": "code",
   "execution_count": 19,
   "id": "ada39c67",
   "metadata": {},
   "outputs": [
    {
     "name": "stdout",
     "output_type": "stream",
     "text": [
      "Enter the Number:34\n",
      "Please try again!!!\n",
      "Enter the Number:12\n",
      "Please try again!!!\n",
      "Enter the Number:9\n",
      "Please try again!!!\n",
      "Enter the Number:8\n",
      "Please try again!!!\n",
      "Enter the Number:900\n",
      "Sorry, You entered Number greater than 100!!!\n"
     ]
    }
   ],
   "source": [
    "while(True):\n",
    "    num=int(input(\"Enter the Number:\"))\n",
    "    if num>100:\n",
    "        print(\"Sorry, You entered Number greater than 100!!!\")\n",
    "        break\n",
    "    else:\n",
    "        print(\"Please try again!!!\")\n",
    "        continue"
   ]
  },
  {
   "cell_type": "code",
   "execution_count": 24,
   "id": "36357a76",
   "metadata": {},
   "outputs": [
    {
     "name": "stdout",
     "output_type": "stream",
     "text": [
      " *  *  *  * \n",
      "\n",
      " *  *  *  * \n",
      "\n",
      " *  *  *  * \n",
      "\n",
      " *  *  *  * \n",
      "\n"
     ]
    }
   ],
   "source": [
    "for r in range(0,4):\n",
    "    for c in range(0,4):\n",
    "        print(\" * \",end=\"\")\n",
    "    print(\"\\n\")"
   ]
  },
  {
   "cell_type": "code",
   "execution_count": 26,
   "id": "82d14e59",
   "metadata": {},
   "outputs": [
    {
     "name": "stdout",
     "output_type": "stream",
     "text": [
      " * \n",
      "\n",
      " *  * \n",
      "\n",
      " *  *  * \n",
      "\n",
      " *  *  *  * \n",
      "\n"
     ]
    }
   ],
   "source": [
    "for r in range(0,4):\n",
    "    for c in range(0,r+1):\n",
    "        print(\" * \",end=\"\")\n",
    "    print(\"\\n\")"
   ]
  },
  {
   "cell_type": "code",
   "execution_count": 31,
   "id": "cb6d69f5",
   "metadata": {},
   "outputs": [
    {
     "name": "stdout",
     "output_type": "stream",
     "text": [
      "What would you like to have?:donut\n",
      "donut is available!!We will serve you in a short while!!!\n"
     ]
    }
   ],
   "source": [
    "name=input(\"What would you like to have?:\")\n",
    "menu=[\"burger\",\"pizza\",\"donut\",\"pastry\"]\n",
    "for i in menu:\n",
    "    if i ==name:\n",
    "        print(f\"{i} is available!!We will serve you in a short while!!!\")\n",
    "        break\n",
    "else:\n",
    "    print(\"That Item not available!!!\")"
   ]
  },
  {
   "cell_type": "code",
   "execution_count": null,
   "id": "c1c8602f",
   "metadata": {},
   "outputs": [],
   "source": [
    "s4=input(\"Enter name:\")"
   ]
  },
  {
   "cell_type": "code",
   "execution_count": 2,
   "id": "7d2b7a6b",
   "metadata": {},
   "outputs": [
    {
     "name": "stdout",
     "output_type": "stream",
     "text": [
      "What would you like to have?:donut\n",
      "donut is available!!We will serve you in a short while!!!\n",
      "What would you like to have?:pizza\n",
      "pizza is available!!We will serve you in a short while!!!\n",
      "What would you like to have?:noodles\n",
      "That Item not available!!!\n",
      "What would you like to have?:roti\n",
      "That Item not available!!!\n",
      "What would you like to have?:cake\n",
      "That Item not available!!!\n"
     ]
    }
   ],
   "source": [
    "#function defining\n",
    "def restaurant():\n",
    "    name=input(\"What would you like to have?:\")\n",
    "    menu=[\"burger\",\"pizza\",\"donut\",\"pastry\"]\n",
    "    for i in menu:\n",
    "        if i ==name:\n",
    "            print(f\"{i} is available!!We will serve you in a short while!!!\")\n",
    "            break\n",
    "    else:\n",
    "        print(\"That Item not available!!!\")\n",
    "#funtion calling\n",
    "restaurant()\n",
    "restaurant()\n",
    "restaurant()\n",
    "restaurant()\n",
    "restaurant()"
   ]
  },
  {
   "cell_type": "code",
   "execution_count": 4,
   "id": "c52f4199",
   "metadata": {},
   "outputs": [
    {
     "name": "stdout",
     "output_type": "stream",
     "text": [
      " * \n",
      "\n",
      " *  * \n",
      "\n",
      " *  *  * \n",
      "\n",
      " *  *  *  * \n",
      "\n",
      " * \n",
      "\n",
      " *  * \n",
      "\n",
      " *  *  * \n",
      "\n",
      " *  *  *  * \n",
      "\n"
     ]
    }
   ],
   "source": [
    "def pattern():\n",
    "    for r in range(0,4):\n",
    "        for c in range(0,r+1):\n",
    "            print(\" * \",end=\"\")\n",
    "        print(\"\\n\")\n",
    "    \n",
    "pattern()\n",
    "pattern()"
   ]
  },
  {
   "cell_type": "code",
   "execution_count": 8,
   "id": "6fbe3e00",
   "metadata": {},
   "outputs": [
    {
     "name": "stdout",
     "output_type": "stream",
     "text": [
      "Enter the Name of student:Sujal\n",
      "Sujal Good afternoon\n",
      "Enter the Name of student:Sarita\n",
      "Sarita Good afternoon\n",
      "Enter the Name of student:Stephen\n",
      "Stephen Good afternoon\n",
      "Enter the Name of student:Viraj\n",
      "Viraj Good afternoon\n"
     ]
    }
   ],
   "source": [
    "def greetings(name):\n",
    "    print(f\"{name} Good afternoon\")\n",
    "    \n",
    "\n",
    "for i in range(1,5):\n",
    "    name=input(\"Enter the Name of student:\")\n",
    "    greetings(name)"
   ]
  },
  {
   "cell_type": "code",
   "execution_count": 17,
   "id": "8c9cf44f",
   "metadata": {},
   "outputs": [
    {
     "name": "stdout",
     "output_type": "stream",
     "text": [
      "New num value: 15\n",
      "New num value: 15\n"
     ]
    }
   ],
   "source": [
    "#num=20 #global variable\n",
    "def addnum(): #formal parameters\n",
    "    num=10 #local variable\n",
    "    num=num+5\n",
    "    return num\n",
    "    \n",
    "n=addnum() #actual parameters\n",
    "print(\"New num value:\",n)\n",
    "\n",
    "#or\n",
    "print(\"New num value:\",addnum())"
   ]
  },
  {
   "cell_type": "code",
   "execution_count": 21,
   "id": "2e8d3002",
   "metadata": {},
   "outputs": [
    {
     "name": "stdout",
     "output_type": "stream",
     "text": [
      "Enter the Number:10\n",
      "It is even no.\n",
      "Enter the Number:34\n",
      "It is even no.\n",
      "Enter the Number:56\n",
      "It is even no.\n",
      "Enter the Number:9\n",
      "It is odd no.\n",
      "Enter the Number:78\n",
      "It is even no.\n"
     ]
    }
   ],
   "source": [
    "def checknum(num):\n",
    "    if num%2 == 0:\n",
    "        print(\"It is even no.\")\n",
    "    else:\n",
    "        print(\"It is odd no.\")\n",
    "\n",
    "        \n",
    "\n",
    "for i in range(1,11):\n",
    "    num=int(input(\"Enter the Number:\"))\n",
    "    checknum(num)   "
   ]
  },
  {
   "cell_type": "code",
   "execution_count": 22,
   "id": "0c26febb",
   "metadata": {},
   "outputs": [
    {
     "name": "stdout",
     "output_type": "stream",
     "text": [
      "[10, 20, 30, 40, 50]\n"
     ]
    }
   ],
   "source": [
    "numlist=[10,20,30,40,50]\n",
    "print(numlist)"
   ]
  },
  {
   "cell_type": "code",
   "execution_count": 23,
   "id": "7f42c229",
   "metadata": {},
   "outputs": [
    {
     "name": "stdout",
     "output_type": "stream",
     "text": [
      "10\n",
      "20\n",
      "30\n",
      "40\n",
      "50\n"
     ]
    }
   ],
   "source": [
    "for i in numlist:\n",
    "    print(i)"
   ]
  },
  {
   "cell_type": "code",
   "execution_count": 25,
   "id": "0f98adf9",
   "metadata": {},
   "outputs": [
    {
     "name": "stdout",
     "output_type": "stream",
     "text": [
      "100\n",
      "400\n",
      "900\n",
      "1600\n",
      "2500\n"
     ]
    }
   ],
   "source": [
    "def printlist(numlist):\n",
    "    for i in numlist:\n",
    "        i=i*i\n",
    "        print(i)\n",
    "        \n",
    "        \n",
    "numlist=[10,20,30,40,50]        \n",
    "printlist(numlist)"
   ]
  },
  {
   "cell_type": "code",
   "execution_count": 27,
   "id": "e31a3e81",
   "metadata": {},
   "outputs": [
    {
     "name": "stdout",
     "output_type": "stream",
     "text": [
      "Sum is : 150\n"
     ]
    }
   ],
   "source": [
    "\n",
    "def sumlist(numlist):\n",
    "    sum=0 #local var\n",
    "    for i in numlist:\n",
    "        sum=sum+i\n",
    "    print(\"Sum is :\",sum)\n",
    "\n",
    "numlist=[10,20,30,40,50] \n",
    "sumlist(numlist)   "
   ]
  },
  {
   "cell_type": "code",
   "execution_count": 1,
   "id": "e708f7ab",
   "metadata": {},
   "outputs": [
    {
     "name": "stdout",
     "output_type": "stream",
     "text": [
      "30\n"
     ]
    }
   ],
   "source": [
    "a=10\n",
    "b=20\n",
    "c=a+b\n",
    "print(c)"
   ]
  },
  {
   "cell_type": "code",
   "execution_count": 17,
   "id": "2332b390",
   "metadata": {},
   "outputs": [
    {
     "name": "stdout",
     "output_type": "stream",
     "text": [
      "Sum is: 30\n"
     ]
    }
   ],
   "source": [
    "def addition(*args):\n",
    "    sum=0\n",
    "    for i in args:\n",
    "        sum=sum+i\n",
    "    print(\"Sum is:\",sum)\n",
    "\n",
    "        \n",
    "addition(10,20)\n",
    "#print(\"Sum is:\",sum)"
   ]
  },
  {
   "cell_type": "code",
   "execution_count": 18,
   "id": "75c3bb92",
   "metadata": {},
   "outputs": [
    {
     "name": "stdout",
     "output_type": "stream",
     "text": [
      "Max scored :78\n",
      "John scored :56\n",
      "Bob scored :90\n"
     ]
    }
   ],
   "source": [
    "def studentrecord(**kwargs):\n",
    "    for k,v in kwargs.items():\n",
    "        print(f\"{k} scored :{v}\")\n",
    "\n",
    "\n",
    "studentrecord(Max=78,John=56,Bob=90)"
   ]
  },
  {
   "cell_type": "code",
   "execution_count": 21,
   "id": "1674ca75",
   "metadata": {},
   "outputs": [
    {
     "name": "stdout",
     "output_type": "stream",
     "text": [
      "Enter the number limit:0\n",
      "Result : 0\n"
     ]
    }
   ],
   "source": [
    "def addnumber(n):\n",
    "    sum=0\n",
    "    if n!=0:\n",
    "        return( n + addnumber(n-1))\n",
    "    else:\n",
    "        return n\n",
    "        \n",
    "    \n",
    "    \n",
    "    \n",
    "    \n",
    "n=int(input(\"Enter the number limit:\"))\n",
    "result=addnumber(n)\n",
    "print(\"Result :\",result)"
   ]
  },
  {
   "cell_type": "code",
   "execution_count": 1,
   "id": "bb475ab4",
   "metadata": {},
   "outputs": [
    {
     "name": "stdout",
     "output_type": "stream",
     "text": [
      "Age is: 20\n",
      "Age is: 19\n",
      "Age is: 18\n",
      "You are too young to drive the car.\n"
     ]
    }
   ],
   "source": [
    "def checkage(age):\n",
    "    print(\"Age is:\",age)\n",
    "    if(age>18):\n",
    "        age-=1  \n",
    "        checkage(age) #function calling\n",
    "    else:\n",
    "        print(\"You are too young to drive the car.\")\n",
    "    \n",
    "    \n",
    "checkage(20)"
   ]
  },
  {
   "cell_type": "code",
   "execution_count": null,
   "id": "82f464fc",
   "metadata": {},
   "outputs": [],
   "source": []
  }
 ],
 "metadata": {
  "kernelspec": {
   "display_name": "Python 3",
   "language": "python",
   "name": "python3"
  },
  "language_info": {
   "codemirror_mode": {
    "name": "ipython",
    "version": 3
   },
   "file_extension": ".py",
   "mimetype": "text/x-python",
   "name": "python",
   "nbconvert_exporter": "python",
   "pygments_lexer": "ipython3",
   "version": "3.9.0"
  }
 },
 "nbformat": 4,
 "nbformat_minor": 5
}
