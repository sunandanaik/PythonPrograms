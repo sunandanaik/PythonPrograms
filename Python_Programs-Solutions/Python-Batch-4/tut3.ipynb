{
 "cells": [
  {
   "cell_type": "code",
   "execution_count": 1,
   "id": "88f02d12",
   "metadata": {},
   "outputs": [
    {
     "name": "stdout",
     "output_type": "stream",
     "text": [
      "('Viraj', 12, 89.78, 'Goa', 'M', True)\n"
     ]
    }
   ],
   "source": [
    "t1 = (\"Viraj\",12,89.78,\"Goa\",'M',True)\n",
    "print(t1)"
   ]
  },
  {
   "cell_type": "code",
   "execution_count": 2,
   "id": "4209f828",
   "metadata": {},
   "outputs": [
    {
     "name": "stdout",
     "output_type": "stream",
     "text": [
      "<class 'tuple'>\n"
     ]
    }
   ],
   "source": [
    "print(type(t1))"
   ]
  },
  {
   "cell_type": "code",
   "execution_count": 3,
   "id": "b3c0b2ad",
   "metadata": {},
   "outputs": [
    {
     "name": "stdout",
     "output_type": "stream",
     "text": [
      "Viraj\n",
      "12\n",
      "89.78\n",
      "Goa\n",
      "M\n",
      "True\n"
     ]
    }
   ],
   "source": [
    "#using for..in loop\n",
    "for i in t1:\n",
    "    print(i)"
   ]
  },
  {
   "cell_type": "code",
   "execution_count": 5,
   "id": "aac79a6a",
   "metadata": {},
   "outputs": [
    {
     "name": "stdout",
     "output_type": "stream",
     "text": [
      "aarya\n",
      "20\n",
      "goa\n"
     ]
    }
   ],
   "source": [
    "name=\"aarya\"\n",
    "age=20\n",
    "city=\"goa\"\n",
    "print(name)\n",
    "print(age)\n",
    "print(city)"
   ]
  },
  {
   "cell_type": "code",
   "execution_count": 7,
   "id": "74d7436e",
   "metadata": {},
   "outputs": [
    {
     "name": "stdout",
     "output_type": "stream",
     "text": [
      "('aarya', 20, 'goa', 'F', 90.7)\n"
     ]
    }
   ],
   "source": [
    "t2=(\"aarya\",20,\"goa\",'F',90.7)\n",
    "print(t2)"
   ]
  },
  {
   "cell_type": "code",
   "execution_count": 8,
   "id": "2a978344",
   "metadata": {},
   "outputs": [
    {
     "ename": "TypeError",
     "evalue": "'tuple' object does not support item assignment",
     "output_type": "error",
     "traceback": [
      "\u001b[1;31m---------------------------------------------------------------------------\u001b[0m",
      "\u001b[1;31mTypeError\u001b[0m                                 Traceback (most recent call last)",
      "\u001b[1;32m<ipython-input-8-7a89edea7e18>\u001b[0m in \u001b[0;36m<module>\u001b[1;34m\u001b[0m\n\u001b[1;32m----> 1\u001b[1;33m \u001b[0mt2\u001b[0m\u001b[1;33m[\u001b[0m\u001b[1;36m1\u001b[0m\u001b[1;33m]\u001b[0m \u001b[1;33m=\u001b[0m \u001b[1;36m21\u001b[0m\u001b[1;33m\u001b[0m\u001b[1;33m\u001b[0m\u001b[0m\n\u001b[0m\u001b[0;32m      2\u001b[0m \u001b[0mprint\u001b[0m\u001b[1;33m(\u001b[0m\u001b[0mt2\u001b[0m\u001b[1;33m)\u001b[0m\u001b[1;33m\u001b[0m\u001b[1;33m\u001b[0m\u001b[0m\n",
      "\u001b[1;31mTypeError\u001b[0m: 'tuple' object does not support item assignment"
     ]
    }
   ],
   "source": [
    "t2[1] = 21\n",
    "print(t2)"
   ]
  },
  {
   "cell_type": "code",
   "execution_count": 11,
   "id": "722992b9",
   "metadata": {},
   "outputs": [
    {
     "name": "stdout",
     "output_type": "stream",
     "text": [
      "aarya  lives in : goa\n"
     ]
    }
   ],
   "source": [
    "print(t2[0],\" lives in :\",t2[2])"
   ]
  },
  {
   "cell_type": "code",
   "execution_count": 12,
   "id": "00865937",
   "metadata": {},
   "outputs": [
    {
     "name": "stdout",
     "output_type": "stream",
     "text": [
      "<class 'float'>\n"
     ]
    }
   ],
   "source": [
    "print(type(t2[4]))"
   ]
  },
  {
   "cell_type": "code",
   "execution_count": 13,
   "id": "a26966be",
   "metadata": {},
   "outputs": [
    {
     "name": "stdout",
     "output_type": "stream",
     "text": [
      "<class 'str'>\n"
     ]
    }
   ],
   "source": [
    "print(type(t2[3]))"
   ]
  },
  {
   "cell_type": "code",
   "execution_count": 14,
   "id": "2370c1ee",
   "metadata": {},
   "outputs": [
    {
     "name": "stdout",
     "output_type": "stream",
     "text": [
      "90.7\n"
     ]
    }
   ],
   "source": [
    "print(t2[-1])"
   ]
  },
  {
   "cell_type": "code",
   "execution_count": 16,
   "id": "94bebb13",
   "metadata": {},
   "outputs": [
    {
     "name": "stdout",
     "output_type": "stream",
     "text": [
      "('aarya', 20, 'goa')\n"
     ]
    }
   ],
   "source": [
    "print(t2[0 : 3 ])"
   ]
  },
  {
   "cell_type": "code",
   "execution_count": 17,
   "id": "421241b8",
   "metadata": {},
   "outputs": [
    {
     "name": "stdout",
     "output_type": "stream",
     "text": [
      "5\n"
     ]
    }
   ],
   "source": [
    "print(len(t2))"
   ]
  },
  {
   "cell_type": "code",
   "execution_count": 18,
   "id": "c8396889",
   "metadata": {},
   "outputs": [
    {
     "name": "stdout",
     "output_type": "stream",
     "text": [
      "('Viraj', 12, 89.78, 'Goa', 'M', True, 'aarya', 20, 'goa', 'F', 90.7)\n"
     ]
    }
   ],
   "source": [
    "print(t1+t2)"
   ]
  },
  {
   "cell_type": "code",
   "execution_count": 19,
   "id": "3d49bb41",
   "metadata": {},
   "outputs": [
    {
     "name": "stdout",
     "output_type": "stream",
     "text": [
      "('aarya', 20, 'goa', 'F', 90.7, 'aarya', 20, 'goa', 'F', 90.7, 'aarya', 20, 'goa', 'F', 90.7)\n"
     ]
    }
   ],
   "source": [
    "print(t2 * 3)"
   ]
  },
  {
   "cell_type": "code",
   "execution_count": 20,
   "id": "cefc31c4",
   "metadata": {},
   "outputs": [
    {
     "name": "stdout",
     "output_type": "stream",
     "text": [
      "('aarya', 20, 'goa', 'F', 90.7, 'aarya', 20, 'goa', 'F', 90.7, 'Viraj', 12, 89.78, 'Goa', 'M', True)\n"
     ]
    }
   ],
   "source": [
    "print(t2*2 + t1)"
   ]
  },
  {
   "cell_type": "code",
   "execution_count": 21,
   "id": "e9b77343",
   "metadata": {},
   "outputs": [
    {
     "name": "stdout",
     "output_type": "stream",
     "text": [
      "7\n"
     ]
    }
   ],
   "source": [
    "t3=(12,23,7,8,20)\n",
    "print(min(t3))"
   ]
  },
  {
   "cell_type": "code",
   "execution_count": 22,
   "id": "68d92e99",
   "metadata": {},
   "outputs": [
    {
     "name": "stdout",
     "output_type": "stream",
     "text": [
      "23\n"
     ]
    }
   ],
   "source": [
    "print(max(t3))"
   ]
  },
  {
   "cell_type": "code",
   "execution_count": null,
   "id": "77000c72",
   "metadata": {},
   "outputs": [],
   "source": []
  }
 ],
 "metadata": {
  "kernelspec": {
   "display_name": "Python 3",
   "language": "python",
   "name": "python3"
  },
  "language_info": {
   "codemirror_mode": {
    "name": "ipython",
    "version": 3
   },
   "file_extension": ".py",
   "mimetype": "text/x-python",
   "name": "python",
   "nbconvert_exporter": "python",
   "pygments_lexer": "ipython3",
   "version": "3.9.0"
  }
 },
 "nbformat": 4,
 "nbformat_minor": 5
}
