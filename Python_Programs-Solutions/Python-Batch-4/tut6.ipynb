{
 "cells": [
  {
   "cell_type": "code",
   "execution_count": 1,
   "id": "f86e9b84",
   "metadata": {},
   "outputs": [
    {
     "name": "stdout",
     "output_type": "stream",
     "text": [
      "[2340, 2500, 2100, 3100, 2900, 7800, 6700]\n"
     ]
    }
   ],
   "source": [
    "exp=[2340,2500,2100,3100,2900,7800,6700]\n",
    "print(exp)"
   ]
  },
  {
   "cell_type": "code",
   "execution_count": 2,
   "id": "47a28b0a",
   "metadata": {},
   "outputs": [
    {
     "data": {
      "text/plain": [
       "2340"
      ]
     },
     "execution_count": 2,
     "metadata": {},
     "output_type": "execute_result"
    }
   ],
   "source": [
    "exp[0]"
   ]
  },
  {
   "cell_type": "code",
   "execution_count": 3,
   "id": "4bc70c8d",
   "metadata": {},
   "outputs": [
    {
     "data": {
      "text/plain": [
       "2500"
      ]
     },
     "execution_count": 3,
     "metadata": {},
     "output_type": "execute_result"
    }
   ],
   "source": [
    "exp[1]"
   ]
  },
  {
   "cell_type": "code",
   "execution_count": 4,
   "id": "8ffb3dcf",
   "metadata": {},
   "outputs": [
    {
     "name": "stdout",
     "output_type": "stream",
     "text": [
      "27440\n"
     ]
    }
   ],
   "source": [
    "total=exp[0]+exp[1]+exp[2]+exp[3]+exp[4]+exp[5]+exp[6]\n",
    "print(total)"
   ]
  },
  {
   "cell_type": "code",
   "execution_count": null,
   "id": "1376d024",
   "metadata": {},
   "outputs": [],
   "source": [
    "print(\"hello\")"
   ]
  },
  {
   "cell_type": "code",
   "execution_count": 2,
   "id": "28816222",
   "metadata": {},
   "outputs": [
    {
     "name": "stdout",
     "output_type": "stream",
     "text": [
      "Total expense : 27440\n"
     ]
    }
   ],
   "source": [
    "exp=[2340,2500,2100,3100,2900,7800,6700]\n",
    "i=0\n",
    "total=0\n",
    "while i< len(exp):\n",
    "    total= total+exp[i]\n",
    "    \n",
    "    i+=1\n",
    "print(\"Total expense :\",total)"
   ]
  },
  {
   "cell_type": "code",
   "execution_count": 15,
   "id": "80c157dd",
   "metadata": {},
   "outputs": [
    {
     "name": "stdout",
     "output_type": "stream",
     "text": [
      "1 -2 -3 -4 -5 -6 -7 -8 -9 -10 -"
     ]
    }
   ],
   "source": [
    "i=1\n",
    "while i<=10:\n",
    "    print(i,end=\" -\")\n",
    "    #print(\"-\".join(i))\n",
    "    i+=1"
   ]
  },
  {
   "cell_type": "code",
   "execution_count": 12,
   "id": "1e92b046",
   "metadata": {},
   "outputs": [
    {
     "name": "stdout",
     "output_type": "stream",
     "text": [
      "hello wrold- Welcome\n"
     ]
    }
   ],
   "source": [
    "print(\"hello wrold\",end=\"- \")\n",
    "print(\"Welcome\")"
   ]
  },
  {
   "cell_type": "code",
   "execution_count": 7,
   "id": "1f5f67cd",
   "metadata": {},
   "outputs": [
    {
     "name": "stdout",
     "output_type": "stream",
     "text": [
      "12\n",
      "34\n",
      "45\n",
      "78\n",
      "[-1-2-,- -3-4-,- -4-5-,- -7-8-]\n"
     ]
    }
   ],
   "source": [
    "agelist=[12,34,45,78]\n",
    "i=0\n",
    "while i<len(agelist):\n",
    "    print(agelist[i])\n",
    "    i+=1\n",
    "newlist=str(agelist)\n",
    "print(\"-\".join(newlist)) "
   ]
  },
  {
   "cell_type": "code",
   "execution_count": 12,
   "id": "0f92591f",
   "metadata": {},
   "outputs": [
    {
     "name": "stdout",
     "output_type": "stream",
     "text": [
      "Enter your choice number:5\n",
      "5 X 1=5\n",
      "5 X 2=10\n",
      "5 X 3=15\n",
      "5 X 4=20\n",
      "5 X 5=25\n",
      "5 X 6=30\n",
      "5 X 7=35\n",
      "5 X 8=40\n",
      "5 X 9=45\n",
      "5 X 10=50\n"
     ]
    }
   ],
   "source": [
    "a=int(input(\"Enter your choice number:\"))\n",
    "i=1\n",
    "result=0\n",
    "while i<=10:\n",
    "    result= a * i\n",
    "    #print(a,\" x \",i,\"=\",result)\n",
    "    print(f\"{a} X {i}={result}\")\n",
    "    i+=1"
   ]
  },
  {
   "cell_type": "code",
   "execution_count": 15,
   "id": "27ff22f9",
   "metadata": {},
   "outputs": [
    {
     "name": "stdout",
     "output_type": "stream",
     "text": [
      "Enter the Number:3\n",
      "Enter the Number:2\n",
      "Enter the Number:6\n",
      "Enter the Number:0\n",
      "You are out of the loop\n",
      "Sum is: 12\n"
     ]
    }
   ],
   "source": [
    "num=1\n",
    "sum=0\n",
    "while num != 0:\n",
    "    sum=sum+num\n",
    "    num=int(input(\"Enter the Number:\"))\n",
    "\n",
    "else:\n",
    "    print(\"You are out of the loop\")\n",
    "print(\"Sum is:\",sum)   \n",
    "    \n",
    "    "
   ]
  },
  {
   "cell_type": "code",
   "execution_count": 20,
   "id": "ab070834",
   "metadata": {},
   "outputs": [
    {
     "name": "stdout",
     "output_type": "stream",
     "text": [
      "10\n",
      "9\n",
      "8\n",
      "7\n",
      "6\n",
      "5\n",
      "4\n",
      "3\n",
      "2\n",
      "1\n"
     ]
    }
   ],
   "source": [
    "for i in range(10,0,-1):\n",
    "    print(i)"
   ]
  },
  {
   "cell_type": "code",
   "execution_count": 23,
   "id": "845e6706",
   "metadata": {},
   "outputs": [
    {
     "name": "stdout",
     "output_type": "stream",
     "text": [
      "Enter your choice number:9\n",
      "9 X 1=9\n",
      "9 X 2=18\n",
      "9 X 3=27\n",
      "9 X 4=36\n",
      "9 X 5=45\n",
      "9 X 6=54\n",
      "9 X 7=63\n",
      "9 X 8=72\n",
      "9 X 9=81\n",
      "9 X 10=90\n"
     ]
    }
   ],
   "source": [
    "a=int(input(\"Enter your choice number:\"))\n",
    "result=0\n",
    "for i in range(1,11):\n",
    "    result= a * i\n",
    "    print(f\"{a} X {i}={result}\")"
   ]
  },
  {
   "cell_type": "code",
   "execution_count": 1,
   "id": "fb273e52",
   "metadata": {},
   "outputs": [
    {
     "name": "stdout",
     "output_type": "stream",
     "text": [
      "Sum is: 55\n"
     ]
    }
   ],
   "source": [
    "sum=0\n",
    "for i in range(1,11):\n",
    "    sum=sum+i\n",
    "print(\"Sum is:\",sum)"
   ]
  },
  {
   "cell_type": "code",
   "execution_count": 2,
   "id": "3e6aaa8c",
   "metadata": {},
   "outputs": [
    {
     "name": "stdout",
     "output_type": "stream",
     "text": [
      "Sum is: 55\n"
     ]
    }
   ],
   "source": [
    "sum=0\n",
    "i=1\n",
    "while i<=10:\n",
    "    sum=sum+i\n",
    "    i+=1\n",
    "print(\"Sum is:\",sum)"
   ]
  },
  {
   "cell_type": "code",
   "execution_count": 3,
   "id": "759e5d7f",
   "metadata": {},
   "outputs": [
    {
     "name": "stdout",
     "output_type": "stream",
     "text": [
      "1\n",
      "2\n",
      "3\n",
      "4\n",
      "5\n",
      "6\n",
      "7\n",
      "8\n",
      "9\n",
      "10\n"
     ]
    }
   ],
   "source": [
    "for i in range(1,11):\n",
    "    print(i)"
   ]
  },
  {
   "cell_type": "code",
   "execution_count": 4,
   "id": "08cc667a",
   "metadata": {},
   "outputs": [
    {
     "name": "stdout",
     "output_type": "stream",
     "text": [
      "1\n",
      "2\n",
      "3\n",
      "4\n",
      "6\n",
      "7\n",
      "8\n",
      "9\n",
      "10\n"
     ]
    }
   ],
   "source": [
    "for i in range(1,11):\n",
    "    if i==5:\n",
    "        continue #skip\n",
    "    else:\n",
    "        print(i)"
   ]
  },
  {
   "cell_type": "code",
   "execution_count": 6,
   "id": "9ea28984",
   "metadata": {},
   "outputs": [
    {
     "name": "stdout",
     "output_type": "stream",
     "text": [
      "1\n",
      "2\n",
      "3\n",
      "4\n",
      "5\n",
      "6\n",
      "7\n",
      "8\n"
     ]
    }
   ],
   "source": [
    "for i in range(1,11):\n",
    "    if i==9:\n",
    "        break #stops the loop\n",
    "    else:\n",
    "        print(i)"
   ]
  },
  {
   "cell_type": "code",
   "execution_count": 8,
   "id": "875b7035",
   "metadata": {},
   "outputs": [
    {
     "name": "stdout",
     "output_type": "stream",
     "text": [
      "2\n",
      "4\n",
      "6\n",
      "8\n",
      "10\n"
     ]
    }
   ],
   "source": [
    "for i in range(1,11):\n",
    "    if i%2!=0:\n",
    "        continue\n",
    "    else:\n",
    "        print(i)"
   ]
  },
  {
   "cell_type": "code",
   "execution_count": 2,
   "id": "662bd1df",
   "metadata": {},
   "outputs": [
    {
     "name": "stdout",
     "output_type": "stream",
     "text": [
      "2\n",
      "4\n",
      "6\n",
      "8\n",
      "10\n"
     ]
    }
   ],
   "source": [
    "i=0\n",
    "while i<=10:\n",
    "    i+=1\n",
    "    if i%2!=0:\n",
    "        continue\n",
    "    print(i)\n",
    "    "
   ]
  },
  {
   "cell_type": "code",
   "execution_count": 7,
   "id": "5d8cc5e7",
   "metadata": {},
   "outputs": [
    {
     "name": "stdout",
     "output_type": "stream",
     "text": [
      "Do your guess:asfasf\n",
      "Do your guess:asdasd\n",
      "Do your guess:asdas\n"
     ]
    },
    {
     "ename": "KeyboardInterrupt",
     "evalue": "",
     "output_type": "error",
     "traceback": [
      "\u001b[1;31m---------------------------------------------------------------------------\u001b[0m",
      "\u001b[1;31mKeyboardInterrupt\u001b[0m                         Traceback (most recent call last)",
      "\u001b[1;32m<ipython-input-7-1876409e7f40>\u001b[0m in \u001b[0;36m<module>\u001b[1;34m\u001b[0m\n\u001b[0;32m     10\u001b[0m         \u001b[0mguessCount\u001b[0m\u001b[1;33m+=\u001b[0m\u001b[1;36m1\u001b[0m\u001b[1;33m\u001b[0m\u001b[1;33m\u001b[0m\u001b[0m\n\u001b[0;32m     11\u001b[0m     \u001b[1;32melse\u001b[0m\u001b[1;33m:\u001b[0m\u001b[1;33m\u001b[0m\u001b[1;33m\u001b[0m\u001b[0m\n\u001b[1;32m---> 12\u001b[1;33m         \u001b[0mflag\u001b[0m\u001b[1;33m=\u001b[0m\u001b[1;32mTrue\u001b[0m\u001b[1;33m\u001b[0m\u001b[1;33m\u001b[0m\u001b[0m\n\u001b[0m\u001b[0;32m     13\u001b[0m \u001b[1;33m\u001b[0m\u001b[0m\n\u001b[0;32m     14\u001b[0m \u001b[1;32mif\u001b[0m \u001b[0mflag\u001b[0m\u001b[1;33m:\u001b[0m\u001b[1;33m\u001b[0m\u001b[1;33m\u001b[0m\u001b[0m\n",
      "\u001b[1;31mKeyboardInterrupt\u001b[0m: "
     ]
    }
   ],
   "source": [
    "secretword=\"python\"\n",
    "guessword=\"\"\n",
    "guesslimit=3\n",
    "guessCount=0\n",
    "flag=False\n",
    "\n",
    "while(guessword != secretword):\n",
    "    if guessCount < guesslimit:\n",
    "        guessword=input(\"Do your guess:\")\n",
    "        guessCount+=1\n",
    "    else:\n",
    "        flag=True\n",
    "        \n",
    "if flag:\n",
    "    print(\"You Lose !!!\")\n",
    "else:\n",
    "    print(\"You Win !!\")"
   ]
  },
  {
   "cell_type": "code",
   "execution_count": 3,
   "id": "4d5b1923",
   "metadata": {},
   "outputs": [
    {
     "name": "stdout",
     "output_type": "stream",
     "text": [
      "Enter the Base No:5\n",
      "Enter the raise to value:4\n",
      "Result is: 625\n"
     ]
    }
   ],
   "source": [
    "baseno=int(input(\"Enter the Base No:\"))\n",
    "powerno=int(input(\"Enter the raise to value:\"))\n",
    "sum=1\n",
    "for i in range(1, powerno+1):\n",
    "    sum =sum * baseno\n",
    "print(\"Result is:\",sum)"
   ]
  },
  {
   "cell_type": "code",
   "execution_count": 6,
   "id": "97a777c1",
   "metadata": {},
   "outputs": [
    {
     "name": "stdout",
     "output_type": "stream",
     "text": [
      "Sum of the digit is: 7\n"
     ]
    }
   ],
   "source": [
    "import math\n",
    "num=25\n",
    "sum=0\n",
    "while num !=0:\n",
    "    rem=num %10\n",
    "    sum=sum+rem\n",
    "    num=num/10\n",
    "print(\"Sum of the digit is:\",math.floor(sum))"
   ]
  },
  {
   "cell_type": "code",
   "execution_count": null,
   "id": "7a39b726",
   "metadata": {},
   "outputs": [],
   "source": []
  }
 ],
 "metadata": {
  "kernelspec": {
   "display_name": "Python 3",
   "language": "python",
   "name": "python3"
  },
  "language_info": {
   "codemirror_mode": {
    "name": "ipython",
    "version": 3
   },
   "file_extension": ".py",
   "mimetype": "text/x-python",
   "name": "python",
   "nbconvert_exporter": "python",
   "pygments_lexer": "ipython3",
   "version": "3.9.0"
  }
 },
 "nbformat": 4,
 "nbformat_minor": 5
}
