{
 "cells": [
  {
   "cell_type": "markdown",
   "id": "81204773",
   "metadata": {},
   "source": [
    "# Python Strings"
   ]
  },
  {
   "cell_type": "code",
   "execution_count": 3,
   "id": "ba1c39b5",
   "metadata": {},
   "outputs": [
    {
     "ename": "SyntaxError",
     "evalue": "invalid syntax (<ipython-input-3-b274a77efe48>, line 3)",
     "output_type": "error",
     "traceback": [
      "\u001b[1;36m  File \u001b[1;32m\"<ipython-input-3-b274a77efe48>\"\u001b[1;36m, line \u001b[1;32m3\u001b[0m\n\u001b[1;33m    name3=\"\"\"Dilip\"\"\"\u001b[0m\n\u001b[1;37m             ^\u001b[0m\n\u001b[1;31mSyntaxError\u001b[0m\u001b[1;31m:\u001b[0m invalid syntax\n"
     ]
    }
   ],
   "source": [
    "name=\"Sujal\"\n",
    "name2='Joel'\n",
    "name3=\"\"\"Dilip\"\"\"\n",
    "print(name)\n",
    "print(name2)\n",
    "print(name3)\n"
   ]
  },
  {
   "cell_type": "code",
   "execution_count": 4,
   "id": "41ef192d",
   "metadata": {},
   "outputs": [
    {
     "data": {
      "text/plain": [
       "'print(\"hello world\")\\nprint(\"hello world\")\\nprint(\"hello world\")\\nprint(\"hello world\")'"
      ]
     },
     "execution_count": 4,
     "metadata": {},
     "output_type": "execute_result"
    }
   ],
   "source": [
    "\"\"\"print(\"hello world\")\n",
    "print(\"hello world\")\n",
    "print(\"hello world\")\n",
    "print(\"hello world\")\"\"\""
   ]
  },
  {
   "cell_type": "code",
   "execution_count": 6,
   "id": "9613e420",
   "metadata": {},
   "outputs": [
    {
     "ename": "SyntaxError",
     "evalue": "invalid syntax (<ipython-input-6-4420172d4346>, line 1)",
     "output_type": "error",
     "traceback": [
      "\u001b[1;36m  File \u001b[1;32m\"<ipython-input-6-4420172d4346>\"\u001b[1;36m, line \u001b[1;32m1\u001b[0m\n\u001b[1;33m    print(\"Hi Mr D\"Souza\")\u001b[0m\n\u001b[1;37m                   ^\u001b[0m\n\u001b[1;31mSyntaxError\u001b[0m\u001b[1;31m:\u001b[0m invalid syntax\n"
     ]
    }
   ],
   "source": [
    "print(\"Hi Mr D\"Souza\")"
   ]
  },
  {
   "cell_type": "code",
   "execution_count": 7,
   "id": "9bbfb549",
   "metadata": {},
   "outputs": [
    {
     "name": "stdout",
     "output_type": "stream",
     "text": [
      "hi Mr D\"Souza\n"
     ]
    }
   ],
   "source": [
    "print('hi Mr D\"Souza')"
   ]
  },
  {
   "cell_type": "code",
   "execution_count": 23,
   "id": "e60e9672",
   "metadata": {},
   "outputs": [
    {
     "name": "stdout",
     "output_type": "stream",
     "text": [
      "Hello Python welcome to the class\n"
     ]
    }
   ],
   "source": [
    "name=\"Hello Python welcome to the class\"\n",
    "print(name)"
   ]
  },
  {
   "cell_type": "code",
   "execution_count": 10,
   "id": "af41c932",
   "metadata": {},
   "outputs": [
    {
     "name": "stdout",
     "output_type": "stream",
     "text": [
      "Hello\n"
     ]
    }
   ],
   "source": [
    "print(name[0 : 5])# str[startindex : endindex : stepin]"
   ]
  },
  {
   "cell_type": "code",
   "execution_count": 18,
   "id": "27bac8a0",
   "metadata": {},
   "outputs": [
    {
     "name": "stdout",
     "output_type": "stream",
     "text": [
      "Hello Python welcome to the class\n"
     ]
    }
   ],
   "source": [
    "print(name[ : ])"
   ]
  },
  {
   "cell_type": "code",
   "execution_count": 28,
   "id": "52e4ecd5",
   "metadata": {},
   "outputs": [
    {
     "name": "stdout",
     "output_type": "stream",
     "text": [
      "HloP\n"
     ]
    }
   ],
   "source": [
    "print(name[0 : 8 : 2 ])"
   ]
  },
  {
   "cell_type": "code",
   "execution_count": 29,
   "id": "758d3b56",
   "metadata": {},
   "outputs": [
    {
     "name": "stdout",
     "output_type": "stream",
     "text": [
      "ssalc eht ot emoclew nohtyP olleH\n"
     ]
    }
   ],
   "source": [
    "print(name[ : : -1]) #reverse of string"
   ]
  },
  {
   "cell_type": "code",
   "execution_count": 60,
   "id": "6a1d404f",
   "metadata": {},
   "outputs": [
    {
     "name": "stdout",
     "output_type": "stream",
     "text": [
      "True\n"
     ]
    }
   ],
   "source": [
    "s1 = \"sunanda\"\n",
    "result= s1.isalpha()\n",
    "print(result)"
   ]
  },
  {
   "cell_type": "code",
   "execution_count": 50,
   "id": "963eb520",
   "metadata": {},
   "outputs": [
    {
     "name": "stdout",
     "output_type": "stream",
     "text": [
      "sunanda 123 naik is your mentor for python conducting at 13.00pm\n"
     ]
    }
   ],
   "source": [
    "print(s1)\n"
   ]
  },
  {
   "cell_type": "code",
   "execution_count": 32,
   "id": "42b53a72",
   "metadata": {},
   "outputs": [
    {
     "data": {
      "text/plain": [
       "'sunanda naik'"
      ]
     },
     "execution_count": 32,
     "metadata": {},
     "output_type": "execute_result"
    }
   ],
   "source": [
    "s1.lower()"
   ]
  },
  {
   "cell_type": "code",
   "execution_count": 33,
   "id": "7a9ab0d6",
   "metadata": {},
   "outputs": [
    {
     "data": {
      "text/plain": [
       "'Sunanda naik'"
      ]
     },
     "execution_count": 33,
     "metadata": {},
     "output_type": "execute_result"
    }
   ],
   "source": [
    "s1.capitalize()"
   ]
  },
  {
   "cell_type": "code",
   "execution_count": 36,
   "id": "1c1d4ba9",
   "metadata": {},
   "outputs": [
    {
     "data": {
      "text/plain": [
       "'Sunanda Naik Is Your Mentor For Python'"
      ]
     },
     "execution_count": 36,
     "metadata": {},
     "output_type": "execute_result"
    }
   ],
   "source": [
    "s1.title()"
   ]
  },
  {
   "cell_type": "code",
   "execution_count": 40,
   "id": "30dc9f7c",
   "metadata": {},
   "outputs": [
    {
     "data": {
      "text/plain": [
       "True"
      ]
     },
     "execution_count": 40,
     "metadata": {},
     "output_type": "execute_result"
    }
   ],
   "source": [
    "s1.endswith(\"python\")"
   ]
  },
  {
   "cell_type": "code",
   "execution_count": 43,
   "id": "6e130c2d",
   "metadata": {},
   "outputs": [
    {
     "data": {
      "text/plain": [
       "True"
      ]
     },
     "execution_count": 43,
     "metadata": {},
     "output_type": "execute_result"
    }
   ],
   "source": [
    "s1.startswith(\"sunanda\")"
   ]
  },
  {
   "cell_type": "code",
   "execution_count": 53,
   "id": "34be4d4e",
   "metadata": {},
   "outputs": [
    {
     "name": "stdout",
     "output_type": "stream",
     "text": [
      "False\n"
     ]
    }
   ],
   "source": [
    "print(s1.isalpha())"
   ]
  },
  {
   "cell_type": "code",
   "execution_count": 54,
   "id": "22793fae",
   "metadata": {},
   "outputs": [
    {
     "name": "stdout",
     "output_type": "stream",
     "text": [
      "True\n"
     ]
    }
   ],
   "source": [
    "txt=\"Company123\"\n",
    "result = txt.isalnum()\n",
    "print(result)"
   ]
  },
  {
   "cell_type": "code",
   "execution_count": 67,
   "id": "df02e0e9",
   "metadata": {},
   "outputs": [
    {
     "name": "stdout",
     "output_type": "stream",
     "text": [
      "Welcome to Python Tutorial\n",
      "Hello Python\n"
     ]
    }
   ],
   "source": [
    "s2 = \"Welcome to Python Tutorial\"\n",
    "print(s2)\n",
    "s2=\"Hello Python\"\n",
    "print(s2)"
   ]
  },
  {
   "cell_type": "code",
   "execution_count": 64,
   "id": "f6ba53e0",
   "metadata": {},
   "outputs": [
    {
     "name": "stdout",
     "output_type": "stream",
     "text": [
      "26\n"
     ]
    }
   ],
   "source": [
    "print(len(s2))"
   ]
  },
  {
   "cell_type": "code",
   "execution_count": 65,
   "id": "163428cb",
   "metadata": {},
   "outputs": [
    {
     "name": "stdout",
     "output_type": "stream",
     "text": [
      "Welcome to Python Tutorial\n"
     ]
    }
   ],
   "source": [
    "s3 = s2\n",
    "print(s3)"
   ]
  },
  {
   "cell_type": "code",
   "execution_count": 71,
   "id": "64df5e4d",
   "metadata": {},
   "outputs": [
    {
     "data": {
      "text/plain": [
       "1"
      ]
     },
     "execution_count": 71,
     "metadata": {},
     "output_type": "execute_result"
    }
   ],
   "source": [
    "s2.count('H') #number of occurence in string"
   ]
  },
  {
   "cell_type": "code",
   "execution_count": 73,
   "id": "4f30b2fb",
   "metadata": {},
   "outputs": [
    {
     "data": {
      "text/plain": [
       "6"
      ]
     },
     "execution_count": 73,
     "metadata": {},
     "output_type": "execute_result"
    }
   ],
   "source": [
    "s2.find('Python')"
   ]
  },
  {
   "cell_type": "code",
   "execution_count": 74,
   "id": "ef6ecea0",
   "metadata": {},
   "outputs": [
    {
     "data": {
      "text/plain": [
       "6"
      ]
     },
     "execution_count": 74,
     "metadata": {},
     "output_type": "execute_result"
    }
   ],
   "source": [
    "s2.index('Python')"
   ]
  },
  {
   "cell_type": "code",
   "execution_count": 75,
   "id": "f03ed595",
   "metadata": {},
   "outputs": [
    {
     "data": {
      "text/plain": [
       "'Hello Cython'"
      ]
     },
     "execution_count": 75,
     "metadata": {},
     "output_type": "execute_result"
    }
   ],
   "source": [
    "s2.replace('P' , 'C')"
   ]
  },
  {
   "cell_type": "code",
   "execution_count": 76,
   "id": "b139985b",
   "metadata": {},
   "outputs": [
    {
     "data": {
      "text/plain": [
       "False"
      ]
     },
     "execution_count": 76,
     "metadata": {},
     "output_type": "execute_result"
    }
   ],
   "source": [
    "s2.isupper()"
   ]
  },
  {
   "cell_type": "code",
   "execution_count": 77,
   "id": "afe2eb62",
   "metadata": {},
   "outputs": [
    {
     "data": {
      "text/plain": [
       "False"
      ]
     },
     "execution_count": 77,
     "metadata": {},
     "output_type": "execute_result"
    }
   ],
   "source": [
    "s2.islower()"
   ]
  },
  {
   "cell_type": "code",
   "execution_count": 79,
   "id": "6fdcb385",
   "metadata": {},
   "outputs": [
    {
     "data": {
      "text/plain": [
       "False"
      ]
     },
     "execution_count": 79,
     "metadata": {},
     "output_type": "execute_result"
    }
   ],
   "source": [
    "s4 = \"PYTHON\"\n",
    "s4.islower()"
   ]
  },
  {
   "cell_type": "code",
   "execution_count": 86,
   "id": "45482828",
   "metadata": {},
   "outputs": [
    {
     "name": "stdout",
     "output_type": "stream",
     "text": [
      "Enter your Name:sunanda\n",
      "My name is : sunanda\n",
      "Enter Your Age:3\n",
      "Age is: 3\n"
     ]
    }
   ],
   "source": [
    "s5 = input(\"Enter your Name:\")\n",
    "print(f\"My name is : {s5}\")\n",
    "age=input(\"Enter Your Age:\")\n",
    "print(\"Age is:\",age)"
   ]
  },
  {
   "cell_type": "code",
   "execution_count": 84,
   "id": "2feedb58",
   "metadata": {},
   "outputs": [
    {
     "name": "stdout",
     "output_type": "stream",
     "text": [
      "My name is : sunanda\n"
     ]
    }
   ],
   "source": [
    "print(\"My name is :\",s5)"
   ]
  },
  {
   "cell_type": "code",
   "execution_count": 85,
   "id": "f16d96c2",
   "metadata": {},
   "outputs": [
    {
     "name": "stdout",
     "output_type": "stream",
     "text": [
      "My name is sunanda\n"
     ]
    }
   ],
   "source": [
    "print(\"My name is %s\" %s5)"
   ]
  },
  {
   "cell_type": "code",
   "execution_count": 88,
   "id": "a1946da6",
   "metadata": {},
   "outputs": [
    {
     "name": "stdout",
     "output_type": "stream",
     "text": [
      "Enter a:10\n",
      "Enter b:20\n",
      "30\n"
     ]
    }
   ],
   "source": [
    "a=int(input(\"Enter a:\"))\n",
    "b=int(input(\"Enter b:\"))\n",
    "c=a+b\n",
    "print(c)"
   ]
  },
  {
   "cell_type": "markdown",
   "id": "a29224cd",
   "metadata": {},
   "source": [
    "# Word Replacement Exercise"
   ]
  },
  {
   "cell_type": "code",
   "execution_count": 1,
   "id": "d786513e",
   "metadata": {},
   "outputs": [
    {
     "name": "stdout",
     "output_type": "stream",
     "text": [
      "Enter your sentence :Welcome to Python World\n",
      "Welcome to Python World\n"
     ]
    }
   ],
   "source": [
    "sentence = input(\"Enter your sentence :\")\n",
    "print(sentence)"
   ]
  },
  {
   "cell_type": "code",
   "execution_count": 4,
   "id": "4425cc4b",
   "metadata": {},
   "outputs": [
    {
     "name": "stdout",
     "output_type": "stream",
     "text": [
      "Enter your sentence :welcome to python world!!\n",
      "welcome to python world!!\n",
      "Enter the word to replacepython\n",
      "Enter the word to replace with:java\n",
      "welcome to java world!!\n"
     ]
    }
   ],
   "source": [
    "sentence = input(\"Enter your sentence :\")\n",
    "print(sentence)\n",
    "word1 = input(\"Enter the word to replace\")\n",
    "word2 = input(\"Enter the word to replace with:\")\n",
    "print(sentence.replace(word1, word2))\n"
   ]
  },
  {
   "cell_type": "code",
   "execution_count": null,
   "id": "47bb3531",
   "metadata": {},
   "outputs": [],
   "source": []
  }
 ],
 "metadata": {
  "kernelspec": {
   "display_name": "Python 3",
   "language": "python",
   "name": "python3"
  },
  "language_info": {
   "codemirror_mode": {
    "name": "ipython",
    "version": 3
   },
   "file_extension": ".py",
   "mimetype": "text/x-python",
   "name": "python",
   "nbconvert_exporter": "python",
   "pygments_lexer": "ipython3",
   "version": "3.9.0"
  }
 },
 "nbformat": 4,
 "nbformat_minor": 5
}
