{
 "cells": [
  {
   "cell_type": "code",
   "execution_count": 1,
   "id": "189b669e",
   "metadata": {},
   "outputs": [
    {
     "name": "stdout",
     "output_type": "stream",
     "text": [
      "['fruits', 'vegetables', 'accessories', 'perfumes', 'soaps']\n",
      "['accessories', 'fruits', 'perfumes', 'soaps', 'vegetables']\n",
      "['accessories', 'fruits', 'perfumes', 'soaps', 'vegetables']\n",
      "['vegetables', 'soaps', 'perfumes', 'fruits', 'accessories']\n"
     ]
    }
   ],
   "source": [
    "shoplist = [\"fruits\", \"vegetables\",\"accessories\",\"perfumes\",\"soaps\"]\n",
    "print(shoplist)\n",
    "shoplist.sort()\n",
    "print(shoplist)\n",
    "print(sorted(shoplist))\n",
    "print(shoplist[: : -1])"
   ]
  },
  {
   "cell_type": "code",
   "execution_count": 2,
   "id": "a1036786",
   "metadata": {},
   "outputs": [
    {
     "name": "stdout",
     "output_type": "stream",
     "text": [
      "['Jack DSouza', 23, 'Python', 89.76, 'M', 'Goa']\n"
     ]
    }
   ],
   "source": [
    "studentdetails=[\"Jack DSouza\",23,\"Python\",89.76,'M',\"Goa\"]\n",
    "print(studentdetails)"
   ]
  },
  {
   "cell_type": "code",
   "execution_count": 4,
   "id": "d4283eed",
   "metadata": {},
   "outputs": [
    {
     "name": "stdout",
     "output_type": "stream",
     "text": [
      "False\n"
     ]
    }
   ],
   "source": [
    "marks=[78.8,67.9,90.8]\n",
    "print(100 in marks)"
   ]
  },
  {
   "cell_type": "code",
   "execution_count": 5,
   "id": "39e80d07",
   "metadata": {},
   "outputs": [
    {
     "data": {
      "text/plain": [
       "90.8"
      ]
     },
     "execution_count": 5,
     "metadata": {},
     "output_type": "execute_result"
    }
   ],
   "source": [
    "marks[2]"
   ]
  },
  {
   "cell_type": "code",
   "execution_count": 6,
   "id": "5c4628e9",
   "metadata": {},
   "outputs": [
    {
     "name": "stdout",
     "output_type": "stream",
     "text": [
      "[78.8, 65.9, 90.8]\n"
     ]
    }
   ],
   "source": [
    "marks[1]=65.9\n",
    "print(marks)"
   ]
  },
  {
   "cell_type": "code",
   "execution_count": 7,
   "id": "24abbcb8",
   "metadata": {},
   "outputs": [
    {
     "data": {
      "text/plain": [
       "65.9"
      ]
     },
     "execution_count": 7,
     "metadata": {},
     "output_type": "execute_result"
    }
   ],
   "source": [
    "marks[1]"
   ]
  },
  {
   "cell_type": "code",
   "execution_count": 8,
   "id": "0379e84d",
   "metadata": {},
   "outputs": [
    {
     "data": {
      "text/plain": [
       "['Jack DSouza', 23, 'Python']"
      ]
     },
     "execution_count": 8,
     "metadata": {},
     "output_type": "execute_result"
    }
   ],
   "source": [
    "studentdetails[0 : 3]"
   ]
  },
  {
   "cell_type": "code",
   "execution_count": 10,
   "id": "938d71d9",
   "metadata": {},
   "outputs": [],
   "source": [
    "del studentdetails[:]"
   ]
  },
  {
   "cell_type": "code",
   "execution_count": 11,
   "id": "5c731363",
   "metadata": {},
   "outputs": [
    {
     "name": "stdout",
     "output_type": "stream",
     "text": [
      "[]\n"
     ]
    }
   ],
   "source": [
    "print(studentdetails)"
   ]
  },
  {
   "cell_type": "code",
   "execution_count": 12,
   "id": "bd929f63",
   "metadata": {},
   "outputs": [
    {
     "name": "stdout",
     "output_type": "stream",
     "text": [
      "['Steve Smith', 12, 'Java', 'M', 'Chicago']\n"
     ]
    }
   ],
   "source": [
    "studentdetails=[\"Steve Smith\",12,\"Java\",'M',\"Chicago\"]\n",
    "print(studentdetails)"
   ]
  },
  {
   "cell_type": "code",
   "execution_count": 13,
   "id": "40520860",
   "metadata": {},
   "outputs": [
    {
     "name": "stdout",
     "output_type": "stream",
     "text": [
      "True\n"
     ]
    }
   ],
   "source": [
    "details = studentdetails\n",
    "print(details is studentdetails)"
   ]
  },
  {
   "cell_type": "code",
   "execution_count": 14,
   "id": "3d3e3f50",
   "metadata": {},
   "outputs": [
    {
     "name": "stdout",
     "output_type": "stream",
     "text": [
      "['Steve Smith', 12, 'Java', 'M', 'Chicago']\n"
     ]
    }
   ],
   "source": [
    "print(details)"
   ]
  },
  {
   "cell_type": "code",
   "execution_count": 15,
   "id": "34382132",
   "metadata": {},
   "outputs": [
    {
     "name": "stdout",
     "output_type": "stream",
     "text": [
      "['Steve Smith', 20, 'Java', 'M', 'Chicago']\n"
     ]
    }
   ],
   "source": [
    "details[1]=20\n",
    "print(details)"
   ]
  },
  {
   "cell_type": "code",
   "execution_count": 16,
   "id": "dd572a50",
   "metadata": {},
   "outputs": [
    {
     "name": "stdout",
     "output_type": "stream",
     "text": [
      "True\n"
     ]
    }
   ],
   "source": [
    "print(details is studentdetails)"
   ]
  },
  {
   "cell_type": "code",
   "execution_count": 17,
   "id": "a717aea0",
   "metadata": {},
   "outputs": [
    {
     "name": "stdout",
     "output_type": "stream",
     "text": [
      "[1, 2, 3, 4, 5]\n"
     ]
    }
   ],
   "source": [
    "l1=[1,2,3,4,5]\n",
    "l2 = l1\n",
    "print(l2)"
   ]
  },
  {
   "cell_type": "code",
   "execution_count": 18,
   "id": "9e159ed6",
   "metadata": {},
   "outputs": [
    {
     "name": "stdout",
     "output_type": "stream",
     "text": [
      "True\n"
     ]
    }
   ],
   "source": [
    "print(l2 is l1)"
   ]
  },
  {
   "cell_type": "code",
   "execution_count": 19,
   "id": "8fa71558",
   "metadata": {},
   "outputs": [
    {
     "name": "stdout",
     "output_type": "stream",
     "text": [
      "[1, 2, 3, 4, 5]\n"
     ]
    }
   ],
   "source": [
    "l3 = l1[:]\n",
    "print(l3)"
   ]
  },
  {
   "cell_type": "code",
   "execution_count": 20,
   "id": "3669b708",
   "metadata": {},
   "outputs": [
    {
     "name": "stdout",
     "output_type": "stream",
     "text": [
      "False\n"
     ]
    }
   ],
   "source": [
    "print(l3 is l1)"
   ]
  },
  {
   "cell_type": "code",
   "execution_count": 21,
   "id": "32b3ce27",
   "metadata": {},
   "outputs": [
    {
     "name": "stdout",
     "output_type": "stream",
     "text": [
      "[1, 2, 3, 4, 5]\n"
     ]
    }
   ],
   "source": [
    "print(l1)"
   ]
  },
  {
   "cell_type": "code",
   "execution_count": 22,
   "id": "da0633ae",
   "metadata": {},
   "outputs": [
    {
     "name": "stdout",
     "output_type": "stream",
     "text": [
      "[1, 2, 3, 4, 5, 50]\n"
     ]
    }
   ],
   "source": [
    "l1.append(50)\n",
    "print(l1)"
   ]
  },
  {
   "cell_type": "code",
   "execution_count": 23,
   "id": "40b56190",
   "metadata": {},
   "outputs": [
    {
     "name": "stdout",
     "output_type": "stream",
     "text": [
      "[1, 2, 3, 4, 5, 50, 'Java']\n"
     ]
    }
   ],
   "source": [
    "l1.append(\"Java\")\n",
    "print(l1)"
   ]
  },
  {
   "cell_type": "code",
   "execution_count": 24,
   "id": "a9b69935",
   "metadata": {},
   "outputs": [
    {
     "name": "stdout",
     "output_type": "stream",
     "text": [
      "[1, 2, 'Dilip', 3, 4, 5, 50, 'Java']\n"
     ]
    }
   ],
   "source": [
    "l1.insert(2,\"Dilip\")\n",
    "print(l1)"
   ]
  },
  {
   "cell_type": "code",
   "execution_count": 25,
   "id": "2998f925",
   "metadata": {},
   "outputs": [
    {
     "name": "stdout",
     "output_type": "stream",
     "text": [
      "[1, 2, 'Dilip', 3, 4, 5, 50, 'Java', 12, 'M', 'NewYork']\n"
     ]
    }
   ],
   "source": [
    "l1.extend([12,'M',\"NewYork\"])\n",
    "print(l1)"
   ]
  },
  {
   "cell_type": "code",
   "execution_count": 48,
   "id": "638bab06",
   "metadata": {},
   "outputs": [
    {
     "ename": "NameError",
     "evalue": "name 'l1' is not defined",
     "output_type": "error",
     "traceback": [
      "\u001b[1;31m---------------------------------------------------------------------------\u001b[0m",
      "\u001b[1;31mNameError\u001b[0m                                 Traceback (most recent call last)",
      "\u001b[1;32m<ipython-input-48-3aaeff667d77>\u001b[0m in \u001b[0;36m<module>\u001b[1;34m\u001b[0m\n\u001b[1;32m----> 1\u001b[1;33m \u001b[0ml1\u001b[0m\u001b[1;33m.\u001b[0m\u001b[0mpop\u001b[0m\u001b[1;33m(\u001b[0m\u001b[1;36m2\u001b[0m\u001b[1;33m)\u001b[0m\u001b[1;33m\u001b[0m\u001b[1;33m\u001b[0m\u001b[0m\n\u001b[0m\u001b[0;32m      2\u001b[0m \u001b[0mprint\u001b[0m\u001b[1;33m(\u001b[0m\u001b[0ml1\u001b[0m\u001b[1;33m)\u001b[0m\u001b[1;33m\u001b[0m\u001b[1;33m\u001b[0m\u001b[0m\n",
      "\u001b[1;31mNameError\u001b[0m: name 'l1' is not defined"
     ]
    }
   ],
   "source": [
    "l1.pop(2)\n",
    "print(l1)"
   ]
  },
  {
   "cell_type": "code",
   "execution_count": 27,
   "id": "4dc259b6",
   "metadata": {},
   "outputs": [
    {
     "name": "stdout",
     "output_type": "stream",
     "text": [
      "[1, 2, 'Dilip', 3, 4, 5, 50, 'Java', 12]\n"
     ]
    }
   ],
   "source": [
    "l1.pop()\n",
    "print(l1)"
   ]
  },
  {
   "cell_type": "code",
   "execution_count": 31,
   "id": "eb4f022b",
   "metadata": {},
   "outputs": [],
   "source": [
    "l1.remove('Java')\n"
   ]
  },
  {
   "cell_type": "code",
   "execution_count": 32,
   "id": "843eebb2",
   "metadata": {},
   "outputs": [
    {
     "name": "stdout",
     "output_type": "stream",
     "text": [
      "[1, 2, 'Dilip', 3, 4, 5, 50, 12]\n"
     ]
    }
   ],
   "source": [
    "print(l1)"
   ]
  },
  {
   "cell_type": "code",
   "execution_count": 37,
   "id": "f7a62c99",
   "metadata": {},
   "outputs": [
    {
     "ename": "ValueError",
     "evalue": "list.remove(x): x not in list",
     "output_type": "error",
     "traceback": [
      "\u001b[1;31m---------------------------------------------------------------------------\u001b[0m",
      "\u001b[1;31mValueError\u001b[0m                                Traceback (most recent call last)",
      "\u001b[1;32m<ipython-input-37-284e576a3b6e>\u001b[0m in \u001b[0;36m<module>\u001b[1;34m\u001b[0m\n\u001b[1;32m----> 1\u001b[1;33m \u001b[0ml1\u001b[0m\u001b[1;33m.\u001b[0m\u001b[0mremove\u001b[0m\u001b[1;33m(\u001b[0m\u001b[1;36m1\u001b[0m\u001b[1;33m)\u001b[0m\u001b[1;33m\u001b[0m\u001b[1;33m\u001b[0m\u001b[0m\n\u001b[0m",
      "\u001b[1;31mValueError\u001b[0m: list.remove(x): x not in list"
     ]
    }
   ],
   "source": [
    "l1.remove(1)"
   ]
  },
  {
   "cell_type": "code",
   "execution_count": 38,
   "id": "fc0382bf",
   "metadata": {},
   "outputs": [
    {
     "name": "stdout",
     "output_type": "stream",
     "text": [
      "[2, 'Dilip', 3, 4, 5, 50, 12]\n"
     ]
    }
   ],
   "source": [
    "print(l1)"
   ]
  },
  {
   "cell_type": "code",
   "execution_count": 39,
   "id": "866977e1",
   "metadata": {},
   "outputs": [
    {
     "name": "stdout",
     "output_type": "stream",
     "text": [
      "[2, 'Dilip', 3, 4, 5, 12]\n"
     ]
    }
   ],
   "source": [
    "del(l1[5])\n",
    "print(l1)"
   ]
  },
  {
   "cell_type": "code",
   "execution_count": 41,
   "id": "67119f02",
   "metadata": {},
   "outputs": [
    {
     "ename": "NameError",
     "evalue": "name 'l1' is not defined",
     "output_type": "error",
     "traceback": [
      "\u001b[1;31m---------------------------------------------------------------------------\u001b[0m",
      "\u001b[1;31mNameError\u001b[0m                                 Traceback (most recent call last)",
      "\u001b[1;32m<ipython-input-41-b33a4ef98228>\u001b[0m in \u001b[0;36m<module>\u001b[1;34m\u001b[0m\n\u001b[1;32m----> 1\u001b[1;33m \u001b[1;32mdel\u001b[0m\u001b[1;33m(\u001b[0m\u001b[0ml1\u001b[0m\u001b[1;33m)\u001b[0m\u001b[1;33m\u001b[0m\u001b[1;33m\u001b[0m\u001b[0m\n\u001b[0m",
      "\u001b[1;31mNameError\u001b[0m: name 'l1' is not defined"
     ]
    }
   ],
   "source": [
    "del(l1)\n"
   ]
  },
  {
   "cell_type": "code",
   "execution_count": 42,
   "id": "55b4d7e9",
   "metadata": {},
   "outputs": [
    {
     "name": "stdout",
     "output_type": "stream",
     "text": [
      "[1, 2, 3, 4, 5]\n"
     ]
    }
   ],
   "source": [
    "print(l3)"
   ]
  },
  {
   "cell_type": "code",
   "execution_count": 43,
   "id": "491081ea",
   "metadata": {},
   "outputs": [
    {
     "name": "stdout",
     "output_type": "stream",
     "text": [
      "[5, 4, 3, 2, 1]\n"
     ]
    }
   ],
   "source": [
    "l3.reverse()\n",
    "print(l3)"
   ]
  },
  {
   "cell_type": "code",
   "execution_count": 44,
   "id": "1050edd5",
   "metadata": {},
   "outputs": [
    {
     "name": "stdout",
     "output_type": "stream",
     "text": [
      "[1, 2, 3, 4, 5]\n"
     ]
    }
   ],
   "source": [
    "print(l3[: : -1])"
   ]
  },
  {
   "cell_type": "code",
   "execution_count": 45,
   "id": "ff2a4463",
   "metadata": {},
   "outputs": [
    {
     "name": "stdout",
     "output_type": "stream",
     "text": [
      "[5, 8, 10, 30, 40, 90]\n"
     ]
    }
   ],
   "source": [
    "l4=[30,10,40,8,5,90]\n",
    "l4.sort()\n",
    "print(l4)"
   ]
  },
  {
   "cell_type": "code",
   "execution_count": 49,
   "id": "cc9f2c79",
   "metadata": {},
   "outputs": [
    {
     "name": "stdout",
     "output_type": "stream",
     "text": [
      "[5, 10, 30, 40, 90]\n"
     ]
    }
   ],
   "source": [
    "l4.pop(1)\n",
    "print(l4)"
   ]
  },
  {
   "cell_type": "code",
   "execution_count": 2,
   "id": "aecb4795",
   "metadata": {},
   "outputs": [
    {
     "name": "stdout",
     "output_type": "stream",
     "text": [
      "[1, 2, 3, 4, 5, 'a', 'b', 'c', 'd']\n"
     ]
    }
   ],
   "source": [
    "lst1=[1,2,3,4,5]\n",
    "lst2=[\"a\",\"b\",\"c\",\"d\"]\n",
    "lst3 = lst1 + lst2\n",
    "print(lst3)"
   ]
  },
  {
   "cell_type": "code",
   "execution_count": 3,
   "id": "7623a8d1",
   "metadata": {},
   "outputs": [
    {
     "name": "stdout",
     "output_type": "stream",
     "text": [
      "[1, 2, 3, 4, 5, 1, 2, 3, 4, 5]\n"
     ]
    }
   ],
   "source": [
    "print(lst1 * 2)"
   ]
  },
  {
   "cell_type": "code",
   "execution_count": 4,
   "id": "7cf98c14",
   "metadata": {},
   "outputs": [
    {
     "name": "stdout",
     "output_type": "stream",
     "text": [
      "[1, 2, 3, 4, 5]\n"
     ]
    }
   ],
   "source": [
    "print(lst1)"
   ]
  },
  {
   "cell_type": "code",
   "execution_count": 5,
   "id": "98590d92",
   "metadata": {},
   "outputs": [
    {
     "name": "stdout",
     "output_type": "stream",
     "text": [
      "[1, 2, 33, 4, 5]\n"
     ]
    }
   ],
   "source": [
    "lst1[2] = 33\n",
    "print(lst1)"
   ]
  },
  {
   "cell_type": "code",
   "execution_count": 6,
   "id": "d4f449ae",
   "metadata": {},
   "outputs": [
    {
     "data": {
      "text/plain": [
       "[1, 2, 33, 4, 5]"
      ]
     },
     "execution_count": 6,
     "metadata": {},
     "output_type": "execute_result"
    }
   ],
   "source": [
    "lst1"
   ]
  },
  {
   "cell_type": "code",
   "execution_count": 7,
   "id": "8434d7a5",
   "metadata": {},
   "outputs": [
    {
     "name": "stdout",
     "output_type": "stream",
     "text": [
      "True\n"
     ]
    }
   ],
   "source": [
    "print(33 in lst1)"
   ]
  },
  {
   "cell_type": "code",
   "execution_count": 8,
   "id": "4a57b357",
   "metadata": {},
   "outputs": [
    {
     "name": "stdout",
     "output_type": "stream",
     "text": [
      "False\n"
     ]
    }
   ],
   "source": [
    "print(5 not in lst1)"
   ]
  },
  {
   "cell_type": "code",
   "execution_count": 9,
   "id": "06a84380",
   "metadata": {},
   "outputs": [
    {
     "name": "stdout",
     "output_type": "stream",
     "text": [
      "33\n"
     ]
    }
   ],
   "source": [
    "print(max(lst1))"
   ]
  },
  {
   "cell_type": "code",
   "execution_count": 10,
   "id": "6e708836",
   "metadata": {},
   "outputs": [
    {
     "name": "stdout",
     "output_type": "stream",
     "text": [
      "1\n"
     ]
    }
   ],
   "source": [
    "print(min(lst1))"
   ]
  },
  {
   "cell_type": "code",
   "execution_count": 17,
   "id": "465a02fa",
   "metadata": {},
   "outputs": [
    {
     "name": "stdout",
     "output_type": "stream",
     "text": [
      "True\n"
     ]
    }
   ],
   "source": [
    "x=10\n",
    "y=10\n",
    "#print(x == y)\n",
    "print(x is y)"
   ]
  },
  {
   "cell_type": "code",
   "execution_count": 19,
   "id": "6e9bcaf3",
   "metadata": {},
   "outputs": [
    {
     "name": "stdout",
     "output_type": "stream",
     "text": [
      "True\n"
     ]
    }
   ],
   "source": [
    "x=[1,2,3,4,5]\n",
    "y=[1,2,3,4,5]\n",
    "z=y\n",
    "print(y is z)"
   ]
  },
  {
   "cell_type": "code",
   "execution_count": 20,
   "id": "d43c36b3",
   "metadata": {},
   "outputs": [
    {
     "name": "stdout",
     "output_type": "stream",
     "text": [
      "{'Sujal': 7888999999, 'Dilip': 99045454340, 'Sarita': 345464574, 'Viraj': 675685656}\n"
     ]
    }
   ],
   "source": [
    "teldirectory={\"Sujal\": 7888999999,\"Dilip\":99045454340, \"Sarita\":345464574,\"Viraj\":675685656}\n",
    "print(teldirectory)"
   ]
  },
  {
   "cell_type": "code",
   "execution_count": 21,
   "id": "879fad3b",
   "metadata": {},
   "outputs": [
    {
     "name": "stdout",
     "output_type": "stream",
     "text": [
      "<class 'dict'>\n"
     ]
    }
   ],
   "source": [
    "print(type(teldirectory))"
   ]
  },
  {
   "cell_type": "code",
   "execution_count": 22,
   "id": "59379e7f",
   "metadata": {},
   "outputs": [
    {
     "name": "stdout",
     "output_type": "stream",
     "text": [
      "{'Sujal': 9999998888, 'Dilip': 99045454340, 'Sarita': 345464574, 'Viraj': 675685656}\n"
     ]
    }
   ],
   "source": [
    "teldirectory[\"Sujal\"]=9999998888\n",
    "print(teldirectory)"
   ]
  },
  {
   "cell_type": "code",
   "execution_count": 23,
   "id": "07e0d014",
   "metadata": {},
   "outputs": [
    {
     "name": "stdout",
     "output_type": "stream",
     "text": [
      "4\n"
     ]
    }
   ],
   "source": [
    "print(len(teldirectory))"
   ]
  },
  {
   "cell_type": "code",
   "execution_count": 24,
   "id": "9e28bd1f",
   "metadata": {},
   "outputs": [
    {
     "name": "stdout",
     "output_type": "stream",
     "text": [
      "99045454340\n"
     ]
    }
   ],
   "source": [
    "print(teldirectory['Dilip'])"
   ]
  },
  {
   "cell_type": "code",
   "execution_count": 25,
   "id": "42eb543e",
   "metadata": {},
   "outputs": [
    {
     "name": "stdout",
     "output_type": "stream",
     "text": [
      "675685656\n"
     ]
    }
   ],
   "source": [
    "print(teldirectory.get('Viraj'))"
   ]
  },
  {
   "cell_type": "code",
   "execution_count": 26,
   "id": "753b05cf",
   "metadata": {},
   "outputs": [
    {
     "name": "stdout",
     "output_type": "stream",
     "text": [
      "{'Sujal': 9999998888, 'Dilip': 99045454340, 'Sarita': 345464574, 'Viraj': 675685656, 'Joel': 8990000099}\n"
     ]
    }
   ],
   "source": [
    "teldirectory['Joel']=8990000099\n",
    "print(teldirectory)"
   ]
  },
  {
   "cell_type": "code",
   "execution_count": 27,
   "id": "cc6aa2c4",
   "metadata": {},
   "outputs": [],
   "source": [
    "teldirectory.clear()"
   ]
  },
  {
   "cell_type": "code",
   "execution_count": 28,
   "id": "66077a14",
   "metadata": {},
   "outputs": [
    {
     "name": "stdout",
     "output_type": "stream",
     "text": [
      "{}\n"
     ]
    }
   ],
   "source": [
    "print(teldirectory)"
   ]
  },
  {
   "cell_type": "code",
   "execution_count": 29,
   "id": "b82c114e",
   "metadata": {},
   "outputs": [],
   "source": [
    "del teldirectory"
   ]
  },
  {
   "cell_type": "code",
   "execution_count": 30,
   "id": "3c8fecc9",
   "metadata": {},
   "outputs": [
    {
     "ename": "NameError",
     "evalue": "name 'teldirectory' is not defined",
     "output_type": "error",
     "traceback": [
      "\u001b[1;31m---------------------------------------------------------------------------\u001b[0m",
      "\u001b[1;31mNameError\u001b[0m                                 Traceback (most recent call last)",
      "\u001b[1;32m<ipython-input-30-c1905577f0f6>\u001b[0m in \u001b[0;36m<module>\u001b[1;34m\u001b[0m\n\u001b[1;32m----> 1\u001b[1;33m \u001b[0mprint\u001b[0m\u001b[1;33m(\u001b[0m\u001b[0mteldirectory\u001b[0m\u001b[1;33m)\u001b[0m\u001b[1;33m\u001b[0m\u001b[1;33m\u001b[0m\u001b[0m\n\u001b[0m",
      "\u001b[1;31mNameError\u001b[0m: name 'teldirectory' is not defined"
     ]
    }
   ],
   "source": [
    "print(teldirectory)"
   ]
  },
  {
   "cell_type": "code",
   "execution_count": 31,
   "id": "464a8064",
   "metadata": {},
   "outputs": [
    {
     "name": "stdout",
     "output_type": "stream",
     "text": [
      "{'Sujal': 7888999999, 'Dilip': 99045454340, 'Sarita': 345464574, 'Viraj': 675685656}\n"
     ]
    }
   ],
   "source": [
    "teldirectory={\"Sujal\": 7888999999,\"Dilip\":99045454340, \"Sarita\":345464574,\"Viraj\":675685656}\n",
    "print(teldirectory)"
   ]
  },
  {
   "cell_type": "code",
   "execution_count": 32,
   "id": "34402bac",
   "metadata": {},
   "outputs": [
    {
     "name": "stdout",
     "output_type": "stream",
     "text": [
      "dict_items([('Sujal', 7888999999), ('Dilip', 99045454340), ('Sarita', 345464574), ('Viraj', 675685656)])\n"
     ]
    }
   ],
   "source": [
    "print(teldirectory.items())"
   ]
  },
  {
   "cell_type": "code",
   "execution_count": 33,
   "id": "66f7041a",
   "metadata": {},
   "outputs": [
    {
     "name": "stdout",
     "output_type": "stream",
     "text": [
      "dict_keys(['Sujal', 'Dilip', 'Sarita', 'Viraj'])\n"
     ]
    }
   ],
   "source": [
    "print(teldirectory.keys())"
   ]
  },
  {
   "cell_type": "code",
   "execution_count": 34,
   "id": "521bec8b",
   "metadata": {},
   "outputs": [
    {
     "name": "stdout",
     "output_type": "stream",
     "text": [
      "dict_values([7888999999, 99045454340, 345464574, 675685656])\n"
     ]
    }
   ],
   "source": [
    "print(teldirectory.values())"
   ]
  },
  {
   "cell_type": "code",
   "execution_count": 35,
   "id": "be555586",
   "metadata": {},
   "outputs": [
    {
     "name": "stdout",
     "output_type": "stream",
     "text": [
      "{'Apple': 100, 'Mango': 500, 'Grapes': 50, 'Brinjal': 40, 'Cucumber': 20, 'Tomato': 100}\n"
     ]
    }
   ],
   "source": [
    "fruit1={\"Apple\":100, \"Mango\": 500, \"Grapes\":50}\n",
    "veg1={\"Brinjal\":40, \"Cucumber\":20,\"Tomato\":100}\n",
    "fruit1.update(veg1)\n",
    "print(fruit1)"
   ]
  },
  {
   "cell_type": "code",
   "execution_count": 36,
   "id": "78990ac5",
   "metadata": {},
   "outputs": [
    {
     "data": {
      "text/plain": [
       "675685656"
      ]
     },
     "execution_count": 36,
     "metadata": {},
     "output_type": "execute_result"
    }
   ],
   "source": [
    "teldirectory.pop(\"Viraj\")"
   ]
  },
  {
   "cell_type": "code",
   "execution_count": 37,
   "id": "70f3727e",
   "metadata": {},
   "outputs": [
    {
     "name": "stdout",
     "output_type": "stream",
     "text": [
      "{'Sujal': 7888999999, 'Dilip': 99045454340, 'Sarita': 345464574}\n"
     ]
    }
   ],
   "source": [
    "print(teldirectory)"
   ]
  },
  {
   "cell_type": "code",
   "execution_count": 38,
   "id": "6d372718",
   "metadata": {},
   "outputs": [
    {
     "name": "stdout",
     "output_type": "stream",
     "text": [
      "{'Sonu': {'age': 20, 'birthyear': 2004}, 'Smith': {'age': 12, 'birthyear': 1990}}\n"
     ]
    }
   ],
   "source": [
    "myfamily={\"Sonu\":{\"age\":20,\"birthyear\":2004},\"Smith\":{\"age\":12,\"birthyear\":1990}}\n",
    "print(myfamily)"
   ]
  },
  {
   "cell_type": "code",
   "execution_count": 2,
   "id": "00662bac",
   "metadata": {},
   "outputs": [
    {
     "name": "stdout",
     "output_type": "stream",
     "text": [
      "{'Harry': 'Burger', 'Steve': 'Noodles', 'Jack': {'Breakfast': 'Omellete', 'Lunch': 'Rice', 'Dinner': 'Biryani'}}\n"
     ]
    }
   ],
   "source": [
    "Meal={\"Harry\":\"Burger\", \"Steve\":\"Noodles\",\"Jack\":{\"Breakfast\":\"Omellete\",\"Lunch\":\"Rice\",\"Dinner\":\"Biryani\"}}\n",
    "print(Meal)"
   ]
  },
  {
   "cell_type": "code",
   "execution_count": 40,
   "id": "831efa5a",
   "metadata": {},
   "outputs": [
    {
     "name": "stdout",
     "output_type": "stream",
     "text": [
      "Rice\n"
     ]
    }
   ],
   "source": [
    "print(Meal[\"Jack\"][\"Lunch\"])"
   ]
  },
  {
   "cell_type": "code",
   "execution_count": 41,
   "id": "b2237491",
   "metadata": {},
   "outputs": [
    {
     "name": "stdout",
     "output_type": "stream",
     "text": [
      "20\n"
     ]
    }
   ],
   "source": [
    "print(myfamily[\"Sonu\"][\"age\"])"
   ]
  },
  {
   "cell_type": "code",
   "execution_count": 42,
   "id": "b2bccbfe",
   "metadata": {},
   "outputs": [
    {
     "name": "stdout",
     "output_type": "stream",
     "text": [
      "100\n"
     ]
    }
   ],
   "source": [
    "print(fruit1[\"Apple\"])"
   ]
  },
  {
   "cell_type": "code",
   "execution_count": 3,
   "id": "f3c4c215",
   "metadata": {},
   "outputs": [
    {
     "name": "stdout",
     "output_type": "stream",
     "text": [
      "Noodles\n"
     ]
    }
   ],
   "source": [
    "print(Meal[\"Steve\"])"
   ]
  },
  {
   "cell_type": "code",
   "execution_count": 4,
   "id": "51d1bb2f",
   "metadata": {},
   "outputs": [
    {
     "name": "stdout",
     "output_type": "stream",
     "text": [
      "Omellete\n"
     ]
    }
   ],
   "source": [
    "print(Meal[\"Jack\"][\"Breakfast\"])"
   ]
  },
  {
   "cell_type": "code",
   "execution_count": 5,
   "id": "c39c31c3",
   "metadata": {},
   "outputs": [
    {
     "name": "stdout",
     "output_type": "stream",
     "text": [
      "{'a': 1, 'b': 3, 'c': 4}\n"
     ]
    }
   ],
   "source": [
    "x={'a':1,'b':2}\n",
    "y={'b':3,'c':4}\n",
    "z={**x, **y}\n",
    "print(z)"
   ]
  },
  {
   "cell_type": "code",
   "execution_count": 6,
   "id": "94904c66",
   "metadata": {},
   "outputs": [
    {
     "ename": "TypeError",
     "evalue": "unhashable type: 'dict'",
     "output_type": "error",
     "traceback": [
      "\u001b[1;31m---------------------------------------------------------------------------\u001b[0m",
      "\u001b[1;31mTypeError\u001b[0m                                 Traceback (most recent call last)",
      "\u001b[1;32m<ipython-input-6-4b65931347ba>\u001b[0m in \u001b[0;36m<module>\u001b[1;34m\u001b[0m\n\u001b[1;32m----> 1\u001b[1;33m \u001b[0mz\u001b[0m\u001b[1;33m=\u001b[0m\u001b[1;33m{\u001b[0m\u001b[0mx\u001b[0m\u001b[1;33m,\u001b[0m\u001b[0my\u001b[0m\u001b[1;33m}\u001b[0m\u001b[1;33m\u001b[0m\u001b[1;33m\u001b[0m\u001b[0m\n\u001b[0m\u001b[0;32m      2\u001b[0m \u001b[0mprint\u001b[0m\u001b[1;33m(\u001b[0m\u001b[0mz\u001b[0m\u001b[1;33m)\u001b[0m\u001b[1;33m\u001b[0m\u001b[1;33m\u001b[0m\u001b[0m\n",
      "\u001b[1;31mTypeError\u001b[0m: unhashable type: 'dict'"
     ]
    }
   ],
   "source": [
    "z={x,y}\n",
    "print(z)"
   ]
  },
  {
   "cell_type": "code",
   "execution_count": 9,
   "id": "98da4742",
   "metadata": {},
   "outputs": [
    {
     "name": "stdout",
     "output_type": "stream",
     "text": [
      "{'a': 1, 'b': 2, 'd': 3, 'c': 4}\n"
     ]
    }
   ],
   "source": [
    "x={'a':1,'b':2}\n",
    "y={'d':3,'c':4}\n",
    "x.update(y)\n",
    "print(x)"
   ]
  },
  {
   "cell_type": "code",
   "execution_count": 10,
   "id": "bcfbd1db",
   "metadata": {},
   "outputs": [
    {
     "name": "stdout",
     "output_type": "stream",
     "text": [
      "Enter your word:Python\n",
      "it is a easy to learn language\n"
     ]
    }
   ],
   "source": [
    "worddict={\"Python\":\"it is a easy to learn language\",\"Internet\":\"something that can be accessed over the cloud\",\"Corona\":\"It is a virus\"}\n",
    "word=input(\"Enter your word:\")\n",
    "print(worddict[word])"
   ]
  },
  {
   "cell_type": "code",
   "execution_count": 19,
   "id": "a889fc30",
   "metadata": {},
   "outputs": [
    {
     "name": "stdout",
     "output_type": "stream",
     "text": [
      "{'a': 4, 'b': 3, 'c': 2, 'd': 6}\n"
     ]
    }
   ],
   "source": [
    "xs = {'a': 4, 'b': 3, 'c': 2, 'd': 1,'d':6}\n",
    "print(xs)\n"
   ]
  },
  {
   "cell_type": "code",
   "execution_count": 18,
   "id": "a048f435",
   "metadata": {},
   "outputs": [
    {
     "name": "stdout",
     "output_type": "stream",
     "text": [
      "{'d': 1, 'c': 2, 'b': 3, 'a': 4}\n"
     ]
    }
   ],
   "source": [
    "ans=dict(sorted(xs.items(), key=lambda i : i[1]))\n",
    "print(ans)"
   ]
  },
  {
   "cell_type": "code",
   "execution_count": 15,
   "id": "5809d783",
   "metadata": {},
   "outputs": [
    {
     "name": "stdout",
     "output_type": "stream",
     "text": [
      "dict_items([('a', 4), ('b', 3), ('c', 2), ('d', 1)])\n"
     ]
    }
   ],
   "source": [
    "print(xs.items())"
   ]
  },
  {
   "cell_type": "code",
   "execution_count": 21,
   "id": "7fee3339",
   "metadata": {},
   "outputs": [
    {
     "name": "stdout",
     "output_type": "stream",
     "text": [
      "{'Jim', 'John', 'Bob', 'Max'}\n"
     ]
    }
   ],
   "source": [
    "set1={\"Max\",\"John\",\"Bob\",\"Jim\",\"John\"}\n",
    "print(set1)"
   ]
  },
  {
   "cell_type": "code",
   "execution_count": 22,
   "id": "17a276db",
   "metadata": {},
   "outputs": [
    {
     "name": "stdout",
     "output_type": "stream",
     "text": [
      "<class 'set'>\n"
     ]
    }
   ],
   "source": [
    "print(type(set1))"
   ]
  },
  {
   "cell_type": "code",
   "execution_count": 23,
   "id": "983d910a",
   "metadata": {},
   "outputs": [
    {
     "name": "stdout",
     "output_type": "stream",
     "text": [
      "{10, 12, 20, 6}\n"
     ]
    }
   ],
   "source": [
    "set2={12,6,10,20,12}\n",
    "print(set2)"
   ]
  },
  {
   "cell_type": "code",
   "execution_count": 24,
   "id": "52b2c315",
   "metadata": {},
   "outputs": [
    {
     "name": "stdout",
     "output_type": "stream",
     "text": [
      "{'M', 67.8, 'Max', 23}\n"
     ]
    }
   ],
   "source": [
    "set3={\"Max\",23,67.8,'M'}\n",
    "print(set3)"
   ]
  },
  {
   "cell_type": "code",
   "execution_count": 25,
   "id": "76fa6b0c",
   "metadata": {},
   "outputs": [
    {
     "name": "stdout",
     "output_type": "stream",
     "text": [
      "<class 'set'>\n"
     ]
    }
   ],
   "source": [
    "s4 = set()\n",
    "print(type(s4))"
   ]
  },
  {
   "cell_type": "code",
   "execution_count": 26,
   "id": "da719ce7",
   "metadata": {},
   "outputs": [
    {
     "name": "stdout",
     "output_type": "stream",
     "text": [
      "{50, 20, 40, 10, 30}\n"
     ]
    }
   ],
   "source": [
    "s4={10,20,30,40,50}\n",
    "print(s4)"
   ]
  },
  {
   "cell_type": "code",
   "execution_count": 27,
   "id": "470592b3",
   "metadata": {},
   "outputs": [
    {
     "name": "stdout",
     "output_type": "stream",
     "text": [
      "[10, 20, 30, 40]\n"
     ]
    }
   ],
   "source": [
    "lst=[10,20,30,40]\n",
    "print(lst)"
   ]
  },
  {
   "cell_type": "code",
   "execution_count": 28,
   "id": "92be87e4",
   "metadata": {},
   "outputs": [
    {
     "name": "stdout",
     "output_type": "stream",
     "text": [
      "{40, 10, 20, 30}\n"
     ]
    }
   ],
   "source": [
    "s5=set([10,20,30,40])\n",
    "print(s5)"
   ]
  },
  {
   "cell_type": "code",
   "execution_count": 29,
   "id": "a01eb29d",
   "metadata": {},
   "outputs": [
    {
     "name": "stdout",
     "output_type": "stream",
     "text": [
      "{40, 10, 20, 30}\n"
     ]
    }
   ],
   "source": [
    "s6=set(lst)\n",
    "print(s6)"
   ]
  },
  {
   "cell_type": "code",
   "execution_count": 30,
   "id": "9007c21b",
   "metadata": {},
   "outputs": [
    {
     "name": "stdout",
     "output_type": "stream",
     "text": [
      "{40, 10, 50, 20, 30}\n"
     ]
    }
   ],
   "source": [
    "s6.add(50)\n",
    "print(s6)"
   ]
  },
  {
   "cell_type": "code",
   "execution_count": 31,
   "id": "94fcd613",
   "metadata": {},
   "outputs": [
    {
     "data": {
      "text/plain": [
       "5"
      ]
     },
     "execution_count": 31,
     "metadata": {},
     "output_type": "execute_result"
    }
   ],
   "source": [
    "len(s6)"
   ]
  },
  {
   "cell_type": "code",
   "execution_count": 32,
   "id": "b08302cb",
   "metadata": {},
   "outputs": [
    {
     "name": "stdout",
     "output_type": "stream",
     "text": [
      "{40, 10, 50, 20, 30}\n"
     ]
    }
   ],
   "source": [
    "print(s6)"
   ]
  },
  {
   "cell_type": "code",
   "execution_count": 33,
   "id": "a004abfe",
   "metadata": {},
   "outputs": [
    {
     "name": "stdout",
     "output_type": "stream",
     "text": [
      "{33, 40, 10, 11, 44, 50, 20, 22, 55, 30}\n"
     ]
    }
   ],
   "source": [
    "s6.update([11,22,33,44,55])\n",
    "print(s6)"
   ]
  },
  {
   "cell_type": "code",
   "execution_count": 34,
   "id": "a9197cdd",
   "metadata": {},
   "outputs": [
    {
     "data": {
      "text/plain": [
       "10"
      ]
     },
     "execution_count": 34,
     "metadata": {},
     "output_type": "execute_result"
    }
   ],
   "source": [
    "len(s6)"
   ]
  },
  {
   "cell_type": "code",
   "execution_count": 35,
   "id": "0219d176",
   "metadata": {},
   "outputs": [
    {
     "name": "stdout",
     "output_type": "stream",
     "text": [
      "{40, 10, 11, 44, 50, 20, 22, 55, 30}\n"
     ]
    }
   ],
   "source": [
    "s6.remove(33)\n",
    "print(s6)"
   ]
  },
  {
   "cell_type": "code",
   "execution_count": 36,
   "id": "d7b112cd",
   "metadata": {},
   "outputs": [
    {
     "name": "stdout",
     "output_type": "stream",
     "text": [
      "{40, 10, 44, 50, 20, 22, 55, 30}\n"
     ]
    }
   ],
   "source": [
    "s6.discard(11)\n",
    "print(s6)"
   ]
  },
  {
   "cell_type": "code",
   "execution_count": 37,
   "id": "ae45dc5c",
   "metadata": {},
   "outputs": [
    {
     "name": "stdout",
     "output_type": "stream",
     "text": [
      "{40, 10, 44, 50, 20, 22, 55, 30}\n"
     ]
    }
   ],
   "source": [
    "s6.discard(100)\n",
    "print(s6)"
   ]
  },
  {
   "cell_type": "code",
   "execution_count": 38,
   "id": "d282fe2b",
   "metadata": {},
   "outputs": [
    {
     "ename": "KeyError",
     "evalue": "100",
     "output_type": "error",
     "traceback": [
      "\u001b[1;31m---------------------------------------------------------------------------\u001b[0m",
      "\u001b[1;31mKeyError\u001b[0m                                  Traceback (most recent call last)",
      "\u001b[1;32m<ipython-input-38-1aea01e22e24>\u001b[0m in \u001b[0;36m<module>\u001b[1;34m\u001b[0m\n\u001b[1;32m----> 1\u001b[1;33m \u001b[0ms6\u001b[0m\u001b[1;33m.\u001b[0m\u001b[0mremove\u001b[0m\u001b[1;33m(\u001b[0m\u001b[1;36m100\u001b[0m\u001b[1;33m)\u001b[0m\u001b[1;33m\u001b[0m\u001b[1;33m\u001b[0m\u001b[0m\n\u001b[0m\u001b[0;32m      2\u001b[0m \u001b[0mprint\u001b[0m\u001b[1;33m(\u001b[0m\u001b[0ms6\u001b[0m\u001b[1;33m)\u001b[0m\u001b[1;33m\u001b[0m\u001b[1;33m\u001b[0m\u001b[0m\n",
      "\u001b[1;31mKeyError\u001b[0m: 100"
     ]
    }
   ],
   "source": [
    "s6.remove(100)\n",
    "print(s6)"
   ]
  },
  {
   "cell_type": "code",
   "execution_count": 39,
   "id": "0c258425",
   "metadata": {},
   "outputs": [
    {
     "name": "stdout",
     "output_type": "stream",
     "text": [
      "{10, 44, 50, 20, 22, 55, 30}\n"
     ]
    }
   ],
   "source": [
    "s6.pop()\n",
    "print(s6)"
   ]
  },
  {
   "cell_type": "code",
   "execution_count": 1,
   "id": "f105c625",
   "metadata": {},
   "outputs": [
    {
     "name": "stdout",
     "output_type": "stream",
     "text": [
      "{1, 2, 3, 4, 5, 'max', 3.14, 'a'}\n"
     ]
    }
   ],
   "source": [
    "s7={1,2,3,4,5,'a',\"max\",3.14}\n",
    "print(s7)"
   ]
  },
  {
   "cell_type": "code",
   "execution_count": 2,
   "id": "9afed162",
   "metadata": {},
   "outputs": [
    {
     "name": "stdout",
     "output_type": "stream",
     "text": [
      "{1, 2, 3.14, 5, 'd'}\n"
     ]
    }
   ],
   "source": [
    "s8={2,1,5,'d',3.14}\n",
    "print(s8)"
   ]
  },
  {
   "cell_type": "code",
   "execution_count": 3,
   "id": "77ab63ce",
   "metadata": {},
   "outputs": [
    {
     "name": "stdout",
     "output_type": "stream",
     "text": [
      "{1, 2, 3, 4, 5, 'max', 3.14, 'a', 'd'}\n"
     ]
    }
   ],
   "source": [
    "print(s7 | s8) "
   ]
  },
  {
   "cell_type": "code",
   "execution_count": 4,
   "id": "71038a63",
   "metadata": {},
   "outputs": [
    {
     "name": "stdout",
     "output_type": "stream",
     "text": [
      "{1, 2, 3, 4, 5, 'max', 3.14, 'a', 'd'}\n"
     ]
    }
   ],
   "source": [
    "print(s7.union(s8))"
   ]
  },
  {
   "cell_type": "code",
   "execution_count": 5,
   "id": "3afe82b7",
   "metadata": {},
   "outputs": [
    {
     "name": "stdout",
     "output_type": "stream",
     "text": [
      "{1, 2, 3.14, 5}\n"
     ]
    }
   ],
   "source": [
    "print(s7 & s8)"
   ]
  },
  {
   "cell_type": "code",
   "execution_count": 6,
   "id": "e0490f3d",
   "metadata": {},
   "outputs": [
    {
     "name": "stdout",
     "output_type": "stream",
     "text": [
      "{1, 2, 3.14, 5}\n"
     ]
    }
   ],
   "source": [
    "print(s7.intersection(s8))"
   ]
  },
  {
   "cell_type": "code",
   "execution_count": 7,
   "id": "f32f2261",
   "metadata": {},
   "outputs": [
    {
     "name": "stdout",
     "output_type": "stream",
     "text": [
      "{'max', 3, 4, 'a'}\n"
     ]
    }
   ],
   "source": [
    "print(s7 - s8)"
   ]
  },
  {
   "cell_type": "code",
   "execution_count": 8,
   "id": "63398d36",
   "metadata": {},
   "outputs": [
    {
     "name": "stdout",
     "output_type": "stream",
     "text": [
      "{'max', 3, 4, 'a'}\n"
     ]
    }
   ],
   "source": [
    "print(s7.difference(s8))"
   ]
  },
  {
   "cell_type": "code",
   "execution_count": 9,
   "id": "9fee0bf6",
   "metadata": {},
   "outputs": [
    {
     "name": "stdout",
     "output_type": "stream",
     "text": [
      "frozenset({1, 2, 3, 4, 5, 'max', 3.14, 'a'})\n"
     ]
    }
   ],
   "source": [
    "s9=frozenset(s7)\n",
    "print(s9)"
   ]
  },
  {
   "cell_type": "code",
   "execution_count": 10,
   "id": "e9d32803",
   "metadata": {},
   "outputs": [
    {
     "ename": "TypeError",
     "evalue": "'frozenset' object does not support item assignment",
     "output_type": "error",
     "traceback": [
      "\u001b[1;31m---------------------------------------------------------------------------\u001b[0m",
      "\u001b[1;31mTypeError\u001b[0m                                 Traceback (most recent call last)",
      "\u001b[1;32m<ipython-input-10-5ee33faf9580>\u001b[0m in \u001b[0;36m<module>\u001b[1;34m\u001b[0m\n\u001b[1;32m----> 1\u001b[1;33m \u001b[0ms9\u001b[0m\u001b[1;33m[\u001b[0m\u001b[1;36m5\u001b[0m\u001b[1;33m]\u001b[0m\u001b[1;33m=\u001b[0m\u001b[1;34m'John'\u001b[0m\u001b[1;33m\u001b[0m\u001b[1;33m\u001b[0m\u001b[0m\n\u001b[0m",
      "\u001b[1;31mTypeError\u001b[0m: 'frozenset' object does not support item assignment"
     ]
    }
   ],
   "source": [
    "s9[5]='John'"
   ]
  },
  {
   "cell_type": "code",
   "execution_count": 11,
   "id": "845d8a74",
   "metadata": {},
   "outputs": [
    {
     "name": "stdout",
     "output_type": "stream",
     "text": [
      "{1, 2, 3.14, 5, 'd'}\n"
     ]
    }
   ],
   "source": [
    "print(s8)"
   ]
  },
  {
   "cell_type": "code",
   "execution_count": 13,
   "id": "3416bb93",
   "metadata": {},
   "outputs": [
    {
     "ename": "TypeError",
     "evalue": "'set' object does not support item assignment",
     "output_type": "error",
     "traceback": [
      "\u001b[1;31m---------------------------------------------------------------------------\u001b[0m",
      "\u001b[1;31mTypeError\u001b[0m                                 Traceback (most recent call last)",
      "\u001b[1;32m<ipython-input-13-b6e4148ae4e1>\u001b[0m in \u001b[0;36m<module>\u001b[1;34m\u001b[0m\n\u001b[1;32m----> 1\u001b[1;33m \u001b[0ms8\u001b[0m\u001b[1;33m[\u001b[0m\u001b[1;36m4\u001b[0m\u001b[1;33m]\u001b[0m\u001b[1;33m=\u001b[0m\u001b[1;34m'a'\u001b[0m\u001b[1;33m\u001b[0m\u001b[1;33m\u001b[0m\u001b[0m\n\u001b[0m",
      "\u001b[1;31mTypeError\u001b[0m: 'set' object does not support item assignment"
     ]
    }
   ],
   "source": [
    "s8[4]='a'"
   ]
  },
  {
   "cell_type": "code",
   "execution_count": 14,
   "id": "df5b9ccb",
   "metadata": {},
   "outputs": [],
   "source": [
    "s8.update('a')"
   ]
  },
  {
   "cell_type": "code",
   "execution_count": 15,
   "id": "ff6f36ca",
   "metadata": {},
   "outputs": [
    {
     "name": "stdout",
     "output_type": "stream",
     "text": [
      "{1, 2, 3.14, 5, 'a', 'd'}\n"
     ]
    }
   ],
   "source": [
    "print(s8)"
   ]
  },
  {
   "cell_type": "code",
   "execution_count": 16,
   "id": "01b66cfe",
   "metadata": {},
   "outputs": [],
   "source": [
    "s8.add(11)"
   ]
  },
  {
   "cell_type": "code",
   "execution_count": 17,
   "id": "dc3decae",
   "metadata": {},
   "outputs": [
    {
     "name": "stdout",
     "output_type": "stream",
     "text": [
      "{1, 2, 3.14, 5, 11, 'a', 'd'}\n"
     ]
    }
   ],
   "source": [
    "print(s8)"
   ]
  },
  {
   "cell_type": "code",
   "execution_count": null,
   "id": "6d3a4117",
   "metadata": {},
   "outputs": [],
   "source": []
  }
 ],
 "metadata": {
  "kernelspec": {
   "display_name": "Python 3",
   "language": "python",
   "name": "python3"
  },
  "language_info": {
   "codemirror_mode": {
    "name": "ipython",
    "version": 3
   },
   "file_extension": ".py",
   "mimetype": "text/x-python",
   "name": "python",
   "nbconvert_exporter": "python",
   "pygments_lexer": "ipython3",
   "version": "3.9.0"
  }
 },
 "nbformat": 4,
 "nbformat_minor": 5
}
