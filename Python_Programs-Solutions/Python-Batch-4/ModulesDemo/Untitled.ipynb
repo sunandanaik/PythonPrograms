{
 "cells": [
  {
   "cell_type": "code",
   "execution_count": 2,
   "id": "0431b0da",
   "metadata": {},
   "outputs": [
    {
     "name": "stdout",
     "output_type": "stream",
     "text": [
      "Sum is: 30\n",
      "Multiplication is: 8\n"
     ]
    }
   ],
   "source": [
    "import myfunctions as mf\n",
    "print(\"Sum is:\",mf.addnum(10,20))\n",
    "print(\"Multiplication is:\",mf.multiply(2,4))"
   ]
  },
  {
   "cell_type": "code",
   "execution_count": null,
   "id": "50e1b35c",
   "metadata": {},
   "outputs": [],
   "source": []
  }
 ],
 "metadata": {
  "kernelspec": {
   "display_name": "Python 3",
   "language": "python",
   "name": "python3"
  },
  "language_info": {
   "codemirror_mode": {
    "name": "ipython",
    "version": 3
   },
   "file_extension": ".py",
   "mimetype": "text/x-python",
   "name": "python",
   "nbconvert_exporter": "python",
   "pygments_lexer": "ipython3",
   "version": "3.9.0"
  }
 },
 "nbformat": 4,
 "nbformat_minor": 5
}
