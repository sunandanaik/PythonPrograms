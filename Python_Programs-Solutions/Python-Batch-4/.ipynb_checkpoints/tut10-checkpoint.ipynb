{
 "cells": [
  {
   "cell_type": "code",
   "execution_count": 1,
   "id": "a894a8cc",
   "metadata": {},
   "outputs": [
    {
     "name": "stdout",
     "output_type": "stream",
     "text": [
      "Hello Python\n",
      "Hello Python\n"
     ]
    }
   ],
   "source": [
    "print(\"Hello Python\") #built-in function\n",
    "\n",
    "def printsome(): #user-defined function\n",
    "    print(\"Hello Python\")\n",
    "    \n",
    "printsome()"
   ]
  },
  {
   "cell_type": "code",
   "execution_count": null,
   "id": "ca14c750",
   "metadata": {},
   "outputs": [],
   "source": [
    "math,random,os,sys,calendar #built-in modules\n",
    "#user-defined modules\n",
    "def addnum(a,b):\n",
    "    return a+b\n",
    "\n",
    "def multiply(a,b):\n",
    "    return a*b"
   ]
  }
 ],
 "metadata": {
  "kernelspec": {
   "display_name": "Python 3",
   "language": "python",
   "name": "python3"
  },
  "language_info": {
   "codemirror_mode": {
    "name": "ipython",
    "version": 3
   },
   "file_extension": ".py",
   "mimetype": "text/x-python",
   "name": "python",
   "nbconvert_exporter": "python",
   "pygments_lexer": "ipython3",
   "version": "3.9.0"
  }
 },
 "nbformat": 4,
 "nbformat_minor": 5
}
