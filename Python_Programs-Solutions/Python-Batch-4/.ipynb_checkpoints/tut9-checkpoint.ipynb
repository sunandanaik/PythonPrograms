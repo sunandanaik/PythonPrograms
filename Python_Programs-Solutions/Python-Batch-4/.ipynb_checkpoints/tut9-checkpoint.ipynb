{
 "cells": [
  {
   "cell_type": "markdown",
   "id": "57a09a8b",
   "metadata": {},
   "source": [
    "# Lambda/Anonymous/inline function"
   ]
  },
  {
   "cell_type": "code",
   "execution_count": 5,
   "id": "149c522a",
   "metadata": {},
   "outputs": [
    {
     "name": "stdout",
     "output_type": "stream",
     "text": [
      "Sum is: 30\n"
     ]
    }
   ],
   "source": [
    "def addnum(a,b):\n",
    "       return a+b\n",
    "    \n",
    "    \n",
    "print(\"Sum is:\",addnum(10,20))"
   ]
  },
  {
   "cell_type": "code",
   "execution_count": 11,
   "id": "e7d355e8",
   "metadata": {},
   "outputs": [
    {
     "name": "stdout",
     "output_type": "stream",
     "text": [
      "Enter first no:34\n",
      "Enter second no:20\n",
      "Sum is: 54\n"
     ]
    }
   ],
   "source": [
    "num1=int(input(\"Enter first no:\"))\n",
    "num2=int(input(\"Enter second no:\"))\n",
    "print(\"Sum is:\",(lambda a,b : a+b)(num1,num2))"
   ]
  },
  {
   "cell_type": "code",
   "execution_count": 12,
   "id": "4d991674",
   "metadata": {},
   "outputs": [
    {
     "name": "stdout",
     "output_type": "stream",
     "text": [
      "Result is: 8\n"
     ]
    }
   ],
   "source": [
    "def prodnum(a,b,c):\n",
    "    return a*b*c\n",
    "print(\"Result is:\",prodnum(2,2,2))\n",
    "    "
   ]
  },
  {
   "cell_type": "code",
   "execution_count": 13,
   "id": "1a9e5582",
   "metadata": {},
   "outputs": [
    {
     "name": "stdout",
     "output_type": "stream",
     "text": [
      "8\n"
     ]
    }
   ],
   "source": [
    "result=lambda a,b,c: a*b*c\n",
    "print(result(2,2,2))"
   ]
  },
  {
   "cell_type": "code",
   "execution_count": 26,
   "id": "6c0d7128",
   "metadata": {},
   "outputs": [
    {
     "name": "stdout",
     "output_type": "stream",
     "text": [
      "Enter the no:2\n",
      "Even No.\n"
     ]
    }
   ],
   "source": [
    "def checknum(n):\n",
    "    if n%2 == 0:\n",
    "        print(\"Even No.\")\n",
    "    else:\n",
    "        print(\"Odd no.\")\n",
    "        \n",
    "num=int(input(\"Enter the no:\"))        \n",
    "checknum(num)"
   ]
  },
  {
   "cell_type": "code",
   "execution_count": 25,
   "id": "927248fc",
   "metadata": {},
   "outputs": [
    {
     "name": "stdout",
     "output_type": "stream",
     "text": [
      "Enter the no:3\n",
      "Odd no\n"
     ]
    }
   ],
   "source": [
    "result=lambda n : n%2 == 0\n",
    "num=int(input(\"Enter the no:\"))\n",
    "if result(num):\n",
    "    print(\"Even no.\")\n",
    "else:\n",
    "    print(\"Odd no\")"
   ]
  },
  {
   "cell_type": "code",
   "execution_count": 27,
   "id": "4c524e35",
   "metadata": {},
   "outputs": [
    {
     "name": "stdout",
     "output_type": "stream",
     "text": [
      "nohtyP olleH\n"
     ]
    }
   ],
   "source": [
    "str=\"Hello Python\"\n",
    "print(str[ : :-1])"
   ]
  },
  {
   "cell_type": "code",
   "execution_count": 29,
   "id": "d54830ed",
   "metadata": {},
   "outputs": [
    {
     "name": "stdout",
     "output_type": "stream",
     "text": [
      "The reversed string is: nohtyP olleH\n"
     ]
    }
   ],
   "source": [
    "def reversename(str):\n",
    "    return str[ : :-1]\n",
    "\n",
    "result=reversename(\"Hello Python\")\n",
    "print(\"The reversed string is:\",result)"
   ]
  },
  {
   "cell_type": "code",
   "execution_count": 30,
   "id": "3783e753",
   "metadata": {},
   "outputs": [
    {
     "name": "stdout",
     "output_type": "stream",
     "text": [
      "The reversed string is: nohtyP olleH\n"
     ]
    }
   ],
   "source": [
    "result=lambda str : str[ : :-1]\n",
    "print(\"The reversed string is:\",result(\"Hello Python\"))"
   ]
  },
  {
   "cell_type": "code",
   "execution_count": 46,
   "id": "97b0578b",
   "metadata": {},
   "outputs": [
    {
     "name": "stdout",
     "output_type": "stream",
     "text": [
      "Sum is: 150\n",
      "Average is : 30.0\n"
     ]
    }
   ],
   "source": [
    "def avgnum(total,*args):\n",
    "    sum=0\n",
    "    for i in args:\n",
    "        sum=sum+i\n",
    "        average=sum/total\n",
    "    print(\"Sum is:\",sum)\n",
    "    print(\"Average is :\",average)\n",
    "    \n",
    "avgnum(5,10,20,30,40,50)"
   ]
  },
  {
   "cell_type": "code",
   "execution_count": 41,
   "id": "269e3c15",
   "metadata": {},
   "outputs": [
    {
     "ename": "SyntaxError",
     "evalue": "invalid syntax (<ipython-input-41-ec5a3dc4be3b>, line 2)",
     "output_type": "error",
     "traceback": [
      "\u001b[1;36m  File \u001b[1;32m\"<ipython-input-41-ec5a3dc4be3b>\"\u001b[1;36m, line \u001b[1;32m2\u001b[0m\n\u001b[1;33m    sum=[lambda i=s : s+=i for i in range(1,6)]\u001b[0m\n\u001b[1;37m                       ^\u001b[0m\n\u001b[1;31mSyntaxError\u001b[0m\u001b[1;31m:\u001b[0m invalid syntax\n"
     ]
    }
   ],
   "source": [
    "s=0\n",
    "sum=[lambda i=s : s+=i for i in range(1,6)]\n",
    "print(sum())"
   ]
  },
  {
   "cell_type": "code",
   "execution_count": 45,
   "id": "fc11c7d8",
   "metadata": {},
   "outputs": [
    {
     "name": "stdout",
     "output_type": "stream",
     "text": [
      "Sum is: 150\n",
      "Average is : 30.0\n"
     ]
    }
   ],
   "source": [
    "def calcsum(*args):\n",
    "    sum=0\n",
    "    for i in args:\n",
    "        sum=sum+i\n",
    "    return sum\n",
    "    \n",
    "sum=calcsum(10,20,30,40,50)\n",
    "print(\"Sum is:\",sum)\n",
    "\n",
    "average=lambda sum, total : sum/total\n",
    "print(\"Average is :\",average(sum,5))"
   ]
  },
  {
   "cell_type": "code",
   "execution_count": 3,
   "id": "c0e0a2c6",
   "metadata": {},
   "outputs": [
    {
     "name": "stdout",
     "output_type": "stream",
     "text": [
      "[111, 222, 333, 444, 555]\n"
     ]
    }
   ],
   "source": [
    "def checknum(n):\n",
    "    return n>100\n",
    "\n",
    "list1=[1,111,2,222,3,333,4,444,5,555,100]\n",
    "print(list(filter(checknum,list1)))"
   ]
  },
  {
   "cell_type": "code",
   "execution_count": 4,
   "id": "9c21cae8",
   "metadata": {},
   "outputs": [
    {
     "name": "stdout",
     "output_type": "stream",
     "text": [
      "[111, 222, 333, 444, 555]\n"
     ]
    }
   ],
   "source": [
    "#Using lambda method\n",
    "list1=[1,111,2,222,3,333,4,444,5,555,100]\n",
    "print(list(filter(lambda n : n>100,list1)))"
   ]
  },
  {
   "cell_type": "code",
   "execution_count": 5,
   "id": "f86a8519",
   "metadata": {},
   "outputs": [
    {
     "name": "stdout",
     "output_type": "stream",
     "text": [
      "[2, 222, 4, 444, 100]\n"
     ]
    }
   ],
   "source": [
    "list1=[1,111,2,222,3,333,4,444,5,555,100]\n",
    "print(list(filter(lambda n : n%2==0,list1)))"
   ]
  },
  {
   "cell_type": "code",
   "execution_count": 6,
   "id": "9707dc5d",
   "metadata": {},
   "outputs": [
    {
     "name": "stdout",
     "output_type": "stream",
     "text": [
      "[1, 111, 3, 333, 5, 555]\n"
     ]
    }
   ],
   "source": [
    "list1=[1,111,2,222,3,333,4,444,5,555,100]\n",
    "print(list(filter(lambda n : n%2!=0,list1)))"
   ]
  },
  {
   "cell_type": "code",
   "execution_count": 7,
   "id": "cbe9febd",
   "metadata": {},
   "outputs": [
    {
     "name": "stdout",
     "output_type": "stream",
     "text": [
      "[6, 7, 8, 9]\n"
     ]
    }
   ],
   "source": [
    "list2=[1,2,3,4,5,6,7,8,9,0]\n",
    "print(list(filter(lambda n : n>5, list2)))"
   ]
  },
  {
   "cell_type": "code",
   "execution_count": 9,
   "id": "5667a240",
   "metadata": {},
   "outputs": [
    {
     "name": "stdout",
     "output_type": "stream",
     "text": [
      "Reversed string is: elppa\n",
      "Reversed string is: ananab\n",
      "Reversed string is: ognam\n",
      "Reversed string is: separg\n"
     ]
    }
   ],
   "source": [
    "def revstr(s):\n",
    "    return s[ : : -1]\n",
    "\n",
    "fruits=[\"apple\",\"banana\",\"mango\",\"grapes\"]\n",
    "for s in fruits:\n",
    "    print(\"Reversed string is:\",revstr(s))"
   ]
  },
  {
   "cell_type": "code",
   "execution_count": 11,
   "id": "c2006379",
   "metadata": {},
   "outputs": [
    {
     "name": "stdout",
     "output_type": "stream",
     "text": [
      "['elppa', 'ananab', 'ognam', 'separg']\n"
     ]
    }
   ],
   "source": [
    "def revstr(s):\n",
    "    return s[ : : -1]\n",
    "\n",
    "\n",
    "fruits=[\"apple\",\"banana\",\"mango\",\"grapes\"]\n",
    "print(list(map(revstr,fruits)))"
   ]
  },
  {
   "cell_type": "code",
   "execution_count": 12,
   "id": "2b9b1af9",
   "metadata": {},
   "outputs": [
    {
     "name": "stdout",
     "output_type": "stream",
     "text": [
      "[89, 75, 65, 54]\n"
     ]
    }
   ],
   "source": [
    "marks=[89,75,65,54]\n",
    "print(marks)"
   ]
  },
  {
   "cell_type": "code",
   "execution_count": 13,
   "id": "712f86af",
   "metadata": {},
   "outputs": [
    {
     "name": "stdout",
     "output_type": "stream",
     "text": [
      "89\n",
      "75\n",
      "65\n",
      "54\n"
     ]
    }
   ],
   "source": [
    "marks=[89,75,65,54]\n",
    "for m in marks:\n",
    "    print(m)"
   ]
  },
  {
   "cell_type": "code",
   "execution_count": 19,
   "id": "9ad52462",
   "metadata": {},
   "outputs": [
    {
     "name": "stdout",
     "output_type": "stream",
     "text": [
      "[99, 85, 75, 64]\n"
     ]
    }
   ],
   "source": [
    "def showmarks(m):\n",
    "    return m +10\n",
    "\n",
    "marks=[89,75,65,54]\n",
    "print(list(map(showmarks,marks)))"
   ]
  },
  {
   "cell_type": "code",
   "execution_count": null,
   "id": "4a973f4d",
   "metadata": {},
   "outputs": [],
   "source": [
    "marks=[89,75,65,54]\n",
    "list(map(lambda m : m, marks)"
   ]
  },
  {
   "cell_type": "code",
   "execution_count": 2,
   "id": "d231b7ef",
   "metadata": {},
   "outputs": [
    {
     "name": "stdout",
     "output_type": "stream",
     "text": [
      "Sum is: 15\n"
     ]
    }
   ],
   "source": [
    "from functools import reduce\n",
    "def addnum(a,b):\n",
    "    return a+b\n",
    "\n",
    "numlist=[1,2,3,4,5]\n",
    "print(\"Sum is:\",reduce(addnum, numlist))\n"
   ]
  },
  {
   "cell_type": "code",
   "execution_count": 3,
   "id": "bb13e566",
   "metadata": {},
   "outputs": [
    {
     "name": "stdout",
     "output_type": "stream",
     "text": [
      "Sum is: 15\n"
     ]
    }
   ],
   "source": [
    "def addnum(a,b):\n",
    "    return a+b\n",
    "\n",
    "numlist=[1,2,3,4,5]\n",
    "sum=0\n",
    "for i in numlist:\n",
    "    sum=sum+i\n",
    "print(\"Sum is:\",sum)"
   ]
  },
  {
   "cell_type": "code",
   "execution_count": 4,
   "id": "3818f165",
   "metadata": {},
   "outputs": [
    {
     "name": "stdout",
     "output_type": "stream",
     "text": [
      "SujalSaritaViraj\n"
     ]
    }
   ],
   "source": [
    "from functools import reduce\n",
    "def addnum(a,b):\n",
    "    return a+b\n",
    "\n",
    "strlist=[\"Sujal\",\"Sarita\",\"Viraj\"]\n",
    "print(reduce(addnum,strlist))"
   ]
  },
  {
   "cell_type": "code",
   "execution_count": 5,
   "id": "8721c056",
   "metadata": {},
   "outputs": [
    {
     "name": "stdout",
     "output_type": "stream",
     "text": [
      "Sum is: 15\n"
     ]
    }
   ],
   "source": [
    "from functools import reduce\n",
    "numlist=[1,2,3,4,5]\n",
    "\n",
    "print(\"Sum is:\",reduce(lambda a,b: a+b , numlist))"
   ]
  },
  {
   "cell_type": "code",
   "execution_count": 7,
   "id": "43c160cb",
   "metadata": {},
   "outputs": [
    {
     "name": "stdout",
     "output_type": "stream",
     "text": [
      "Enter the Number:3\n",
      "The Factorial of 3 is:6\n"
     ]
    }
   ],
   "source": [
    "from functools import reduce\n",
    "def factnum(x,y):\n",
    "    return x*y\n",
    "\n",
    "n=int(input(\"Enter the Number:\"))\n",
    "print(f\"The Factorial of {n} is:{reduce(factnum,range(1,n+1))}\")"
   ]
  },
  {
   "cell_type": "code",
   "execution_count": 9,
   "id": "20d1586b",
   "metadata": {},
   "outputs": [
    {
     "name": "stdout",
     "output_type": "stream",
     "text": [
      "Enter the Number:9\n",
      "Factorial is: 362880\n"
     ]
    }
   ],
   "source": [
    "from functools import reduce\n",
    "\n",
    "n=int(input(\"Enter the Number:\"))\n",
    "print(\"Factorial is:\",reduce(lambda x,y:x*y, range(1,n+1)))"
   ]
  },
  {
   "cell_type": "code",
   "execution_count": 13,
   "id": "b5b2bdd6",
   "metadata": {},
   "outputs": [
    {
     "name": "stdout",
     "output_type": "stream",
     "text": [
      "Enter the Number:2\n",
      "The Factorial is : 2\n"
     ]
    }
   ],
   "source": [
    "from math import factorial\n",
    "n=int(input(\"Enter the Number:\"))\n",
    "print(\"The Factorial is :\",factorial(n))"
   ]
  },
  {
   "cell_type": "code",
   "execution_count": 16,
   "id": "27febc01",
   "metadata": {},
   "outputs": [
    {
     "name": "stdout",
     "output_type": "stream",
     "text": [
      "[8, 10, 13, 17, 22]\n"
     ]
    }
   ],
   "source": [
    "from itertools import accumulate\n",
    "import itertools\n",
    "\n",
    "def addnum(a,b):\n",
    "    return a+b\n",
    "\n",
    "numlist=[8,2,3,4,5]\n",
    "print(list(itertools.accumulate(numlist,addnum)))"
   ]
  },
  {
   "cell_type": "code",
   "execution_count": 17,
   "id": "842c393d",
   "metadata": {},
   "outputs": [
    {
     "name": "stdout",
     "output_type": "stream",
     "text": [
      "[8, 10, 13, 17, 22]\n"
     ]
    }
   ],
   "source": [
    "from itertools import accumulate\n",
    "import itertools\n",
    "\n",
    "numlist=[8,2,3,4,5]\n",
    "print(list(itertools.accumulate(numlist, lambda a,b:a+b)))"
   ]
  },
  {
   "cell_type": "code",
   "execution_count": 18,
   "id": "6d8a6d5a",
   "metadata": {},
   "outputs": [
    {
     "name": "stdout",
     "output_type": "stream",
     "text": [
      "['Apple', 'Mango', 'Banana', 'Grapes']\n"
     ]
    }
   ],
   "source": [
    "fruits=[\"Apple\",\"Mango\",\"Banana\",\"Grapes\"]\n",
    "\n",
    "print(fruits)"
   ]
  },
  {
   "cell_type": "code",
   "execution_count": 19,
   "id": "b15af968",
   "metadata": {},
   "outputs": [
    {
     "name": "stdout",
     "output_type": "stream",
     "text": [
      "Apple\n",
      "Mango\n",
      "Banana\n",
      "Grapes\n"
     ]
    }
   ],
   "source": [
    "fruits=[\"Apple\",\"Mango\",\"Banana\",\"Grapes\"]\n",
    "for i in fruits:\n",
    "    print(i)"
   ]
  },
  {
   "cell_type": "code",
   "execution_count": 22,
   "id": "fd069cc5",
   "metadata": {},
   "outputs": [
    {
     "name": "stdout",
     "output_type": "stream",
     "text": [
      "Index :  ItemName\n",
      "0 : Apple\n",
      "1 : Mango\n",
      "2 : Banana\n",
      "3 : Grapes\n"
     ]
    }
   ],
   "source": [
    "fruits=[\"Apple\",\"Mango\",\"Banana\",\"Grapes\"]\n",
    "print(\"Index : ItemName\")\n",
    "for index,item in enumerate(fruits):\n",
    "    print(index,\":\",item)"
   ]
  },
  {
   "cell_type": "code",
   "execution_count": null,
   "id": "18766fab",
   "metadata": {},
   "outputs": [],
   "source": []
  }
 ],
 "metadata": {
  "kernelspec": {
   "display_name": "Python 3",
   "language": "python",
   "name": "python3"
  },
  "language_info": {
   "codemirror_mode": {
    "name": "ipython",
    "version": 3
   },
   "file_extension": ".py",
   "mimetype": "text/x-python",
   "name": "python",
   "nbconvert_exporter": "python",
   "pygments_lexer": "ipython3",
   "version": "3.9.0"
  }
 },
 "nbformat": 4,
 "nbformat_minor": 5
}
