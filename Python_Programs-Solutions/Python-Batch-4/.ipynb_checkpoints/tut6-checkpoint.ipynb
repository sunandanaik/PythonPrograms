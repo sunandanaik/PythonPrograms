{
 "cells": [
  {
   "cell_type": "code",
   "execution_count": 1,
   "id": "be4e8152",
   "metadata": {},
   "outputs": [
    {
     "name": "stdout",
     "output_type": "stream",
     "text": [
      "[2340, 2500, 2100, 3100, 2900, 7800, 6700]\n"
     ]
    }
   ],
   "source": [
    "exp=[2340,2500,2100,3100,2900,7800,6700]\n",
    "print(exp)"
   ]
  },
  {
   "cell_type": "code",
   "execution_count": 2,
   "id": "8db75aea",
   "metadata": {},
   "outputs": [
    {
     "data": {
      "text/plain": [
       "2340"
      ]
     },
     "execution_count": 2,
     "metadata": {},
     "output_type": "execute_result"
    }
   ],
   "source": [
    "exp[0]"
   ]
  },
  {
   "cell_type": "code",
   "execution_count": 3,
   "id": "5fb5afec",
   "metadata": {},
   "outputs": [
    {
     "data": {
      "text/plain": [
       "2500"
      ]
     },
     "execution_count": 3,
     "metadata": {},
     "output_type": "execute_result"
    }
   ],
   "source": [
    "exp[1]"
   ]
  },
  {
   "cell_type": "code",
   "execution_count": 4,
   "id": "0395f1ab",
   "metadata": {},
   "outputs": [
    {
     "name": "stdout",
     "output_type": "stream",
     "text": [
      "27440\n"
     ]
    }
   ],
   "source": [
    "total=exp[0]+exp[1]+exp[2]+exp[3]+exp[4]+exp[5]+exp[6]\n",
    "print(total)"
   ]
  },
  {
   "cell_type": "code",
   "execution_count": null,
   "id": "5b4fb03f",
   "metadata": {},
   "outputs": [],
   "source": [
    "exp=[2340,2500,2100,3100,2900,7800,6700]\n",
    "total=0 #2340\n",
    "item=0\n",
    "print(len(exp))\n",
    "while item < len(exp):\n",
    "    print(\"hello\",exp[item])\n",
    "    item+=1"
   ]
  },
  {
   "cell_type": "code",
   "execution_count": null,
   "id": "c362fb16",
   "metadata": {},
   "outputs": [],
   "source": []
  }
 ],
 "metadata": {
  "kernelspec": {
   "display_name": "Python 3",
   "language": "python",
   "name": "python3"
  },
  "language_info": {
   "codemirror_mode": {
    "name": "ipython",
    "version": 3
   },
   "file_extension": ".py",
   "mimetype": "text/x-python",
   "name": "python",
   "nbconvert_exporter": "python",
   "pygments_lexer": "ipython3",
   "version": "3.9.0"
  }
 },
 "nbformat": 4,
 "nbformat_minor": 5
}
