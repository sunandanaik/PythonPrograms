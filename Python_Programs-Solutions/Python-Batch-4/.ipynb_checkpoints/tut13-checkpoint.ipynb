{
 "cells": [
  {
   "cell_type": "code",
   "execution_count": 7,
   "id": "d8cf488f",
   "metadata": {},
   "outputs": [
    {
     "name": "stdout",
     "output_type": "stream",
     "text": [
      "Title of Poetry is: Leaves of Grass\n",
      "Author is : Walt Whitman\n",
      "Price is : 600\n",
      "Poem Count is: 383\n",
      "Title of Poetry is: Leaves of Grass\n",
      "Author is : Walt Whitman\n",
      "Price is : 510.0\n",
      "Poem Count is: 383\n",
      "Title of Poetry is: Spiderman\n",
      "Author is : Stan Lee\n",
      "Price is : 250\n",
      "Issues No: 134\n",
      "Title of Poetry is: To kill a Mockingbird\n",
      "Author is : Harper Lee\n",
      "Price is : 310\n",
      "Pages: 281\n"
     ]
    }
   ],
   "source": [
    "class Book():\n",
    "    title=\"\"\n",
    "    author=\"\"\n",
    "    __price=0\n",
    "    __discount=0\n",
    "    def __init__(self,title,author,price):\n",
    "        self.title = title\n",
    "        self.author = author\n",
    "        self.__price = price\n",
    "        self.__discount=None\n",
    "        \n",
    "    def setDiscount(self,d):\n",
    "        self.__discount = d\n",
    "        \n",
    "    def getPrice(self):\n",
    "        if self.__discount is None:\n",
    "            return self.__price\n",
    "        else:\n",
    "            return self.__price * (1-self.__discount)\n",
    "                  \n",
    "class Poetry(Book):\n",
    "    poems_count=0\n",
    "    def __init__(self,poems_count,title,author,price):\n",
    "        super().__init__(title,author,price)\n",
    "        self.poems_count = poems_count\n",
    "        \n",
    "    def showPoetry(self):\n",
    "        print(\"Title of Poetry is:\",self.title)\n",
    "        print(\"Author is :\",self.author)\n",
    "        print(\"Price is :\",self.getPrice())\n",
    "        print(\"Poem Count is:\",self.poems_count)\n",
    "        \n",
    "class Comic(Book):\n",
    "    issues=0\n",
    "    def __init__(self,issues,title,author,price):\n",
    "        super().__init__(title,author,price)\n",
    "        self.issues=issues\n",
    "        \n",
    "    def showComic(self):\n",
    "        print(\"Title of Poetry is:\",self.title)\n",
    "        print(\"Author is :\",self.author)\n",
    "        print(\"Price is :\",self.getPrice())\n",
    "        print(\"Issues No:\",self.issues)\n",
    "        \n",
    "class Novel(Book):\n",
    "    pages=0\n",
    "    def __init__(self,pages,title,author,price):\n",
    "        super().__init__(title,author,price)\n",
    "        self.pages=pages\n",
    "        \n",
    "    def showNovel(self):\n",
    "        print(\"Title of Poetry is:\",self.title)\n",
    "        print(\"Author is :\",self.author)\n",
    "        print(\"Price is :\",self.getPrice())\n",
    "        print(\"Pages:\",self.pages)\n",
    "    \n",
    "    \n",
    "#Creating Object of Poetry class\n",
    "poem_1 = Poetry(383,'Leaves of Grass', 'Walt Whitman', 600)\n",
    "poem_1.showPoetry()\n",
    "poem_1.setDiscount(0.15)\n",
    "poem_1.showPoetry()\n",
    "\n",
    "comic_1=Comic(134,\"Spiderman\",\"Stan Lee\",250)\n",
    "comic_1.showComic()\n",
    "\n",
    "novel_1 = Novel(281,'To kill a Mockingbird', 'Harper Lee', 310)\n",
    "novel_1.showNovel()"
   ]
  },
  {
   "cell_type": "code",
   "execution_count": 2,
   "id": "4031225f",
   "metadata": {},
   "outputs": [
    {
     "name": "stdout",
     "output_type": "stream",
     "text": [
      "The Super car has 4 doors,4 wheels, Engine is:V8 and Wheel Drive System is :AWD\n",
      "I am driving McLaren 720S Syder supercar\n"
     ]
    }
   ],
   "source": [
    "class Car():\n",
    "    ndoors=0\n",
    "    nwheels=0\n",
    "    taillights=\"\"\n",
    "    headlights=\"\"\n",
    "    def __init__(self,ndoors,nwheels,taillights,headlights):\n",
    "        self.ndoors=ndoors\n",
    "        self.nwheels=nwheels\n",
    "        self.taillights=taillights\n",
    "        self.headlights=headlights\n",
    "        \n",
    "class McLaren(Car):\n",
    "    engine=\"\"\n",
    "    wheeldrive=\"\"\n",
    "    def __init__(self,ndoors,nwheels,taillights,headlights,engine,wheeldrive):\n",
    "        Car.__init__(self,ndoors,nwheels,taillights,headlights)\n",
    "        self.engine=engine\n",
    "        self.wheeldrive=wheeldrive\n",
    "    def drive(self):\n",
    "        print(\"I am driving McLaren 720S Syder supercar\")\n",
    "        \n",
    "    def __repr__(self):\n",
    "        return f\"The Super car has {self.ndoors} doors,{self.nwheels} wheels, Engine is:{self.engine} and Wheel Drive System is :{self.wheeldrive}\"\n",
    "        \n",
    "#Creating Objects\n",
    "supercar=McLaren(4,4,\"Yes\",\"Yes\",\"V8\",\"AWD\")\n",
    "print(supercar)\n",
    "supercar.drive()"
   ]
  },
  {
   "cell_type": "code",
   "execution_count": 3,
   "id": "88d8e1c9",
   "metadata": {},
   "outputs": [
    {
     "name": "stdout",
     "output_type": "stream",
     "text": [
      "I am a Car\n"
     ]
    },
    {
     "ename": "NameError",
     "evalue": "name 'general_usage' is not defined",
     "output_type": "error",
     "traceback": [
      "\u001b[1;31m---------------------------------------------------------------------------\u001b[0m",
      "\u001b[1;31mNameError\u001b[0m                                 Traceback (most recent call last)",
      "\u001b[1;32m<ipython-input-3-164eff080585>\u001b[0m in \u001b[0;36m<module>\u001b[1;34m\u001b[0m\n\u001b[0;32m     23\u001b[0m \u001b[1;33m\u001b[0m\u001b[0m\n\u001b[0;32m     24\u001b[0m \u001b[0maudi\u001b[0m\u001b[1;33m=\u001b[0m\u001b[0mCar\u001b[0m\u001b[1;33m(\u001b[0m\u001b[1;33m)\u001b[0m\u001b[1;33m\u001b[0m\u001b[1;33m\u001b[0m\u001b[0m\n\u001b[1;32m---> 25\u001b[1;33m \u001b[0maudi\u001b[0m\u001b[1;33m.\u001b[0m\u001b[0mwork\u001b[0m\u001b[1;33m(\u001b[0m\u001b[1;33m)\u001b[0m\u001b[1;33m\u001b[0m\u001b[1;33m\u001b[0m\u001b[0m\n\u001b[0m\u001b[0;32m     26\u001b[0m \u001b[1;33m\u001b[0m\u001b[0m\n\u001b[0;32m     27\u001b[0m \u001b[1;33m\u001b[0m\u001b[0m\n",
      "\u001b[1;32m<ipython-input-3-164eff080585>\u001b[0m in \u001b[0;36mwork\u001b[1;34m(self)\u001b[0m\n\u001b[0;32m     10\u001b[0m \u001b[1;33m\u001b[0m\u001b[0m\n\u001b[0;32m     11\u001b[0m     \u001b[1;32mdef\u001b[0m \u001b[0mwork\u001b[0m\u001b[1;33m(\u001b[0m\u001b[0mself\u001b[0m\u001b[1;33m)\u001b[0m\u001b[1;33m:\u001b[0m\u001b[1;33m\u001b[0m\u001b[1;33m\u001b[0m\u001b[0m\n\u001b[1;32m---> 12\u001b[1;33m         \u001b[0mgeneral_usage\u001b[0m\u001b[1;33m(\u001b[0m\u001b[1;33m)\u001b[0m\u001b[1;33m\u001b[0m\u001b[1;33m\u001b[0m\u001b[0m\n\u001b[0m\u001b[0;32m     13\u001b[0m         \u001b[0mprint\u001b[0m\u001b[1;33m(\u001b[0m\u001b[1;34m\"I take family for vacation, and I commute to work.\"\u001b[0m\u001b[1;33m)\u001b[0m\u001b[1;33m\u001b[0m\u001b[1;33m\u001b[0m\u001b[0m\n\u001b[0;32m     14\u001b[0m \u001b[1;33m\u001b[0m\u001b[0m\n",
      "\u001b[1;31mNameError\u001b[0m: name 'general_usage' is not defined"
     ]
    }
   ],
   "source": [
    "class Vehicle():\n",
    "    def general_usage(self):\n",
    "        print(\"Used for General Transportation\")\n",
    "        \n",
    "class Car(Vehicle):\n",
    "    def __init__(self):\n",
    "        print(\"I am a Car\")\n",
    "        self.wheels=4\n",
    "        self.roof=True\n",
    "        \n",
    "    def work(self):\n",
    "        self.general_usage()\n",
    "        print(\"I take family for vacation, and I commute to work.\")\n",
    "        \n",
    "class Bike(Vehicle):\n",
    "    def __init__(self):\n",
    "        print(\"I am a Bike\")\n",
    "        self.wheels=2\n",
    "        self.roof=False\n",
    "    def work(self):\n",
    "        self.general_usage()\n",
    "        print(\"I go for Racing and I go for Road Trip.\")\n",
    "        \n",
    "audi=Car()\n",
    "audi.work()\n",
    "\n",
    "    \n",
    "    \n"
   ]
  },
  {
   "cell_type": "code",
   "execution_count": null,
   "id": "115ae333",
   "metadata": {},
   "outputs": [],
   "source": []
  }
 ],
 "metadata": {
  "kernelspec": {
   "display_name": "Python 3",
   "language": "python",
   "name": "python3"
  },
  "language_info": {
   "codemirror_mode": {
    "name": "ipython",
    "version": 3
   },
   "file_extension": ".py",
   "mimetype": "text/x-python",
   "name": "python",
   "nbconvert_exporter": "python",
   "pygments_lexer": "ipython3",
   "version": "3.9.0"
  }
 },
 "nbformat": 4,
 "nbformat_minor": 5
}
