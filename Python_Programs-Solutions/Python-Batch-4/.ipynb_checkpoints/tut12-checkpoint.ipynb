{
 "cells": [
  {
   "cell_type": "code",
   "execution_count": 8,
   "id": "75392c4b",
   "metadata": {},
   "outputs": [
    {
     "name": "stdout",
     "output_type": "stream",
     "text": [
      "Name is: pikachu\n",
      "Hello Pikachu\n",
      "Name: pikachu\n",
      "Type is: elctric\n",
      "Health is : 70\n",
      "Color is: yellow\n"
     ]
    }
   ],
   "source": [
    "#Step-1: Creating a Class\n",
    "class Pokemon():\n",
    "    name=\"pikachu\"\n",
    "    Type=\"elctric\"\n",
    "    health=70\n",
    "    color=\"yellow\"\n",
    "    \n",
    "    def showDetails(self):\n",
    "        print(\"Hello Pikachu\")\n",
    "        print(\"Name:\",self.name)\n",
    "        print(\"Type is:\",self.Type)\n",
    "        print(\"Health is :\",self.health)\n",
    "        print(\"Color is:\",self.color)\n",
    "            \n",
    "#Step-2:Creating Object\n",
    "obj=Pokemon()\n",
    "print(\"Name is:\",obj.name)\n",
    "obj.showDetails()\n"
   ]
  },
  {
   "cell_type": "code",
   "execution_count": 9,
   "id": "2011b6d2",
   "metadata": {},
   "outputs": [
    {
     "name": "stdout",
     "output_type": "stream",
     "text": [
      "Addition is: 30\n",
      "Multiplication is: 200\n",
      "Division is: 0.5\n",
      "Subtraction is: -10\n"
     ]
    }
   ],
   "source": [
    "a=10\n",
    "b=20\n",
    "sum=a+b\n",
    "print(\"Addition is:\",sum)\n",
    "\n",
    "multi=a*b\n",
    "print(\"Multiplication is:\",multi)\n",
    "\n",
    "div =a/b\n",
    "print(\"Division is:\",div)\n",
    "\n",
    "sub=a-b\n",
    "print(\"Subtraction is:\",sub)"
   ]
  },
  {
   "cell_type": "code",
   "execution_count": 11,
   "id": "78f43539",
   "metadata": {},
   "outputs": [
    {
     "name": "stdout",
     "output_type": "stream",
     "text": [
      "Addition is: 30\n",
      "Multiplication is: 200\n",
      "Division is: 0.5\n",
      "Subtraction is: -10\n",
      "Addition is: 30\n",
      "Multiplication is: 200\n",
      "Division is: 0.5\n",
      "Subtraction is: -10\n"
     ]
    }
   ],
   "source": [
    "def calculator():\n",
    "    a=10\n",
    "    b=20\n",
    "    sum=a+b\n",
    "    print(\"Addition is:\",sum)\n",
    "\n",
    "    multi=a*b\n",
    "    print(\"Multiplication is:\",multi)\n",
    "\n",
    "    div =a/b\n",
    "    print(\"Division is:\",div)\n",
    "\n",
    "    sub=a-b\n",
    "    print(\"Subtraction is:\",sub)\n",
    "    \n",
    "calculator()\n",
    "calculator()"
   ]
  },
  {
   "cell_type": "code",
   "execution_count": 12,
   "id": "fe858a53",
   "metadata": {},
   "outputs": [
    {
     "name": "stdout",
     "output_type": "stream",
     "text": [
      "Addition is: 30\n",
      "Subtraction is: -10\n",
      "Multiplication is: 200\n",
      "Division is: 0.5\n"
     ]
    }
   ],
   "source": [
    "class Calculator():\n",
    "    a=10\n",
    "    b=20\n",
    "    \n",
    "    def addition(self):\n",
    "        sum=self.a + self.b\n",
    "        print(\"Addition is:\",sum)\n",
    "        \n",
    "    def subtraction(self):\n",
    "        sub=self.a - self.b\n",
    "        print(\"Subtraction is:\",sub)\n",
    "        \n",
    "    def multiplication(self):\n",
    "        multi=self.a * self.b\n",
    "        print(\"Multiplication is:\",multi)\n",
    "        \n",
    "    def division(self):\n",
    "        div=self.a / self.b\n",
    "        print(\"Division is:\",div)\n",
    "        \n",
    "sci=Calculator()\n",
    "sci.addition()\n",
    "sci.subtraction()\n",
    "sci.multiplication()\n",
    "sci.division()"
   ]
  },
  {
   "cell_type": "code",
   "execution_count": 4,
   "id": "ef4bf350",
   "metadata": {},
   "outputs": [
    {
     "name": "stdout",
     "output_type": "stream",
     "text": [
      "Enter the value for a:30\n",
      "Enter the value for b:50\n",
      "Addition is: 80\n",
      "Subtraction is: -20\n",
      "Multiplication is: 1500\n",
      "Division is: 0.6\n"
     ]
    }
   ],
   "source": [
    "class Calculator():\n",
    "    a=0\n",
    "    b=0\n",
    "    def addition(self):\n",
    "        sum=self.a + self.b\n",
    "        print(\"Addition is:\",sum)\n",
    "        \n",
    "    def subtraction(self):\n",
    "        sub=self.a - self.b\n",
    "        print(\"Subtraction is:\",sub)\n",
    "        \n",
    "    def multiplication(self):\n",
    "        multi=self.a * self.b\n",
    "        print(\"Multiplication is:\",multi)\n",
    "        \n",
    "    def division(self):\n",
    "        div=self.a / self.b\n",
    "        print(\"Division is:\",div)\n",
    "        \n",
    "calc=Calculator()\n",
    "calc.a=int(input(\"Enter the value for a:\"))\n",
    "calc.b=int(input(\"Enter the value for b:\"))\n",
    "calc.addition()\n",
    "calc.subtraction()\n",
    "calc.multiplication()\n",
    "calc.division()"
   ]
  },
  {
   "cell_type": "code",
   "execution_count": 8,
   "id": "45bc8853",
   "metadata": {},
   "outputs": [
    {
     "name": "stdout",
     "output_type": "stream",
     "text": [
      "Addition is: 300\n",
      "Subtraction is: 100\n",
      "Multiplication is: 4\n",
      "Division is: 2.0\n"
     ]
    }
   ],
   "source": [
    "class Calculator():\n",
    "    def addition(self,a,b):\n",
    "        sum=a + b\n",
    "        print(\"Addition is:\",sum)\n",
    "        \n",
    "    def subtraction(self,a,b):\n",
    "        sub=a - b\n",
    "        print(\"Subtraction is:\",sub)\n",
    "        \n",
    "    def multiplication(self,a,b):\n",
    "        multi=a * b\n",
    "        print(\"Multiplication is:\",multi)\n",
    "        \n",
    "    def division(self,a,b):\n",
    "        div=a / b\n",
    "        print(\"Division is:\",div)\n",
    "        \n",
    "calc=Calculator()\n",
    "a=int(input(\"Enter the value for a:\"))\n",
    "b=int(input(\"Enter the value for b:\"))\n",
    "calc.addition(a,b)\n",
    "calc.subtraction(a,b)\n",
    "calc.multiplication(a,b)\n",
    "calc.division(a,b)"
   ]
  },
  {
   "cell_type": "code",
   "execution_count": 10,
   "id": "7bc103e7",
   "metadata": {},
   "outputs": [
    {
     "name": "stdout",
     "output_type": "stream",
     "text": [
      "Addition is: 70\n",
      "Subtraction is: -20\n",
      "Multiplication is: 1125\n",
      "Division is: 0.5555555555555556\n"
     ]
    }
   ],
   "source": [
    "class Calculator():\n",
    "    a=0\n",
    "    b=0\n",
    "    #Setter method\n",
    "    def setA(self,a):\n",
    "        self.a=a\n",
    "        \n",
    "    def setB(self,b):\n",
    "        self.b=b\n",
    "        \n",
    "    def addition(self):\n",
    "        sum=self.a + self.b\n",
    "        print(\"Addition is:\",sum)\n",
    "        \n",
    "    def subtraction(self):\n",
    "        sub=self.a - self.b\n",
    "        print(\"Subtraction is:\",sub)\n",
    "        \n",
    "    def multiplication(self):\n",
    "        multi=self.a * self.b\n",
    "        print(\"Multiplication is:\",multi)\n",
    "        \n",
    "    def division(self):\n",
    "        div=self.a / self.b\n",
    "        print(\"Division is:\",div)\n",
    "        \n",
    "calc=Calculator()\n",
    "calc.setA(25)\n",
    "calc.setB(45)\n",
    "calc.addition()\n",
    "calc.subtraction()\n",
    "calc.multiplication()\n",
    "calc.division()"
   ]
  },
  {
   "cell_type": "code",
   "execution_count": 28,
   "id": "3d0611e9",
   "metadata": {},
   "outputs": [
    {
     "name": "stdout",
     "output_type": "stream",
     "text": [
      "Addition is: 800\n",
      "Subtraction is: -200\n",
      "Division is: 0.6\n",
      "Multiplication is: 150000\n"
     ]
    }
   ],
   "source": [
    "class Calculator():\n",
    "    __a=0\n",
    "    __b=0\n",
    "    #Constructor method(special method)\n",
    "    def __init__(self,a,b):\n",
    "        self.__a=a\n",
    "        self.__b=b\n",
    "        \n",
    "    def setA(self,a):\n",
    "        self.__a=a\n",
    "        \n",
    "    def setB(self,b):\n",
    "        self.__b=b;\n",
    "        \n",
    "   \n",
    "        \n",
    "    def addition(self):\n",
    "        sum=self.__a + self.__b\n",
    "        print(\"Addition is:\",sum)\n",
    "        \n",
    "    def subtraction(self):\n",
    "        sub=self.__a - self.__b\n",
    "        print(\"Subtraction is:\",sub)\n",
    "        \n",
    "    def multiplication(self):\n",
    "        multi=self.__a * self.__b\n",
    "        print(\"Multiplication is:\",multi)\n",
    "        \n",
    "    def division(self):\n",
    "        div=self.__a / self.__b\n",
    "        print(\"Division is:\",div)\n",
    "        \n",
    "calc=Calculator(10,20) #constructor is called by default\n",
    "calc.setA(300)\n",
    "calc.setB(500)\n",
    "calc.addition()\n",
    "calc.subtraction()\n",
    "calc.division()\n",
    "calc.multiplication()\n"
   ]
  },
  {
   "cell_type": "code",
   "execution_count": 16,
   "id": "55707088",
   "metadata": {},
   "outputs": [
    {
     "name": "stdout",
     "output_type": "stream",
     "text": [
      "Area of Circle is : 50.24\n",
      "Area of Triangle is : 60.0\n",
      "Area of Rectangle is : 120\n"
     ]
    }
   ],
   "source": [
    "import math\n",
    "class Area():\n",
    "    pi=3.14\n",
    "    radius=0\n",
    "    base=0\n",
    "    height=0\n",
    "    length=0\n",
    "    def __init__(self,r,b,h,l):\n",
    "        self.radius=r\n",
    "        self.base=b\n",
    "        self.height=h\n",
    "        self.length=l\n",
    "    \n",
    "    def area_circle(self):\n",
    "        ac = self.pi * math.pow(self.radius,2)\n",
    "        print(\"Area of Circle is :\",ac)\n",
    "        \n",
    "    def area_tri(self):\n",
    "        at = 0.5 * self.base * self.height\n",
    "        print(\"Area of Triangle is :\",at)\n",
    "        \n",
    "    def area_rect(self):\n",
    "        ar = self.base * self.height\n",
    "        print(\"Area of Rectangle is :\",ar)\n",
    "        \n",
    "area = Area(4,12,10,5)\n",
    "area.area_circle()\n",
    "area.area_tri()\n",
    "area.area_rect()"
   ]
  },
  {
   "cell_type": "code",
   "execution_count": 14,
   "id": "07e19d68",
   "metadata": {},
   "outputs": [
    {
     "name": "stdout",
     "output_type": "stream",
     "text": [
      "Title is:Leaves of Grass,\n",
      "Count is:250,\n",
      "Author is:Walt Disney,\n",
      "Price is:600\n"
     ]
    }
   ],
   "source": [
    "#create class\n",
    "class Poetry():\n",
    "    title=\"\"\n",
    "    poem_count=0\n",
    "    author=\"\"\n",
    "    price=0\n",
    "    \n",
    "    #constructor method\n",
    "    def __init__(self,title,poem_count,author,price):\n",
    "        self.title = title\n",
    "        self.poem_count = poem_count\n",
    "        self.author = author\n",
    "        self.price = price\n",
    "        \n",
    "#     def showDetails(self):\n",
    "#         print(\"Title is:\",self.title)\n",
    "#         print(\"Count is:\",self.poem_count)\n",
    "#         print(\"Author is :\",self.author)\n",
    "#         print(\"Price is:\",self.price)\n",
    "    def __repr__(self):\n",
    "        return f\"Title is:{self.title},\\nCount is:{self.poem_count},\\nAuthor is:{self.author},\\nPrice is:{self.price}\"\n",
    "        \n",
    "#Create object\n",
    "p1 = Poetry(\"Leaves of Grass\",250,\"Walt Disney\",600)\n",
    "print(p1)"
   ]
  },
  {
   "cell_type": "code",
   "execution_count": 21,
   "id": "cf94a794",
   "metadata": {},
   "outputs": [
    {
     "name": "stdout",
     "output_type": "stream",
     "text": [
      "Joel Price : 400.0\n",
      "Dilip Price : 420.0\n"
     ]
    }
   ],
   "source": [
    "class Poetry():\n",
    "    title=\"\"\n",
    "    poem_count=0\n",
    "    author=\"\"\n",
    "    __price=0\n",
    "    __discount=0\n",
    "    \n",
    "    #constructor method\n",
    "    def __init__(self,title,poem_count,author,price):\n",
    "        self.title = title\n",
    "        self.poem_count = poem_count\n",
    "        self.author = author\n",
    "        self.__price = price\n",
    "        self.__discount=0.20\n",
    "        \n",
    "    def setDiscount(self,d):\n",
    "        self.__discount = d\n",
    "        \n",
    "    def getDiscount(self):\n",
    "        return self.__discount\n",
    "    \n",
    "    def getPrice(self):\n",
    "        if self.__discount is None:\n",
    "            return self.__price\n",
    "        else:\n",
    "            self.__price= self.__price * (1-self.__discount)\n",
    "            return self.__price\n",
    "        \n",
    "    def __repr__(self):\n",
    "        return f\"Title is:{self.title},\\nCount is:{self.poem_count},\\nAuthor is:{self.author},\\nPrice is:{self.__price}\"   \n",
    "        \n",
    "joel = Poetry(\"Leaves of Grass\",250,\"Walt Disney\",500)\n",
    "\n",
    "print(\"Joel Price :\",joel.getPrice())\n",
    "\n",
    "dilip = Poetry('Leaves of Grass', 350, 'Walt Whitman', 600)\n",
    "dilip.setDiscount(0.30)\n",
    "print(\"Dilip Price :\",dilip.getPrice())\n",
    "# print(p1)"
   ]
  },
  {
   "cell_type": "code",
   "execution_count": null,
   "id": "7d787679",
   "metadata": {},
   "outputs": [],
   "source": []
  }
 ],
 "metadata": {
  "kernelspec": {
   "display_name": "Python 3",
   "language": "python",
   "name": "python3"
  },
  "language_info": {
   "codemirror_mode": {
    "name": "ipython",
    "version": 3
   },
   "file_extension": ".py",
   "mimetype": "text/x-python",
   "name": "python",
   "nbconvert_exporter": "python",
   "pygments_lexer": "ipython3",
   "version": "3.9.0"
  }
 },
 "nbformat": 4,
 "nbformat_minor": 5
}
