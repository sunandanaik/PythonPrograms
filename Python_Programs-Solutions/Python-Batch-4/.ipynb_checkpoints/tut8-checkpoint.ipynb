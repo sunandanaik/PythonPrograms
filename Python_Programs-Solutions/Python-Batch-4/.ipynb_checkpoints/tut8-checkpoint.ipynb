{
 "cells": [
  {
   "cell_type": "code",
   "execution_count": 2,
   "id": "e7b54b02",
   "metadata": {},
   "outputs": [
    {
     "name": "stdout",
     "output_type": "stream",
     "text": [
      "Enter the number:3\n",
      "Factorial is: 6\n"
     ]
    }
   ],
   "source": [
    "num=int(input(\"Enter the number:\"))\n",
    "result=1\n",
    "for i in range(1,num+1):\n",
    "       result= result * i\n",
    "print(\"Factorial is:\",result)"
   ]
  },
  {
   "cell_type": "code",
   "execution_count": 6,
   "id": "6d1286dd",
   "metadata": {},
   "outputs": [
    {
     "name": "stdout",
     "output_type": "stream",
     "text": [
      "Enter the number:10\n",
      "Factorial of number is: 3628800\n"
     ]
    }
   ],
   "source": [
    "def facto(num):\n",
    "    result=1\n",
    "    for i in range(1,num+1):\n",
    "           result= result * i\n",
    "    return result\n",
    "\n",
    "num=int(input(\"Enter the number:\"))\n",
    "result=facto(num)\n",
    "print(\"Factorial of number is:\",result)"
   ]
  },
  {
   "cell_type": "code",
   "execution_count": 8,
   "id": "2a524c63",
   "metadata": {},
   "outputs": [
    {
     "name": "stdout",
     "output_type": "stream",
     "text": [
      "Enter the number:6\n",
      "Factorial of number is: 720\n"
     ]
    }
   ],
   "source": [
    "def factnum(num):\n",
    "    if num !=1:\n",
    "        return num * factnum(num-1)\n",
    "    else:\n",
    "        return num\n",
    "    \n",
    "    \n",
    "num=int(input(\"Enter the number:\"))   \n",
    "result=factnum(num)\n",
    "print(\"Factorial of number is:\",result)"
   ]
  },
  {
   "cell_type": "code",
   "execution_count": 18,
   "id": "49c99d70",
   "metadata": {},
   "outputs": [
    {
     "name": "stdout",
     "output_type": "stream",
     "text": [
      "Enter the number:6\n",
      "0 1 1 2 3 5 8 13 "
     ]
    }
   ],
   "source": [
    "num=int(input(\"Enter the number:\")) \n",
    "n1=0\n",
    "n2=1\n",
    "print(n1,n2,end=\" \")\n",
    "for i in range(1,num+1):\n",
    "    n3=n1+n2\n",
    "    n1=n2\n",
    "    n2=n3\n",
    "    print(n3,end=\" \")"
   ]
  },
  {
   "cell_type": "code",
   "execution_count": 21,
   "id": "b3eba12d",
   "metadata": {},
   "outputs": [
    {
     "name": "stdout",
     "output_type": "stream",
     "text": [
      "Enter the number:10\n",
      "0 1 1 2 3 5 8 13 21 34 55 89 "
     ]
    }
   ],
   "source": [
    "def fibo(num):\n",
    "    n1=0\n",
    "    n2=1\n",
    "    print(n1,n2,end=\" \")\n",
    "    for i in range(1,num+1):\n",
    "        n3=n1+n2\n",
    "        n1=n2\n",
    "        n2=n3\n",
    "        print(n3,end=\" \")\n",
    "        \n",
    "num=int(input(\"Enter the number:\")) \n",
    "fibo(num)"
   ]
  },
  {
   "cell_type": "code",
   "execution_count": 33,
   "id": "4f4c11eb",
   "metadata": {},
   "outputs": [
    {
     "name": "stdout",
     "output_type": "stream",
     "text": [
      "Enter the number:6\n",
      "0 1 1 2 3 5 8 "
     ]
    }
   ],
   "source": [
    "def fibonum(num):\n",
    "    if num == 0:\n",
    "        return 0\n",
    "    elif num==1:\n",
    "        return 1\n",
    "    else:\n",
    "        return fibonum(num-1)+fibonum(num-2)\n",
    "    \n",
    "num=int(input(\"Enter the number:\")) \n",
    "for i in range(0,num+1):\n",
    "    print(fibonum(i),end=\" \")\n"
   ]
  },
  {
   "cell_type": "code",
   "execution_count": 3,
   "id": "0dc9a3bc",
   "metadata": {},
   "outputs": [
    {
     "name": "stdout",
     "output_type": "stream",
     "text": [
      "Enter the first no:1\n",
      "Enter the last no:10\n",
      "1 2 3 5 7 "
     ]
    }
   ],
   "source": [
    "start=int(input(\"Enter the first no:\"))\n",
    "end=int(input(\"Enter the last no:\"))\n",
    "for i in range(start, end+1):\n",
    "    flag=0\n",
    "    for n in range(2,i):\n",
    "        if i % n ==0:\n",
    "            flag=1\n",
    "            break\n",
    "    if flag == 0:\n",
    "        print(i,end=\" \")\n",
    "    "
   ]
  },
  {
   "cell_type": "code",
   "execution_count": 6,
   "id": "9e4715c9",
   "metadata": {},
   "outputs": [
    {
     "name": "stdout",
     "output_type": "stream",
     "text": [
      "Enter the first no:21\n",
      "Enter the last no:50\n",
      "23 29 31 37 41 43 47 "
     ]
    }
   ],
   "source": [
    "def listprime(start,end):\n",
    "    for i in range(start, end+1):\n",
    "        flag=0\n",
    "        for n in range(2,i):\n",
    "            if i % n ==0:\n",
    "                flag=1\n",
    "                break\n",
    "        if flag == 0:\n",
    "            print(i,end=\" \")\n",
    "            \n",
    "            \n",
    "            \n",
    "start=int(input(\"Enter the first no:\"))\n",
    "end=int(input(\"Enter the last no:\"))            \n",
    "listprime(start,end)"
   ]
  },
  {
   "cell_type": "code",
   "execution_count": 10,
   "id": "e77ceb06",
   "metadata": {},
   "outputs": [
    {
     "name": "stdout",
     "output_type": "stream",
     "text": [
      "Enter your operator(+,-,*,/):+\n",
      "Enter the Number 1:30\n",
      "Enter the Number 2:80\n",
      "Result is: 110\n"
     ]
    }
   ],
   "source": [
    "def calcfunc(operator,a,b):\n",
    "    if operator == '+':\n",
    "        result=a+b\n",
    "        #print(\"Addition is :\",result)\n",
    "        return result\n",
    "    elif operator == '-':\n",
    "        result= a-b\n",
    "        #print(\"Subtraction is:\",result)\n",
    "        return result\n",
    "    elif operator == '*':\n",
    "        result = a*b\n",
    "        #print(\"Multiplication is :\",result)\n",
    "        return result\n",
    "    elif operator == '/':\n",
    "        result=a/b\n",
    "        #print(\"Division is :\",result)\n",
    "        return result\n",
    "    else:\n",
    "        print(\"You entered invalid operator, please try again!!!\")\n",
    "\n",
    "\n",
    "        \n",
    "        \n",
    "operator=input(\"Enter your operator(+,-,*,/):\")\n",
    "num1=int(input(\"Enter the Number 1:\"))\n",
    "num2=int(input(\"Enter the Number 2:\"))\n",
    "result=calcfunc(operator,num1,num2) \n",
    "print(\"Result is:\",result)"
   ]
  },
  {
   "cell_type": "code",
   "execution_count": 11,
   "id": "2408a60e",
   "metadata": {},
   "outputs": [
    {
     "name": "stdout",
     "output_type": "stream",
     "text": [
      "1. Addition\n",
      "2. Subtraction\n",
      "3. Multiplication\n",
      "4. Division\n",
      "5. Exit\n",
      "Enter your choice from the given menu:1\n",
      "Enter the Number 1:25\n",
      "Enter the Number 2:90\n",
      "Result is: 115\n",
      "1. Addition\n",
      "2. Subtraction\n",
      "3. Multiplication\n",
      "4. Division\n",
      "5. Exit\n",
      "Enter your choice from the given menu:2\n",
      "Enter the Number 1:90\n",
      "Enter the Number 2:70\n",
      "Result is: 20\n",
      "1. Addition\n",
      "2. Subtraction\n",
      "3. Multiplication\n",
      "4. Division\n",
      "5. Exit\n",
      "Enter your choice from the given menu:3\n",
      "Enter the Number 1:45\n",
      "Enter the Number 2:2\n",
      "Result is: 90\n",
      "1. Addition\n",
      "2. Subtraction\n",
      "3. Multiplication\n",
      "4. Division\n",
      "5. Exit\n",
      "Enter your choice from the given menu:4\n",
      "Enter the Number 1:8\n",
      "Enter the Number 2:4\n",
      "Result is: 2.0\n",
      "1. Addition\n",
      "2. Subtraction\n",
      "3. Multiplication\n",
      "4. Division\n",
      "5. Exit\n",
      "Enter your choice from the given menu:5\n"
     ]
    }
   ],
   "source": [
    "def add(a,b):\n",
    "    return (a+b)\n",
    "def sub(a,b):\n",
    "    return (a-b)\n",
    "def multiply(a,b):\n",
    "    return (a*b)\n",
    "def division(a,b):\n",
    "    return (a/b)\n",
    "\n",
    "\n",
    "def calcfunc(o):\n",
    "    if o == 1:\n",
    "        return add\n",
    "        \n",
    "    elif o==2:\n",
    "        return sub\n",
    "        \n",
    "    elif o==3:\n",
    "        return multiply\n",
    "        \n",
    "    elif o==4:\n",
    "        return division\n",
    "        \n",
    "\n",
    "while True:\n",
    "    print(\"1. Addition\")\n",
    "    print(\"2. Subtraction\")\n",
    "    print(\"3. Multiplication\")\n",
    "    print(\"4. Division\")\n",
    "    print(\"5. Exit\")\n",
    "    choice= int(input(\"Enter your choice from the given menu:\"))\n",
    "    if choice == 5:\n",
    "        print(\"Game Over !!!\")\n",
    "        break\n",
    "    else:\n",
    "        f = calcfunc(choice)\n",
    "        num1=int(input(\"Enter the Number 1:\"))\n",
    "        num2=int(input(\"Enter the Number 2:\"))\n",
    "        result=f(num1,num2) #function calling\n",
    "        print(\"Result is:\",result)"
   ]
  },
  {
   "cell_type": "code",
   "execution_count": null,
   "id": "97752545",
   "metadata": {},
   "outputs": [],
   "source": []
  }
 ],
 "metadata": {
  "kernelspec": {
   "display_name": "Python 3",
   "language": "python",
   "name": "python3"
  },
  "language_info": {
   "codemirror_mode": {
    "name": "ipython",
    "version": 3
   },
   "file_extension": ".py",
   "mimetype": "text/x-python",
   "name": "python",
   "nbconvert_exporter": "python",
   "pygments_lexer": "ipython3",
   "version": "3.9.0"
  }
 },
 "nbformat": 4,
 "nbformat_minor": 5
}
