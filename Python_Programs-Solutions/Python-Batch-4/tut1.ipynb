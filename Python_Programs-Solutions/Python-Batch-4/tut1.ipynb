{
 "cells": [
  {
   "cell_type": "code",
   "execution_count": 1,
   "id": "cc93824b",
   "metadata": {},
   "outputs": [
    {
     "name": "stdout",
     "output_type": "stream",
     "text": [
      "Welcome to Python!!!!\n"
     ]
    }
   ],
   "source": [
    "print(\"Welcome to Python!!!!\")"
   ]
  },
  {
   "cell_type": "markdown",
   "id": "6de68752",
   "metadata": {},
   "source": [
    "# Python Tutorial"
   ]
  },
  {
   "cell_type": "code",
   "execution_count": 2,
   "id": "46391c78",
   "metadata": {},
   "outputs": [
    {
     "name": "stdout",
     "output_type": "stream",
     "text": [
      "10\n"
     ]
    }
   ],
   "source": [
    "print(10)"
   ]
  },
  {
   "cell_type": "code",
   "execution_count": 3,
   "id": "19155c74",
   "metadata": {},
   "outputs": [
    {
     "data": {
      "text/plain": [
       "10"
      ]
     },
     "execution_count": 3,
     "metadata": {},
     "output_type": "execute_result"
    }
   ],
   "source": [
    "10"
   ]
  },
  {
   "cell_type": "code",
   "execution_count": 4,
   "id": "0df07301",
   "metadata": {},
   "outputs": [
    {
     "ename": "SyntaxError",
     "evalue": "invalid syntax (<ipython-input-4-cf47088e3768>, line 1)",
     "output_type": "error",
     "traceback": [
      "\u001b[1;36m  File \u001b[1;32m\"<ipython-input-4-cf47088e3768>\"\u001b[1;36m, line \u001b[1;32m1\u001b[0m\n\u001b[1;33m    welcome to python\u001b[0m\n\u001b[1;37m            ^\u001b[0m\n\u001b[1;31mSyntaxError\u001b[0m\u001b[1;31m:\u001b[0m invalid syntax\n"
     ]
    }
   ],
   "source": [
    "welcome to python"
   ]
  },
  {
   "cell_type": "code",
   "execution_count": 5,
   "id": "8a8c6d89",
   "metadata": {},
   "outputs": [
    {
     "name": "stdout",
     "output_type": "stream",
     "text": [
      "Tim is a good boy\n",
      "Tim is 18 years old\n",
      "Tim is from Turkey\n"
     ]
    }
   ],
   "source": [
    "print(\"Tim is a good boy\")\n",
    "print(\"Tim is 18 years old\")\n",
    "print(\"Tim is from Turkey\")"
   ]
  },
  {
   "cell_type": "code",
   "execution_count": 6,
   "id": "487265e5",
   "metadata": {},
   "outputs": [],
   "source": [
    "name=\"Tim\""
   ]
  },
  {
   "cell_type": "code",
   "execution_count": 7,
   "id": "ea718a6c",
   "metadata": {},
   "outputs": [
    {
     "name": "stdout",
     "output_type": "stream",
     "text": [
      "Tim\n"
     ]
    }
   ],
   "source": [
    "print(name)"
   ]
  },
  {
   "cell_type": "code",
   "execution_count": 8,
   "id": "c5a0500a",
   "metadata": {},
   "outputs": [
    {
     "name": "stdout",
     "output_type": "stream",
     "text": [
      "Tim is a good boy\n"
     ]
    }
   ],
   "source": [
    "print(name,\"is a good boy\")"
   ]
  },
  {
   "cell_type": "code",
   "execution_count": 10,
   "id": "ae03f79f",
   "metadata": {},
   "outputs": [
    {
     "name": "stdout",
     "output_type": "stream",
     "text": [
      "Tim is a good boy\n",
      "Tim is 18 years old\n",
      "Tim is from Turkey\n"
     ]
    }
   ],
   "source": [
    "print(name,\"is a good boy\")\n",
    "print(name, \"is 18 years old\")\n",
    "print(name,\"is from Turkey\")"
   ]
  },
  {
   "cell_type": "code",
   "execution_count": 13,
   "id": "c8b577a4",
   "metadata": {},
   "outputs": [
    {
     "name": "stdout",
     "output_type": "stream",
     "text": [
      "Tim is a good boy Tim is 18 years old Tim is from Turkey\n"
     ]
    }
   ],
   "source": [
    "print(name,\"is a good boy\",name,\"is 18 years old\",name,\"is from Turkey\")"
   ]
  },
  {
   "cell_type": "code",
   "execution_count": 17,
   "id": "6559cf67",
   "metadata": {},
   "outputs": [
    {
     "name": "stdout",
     "output_type": "stream",
     "text": [
      "Hello Python, Welcome to Python tutorial\n"
     ]
    }
   ],
   "source": [
    "print(\"Hello Python\",end=\", \")\n",
    "print(\"Welcome to Python tutorial\")"
   ]
  },
  {
   "cell_type": "code",
   "execution_count": 18,
   "id": "f48092e6",
   "metadata": {},
   "outputs": [
    {
     "name": "stdout",
     "output_type": "stream",
     "text": [
      "Tim is  18 years old\n"
     ]
    }
   ],
   "source": [
    "age=18\n",
    "print(\"Tim is \",age,\"years old\")"
   ]
  },
  {
   "cell_type": "code",
   "execution_count": 19,
   "id": "eaa0b0e5",
   "metadata": {},
   "outputs": [
    {
     "name": "stdout",
     "output_type": "stream",
     "text": [
      "Addition is : 30\n"
     ]
    }
   ],
   "source": [
    "a=10\n",
    "b=20\n",
    "sum=a+b\n",
    "print(\"Addition is :\",sum)"
   ]
  },
  {
   "cell_type": "code",
   "execution_count": 20,
   "id": "562dc225",
   "metadata": {},
   "outputs": [
    {
     "name": "stdout",
     "output_type": "stream",
     "text": [
      "Tim is a good boy.\n"
     ]
    }
   ],
   "source": [
    "print(name + \" is a good boy.\")"
   ]
  },
  {
   "cell_type": "code",
   "execution_count": 21,
   "id": "018e3d7e",
   "metadata": {},
   "outputs": [
    {
     "ename": "TypeError",
     "evalue": "can only concatenate str (not \"int\") to str",
     "output_type": "error",
     "traceback": [
      "\u001b[1;31m---------------------------------------------------------------------------\u001b[0m",
      "\u001b[1;31mTypeError\u001b[0m                                 Traceback (most recent call last)",
      "\u001b[1;32m<ipython-input-21-0ae10b8c649d>\u001b[0m in \u001b[0;36m<module>\u001b[1;34m\u001b[0m\n\u001b[1;32m----> 1\u001b[1;33m \u001b[0mprint\u001b[0m\u001b[1;33m(\u001b[0m\u001b[1;34m\"Tim is \"\u001b[0m\u001b[1;33m+\u001b[0m\u001b[0mage\u001b[0m\u001b[1;33m+\u001b[0m\u001b[1;34m\" years old.\"\u001b[0m\u001b[1;33m)\u001b[0m\u001b[1;33m\u001b[0m\u001b[1;33m\u001b[0m\u001b[0m\n\u001b[0m",
      "\u001b[1;31mTypeError\u001b[0m: can only concatenate str (not \"int\") to str"
     ]
    }
   ],
   "source": [
    "print(\"Tim is \"+age+\" years old.\")"
   ]
  },
  {
   "cell_type": "code",
   "execution_count": 22,
   "id": "f77e27d5",
   "metadata": {},
   "outputs": [
    {
     "name": "stdout",
     "output_type": "stream",
     "text": [
      "98.79\n"
     ]
    }
   ],
   "source": [
    "marks=98.79 #float value stored into marks variable\n",
    "print(marks)"
   ]
  },
  {
   "cell_type": "code",
   "execution_count": 23,
   "id": "73464ff2",
   "metadata": {},
   "outputs": [
    {
     "name": "stdout",
     "output_type": "stream",
     "text": [
      "Tim scored  98.79 in python exam.\n"
     ]
    }
   ],
   "source": [
    "print(\"Tim scored \",marks,\"in python exam.\")"
   ]
  },
  {
   "cell_type": "code",
   "execution_count": 24,
   "id": "95bc2f5d",
   "metadata": {},
   "outputs": [
    {
     "name": "stdout",
     "output_type": "stream",
     "text": [
      "True\n"
     ]
    }
   ],
   "source": [
    "x=True\n",
    "print(x)"
   ]
  },
  {
   "cell_type": "code",
   "execution_count": 25,
   "id": "54706b2a",
   "metadata": {},
   "outputs": [
    {
     "name": "stdout",
     "output_type": "stream",
     "text": [
      "False\n"
     ]
    }
   ],
   "source": [
    "print(a > b)"
   ]
  },
  {
   "cell_type": "code",
   "execution_count": 26,
   "id": "45a9baad",
   "metadata": {},
   "outputs": [
    {
     "name": "stdout",
     "output_type": "stream",
     "text": [
      "True\n"
     ]
    }
   ],
   "source": [
    "print(a<b)\n"
   ]
  },
  {
   "cell_type": "code",
   "execution_count": 27,
   "id": "9d8e672e",
   "metadata": {},
   "outputs": [
    {
     "name": "stdout",
     "output_type": "stream",
     "text": [
      "[89, 76, 90, 56]\n"
     ]
    }
   ],
   "source": [
    "marks=[89,76,90,56]\n",
    "print(marks)"
   ]
  },
  {
   "cell_type": "code",
   "execution_count": 28,
   "id": "6b5334d9",
   "metadata": {},
   "outputs": [
    {
     "name": "stdout",
     "output_type": "stream",
     "text": [
      "Sarita\n"
     ]
    }
   ],
   "source": [
    "print(\"Sarita\")"
   ]
  },
  {
   "cell_type": "code",
   "execution_count": 29,
   "id": "0ab57eca",
   "metadata": {},
   "outputs": [
    {
     "name": "stdout",
     "output_type": "stream",
     "text": [
      "S\n"
     ]
    }
   ],
   "source": [
    "name=\"Sarita\"\n",
    "print(name[0])"
   ]
  },
  {
   "cell_type": "code",
   "execution_count": 30,
   "id": "bbbc133b",
   "metadata": {},
   "outputs": [
    {
     "name": "stdout",
     "output_type": "stream",
     "text": [
      "a\n"
     ]
    }
   ],
   "source": [
    "print(name[5])"
   ]
  },
  {
   "cell_type": "code",
   "execution_count": 31,
   "id": "0a91bea4",
   "metadata": {},
   "outputs": [
    {
     "ename": "IndexError",
     "evalue": "string index out of range",
     "output_type": "error",
     "traceback": [
      "\u001b[1;31m---------------------------------------------------------------------------\u001b[0m",
      "\u001b[1;31mIndexError\u001b[0m                                Traceback (most recent call last)",
      "\u001b[1;32m<ipython-input-31-5c2543b43385>\u001b[0m in \u001b[0;36m<module>\u001b[1;34m\u001b[0m\n\u001b[1;32m----> 1\u001b[1;33m \u001b[0mprint\u001b[0m\u001b[1;33m(\u001b[0m\u001b[0mname\u001b[0m\u001b[1;33m[\u001b[0m\u001b[1;36m10\u001b[0m\u001b[1;33m]\u001b[0m\u001b[1;33m)\u001b[0m\u001b[1;33m\u001b[0m\u001b[1;33m\u001b[0m\u001b[0m\n\u001b[0m",
      "\u001b[1;31mIndexError\u001b[0m: string index out of range"
     ]
    }
   ],
   "source": [
    "print(name[10])"
   ]
  },
  {
   "cell_type": "code",
   "execution_count": 32,
   "id": "16268493",
   "metadata": {},
   "outputs": [
    {
     "name": "stdout",
     "output_type": "stream",
     "text": [
      "a\n"
     ]
    }
   ],
   "source": [
    "print(name[-1])"
   ]
  },
  {
   "cell_type": "code",
   "execution_count": 33,
   "id": "b6bf19ef",
   "metadata": {},
   "outputs": [
    {
     "name": "stdout",
     "output_type": "stream",
     "text": [
      "i\n"
     ]
    }
   ],
   "source": [
    "print(name[-3])"
   ]
  },
  {
   "cell_type": "code",
   "execution_count": 34,
   "id": "ad6774b4",
   "metadata": {},
   "outputs": [
    {
     "name": "stdout",
     "output_type": "stream",
     "text": [
      "Sum is : 300\n",
      "Subtraction is: 100\n",
      "Product is : 20000\n",
      "Division is : 0.5\n"
     ]
    }
   ],
   "source": [
    "x=100\n",
    "y=200\n",
    "add=x+y\n",
    "sub=y-x\n",
    "mul=x*y\n",
    "div=x/y\n",
    "print(\"Sum is :\",add)\n",
    "print(\"Subtraction is:\",sub)\n",
    "print(\"Product is :\",mul)\n",
    "print(\"Division is :\",div)\n"
   ]
  },
  {
   "cell_type": "code",
   "execution_count": 35,
   "id": "0799efb4",
   "metadata": {},
   "outputs": [
    {
     "name": "stdout",
     "output_type": "stream",
     "text": [
      "9\n"
     ]
    }
   ],
   "source": [
    "print(3 ** 2)"
   ]
  },
  {
   "cell_type": "code",
   "execution_count": 36,
   "id": "8133b050",
   "metadata": {},
   "outputs": [
    {
     "name": "stdout",
     "output_type": "stream",
     "text": [
      "Remainder is : 100\n"
     ]
    }
   ],
   "source": [
    "print(\"Remainder is :\",x % y)"
   ]
  },
  {
   "cell_type": "code",
   "execution_count": 37,
   "id": "d8e451da",
   "metadata": {},
   "outputs": [
    {
     "name": "stdout",
     "output_type": "stream",
     "text": [
      "3.14\n"
     ]
    }
   ],
   "source": [
    "pi=3.14\n",
    "print(pi)"
   ]
  },
  {
   "cell_type": "code",
   "execution_count": 38,
   "id": "6c9a4dcc",
   "metadata": {},
   "outputs": [
    {
     "name": "stdout",
     "output_type": "stream",
     "text": [
      "3\n"
     ]
    }
   ],
   "source": [
    "import math\n",
    "print(math.floor(pi))"
   ]
  },
  {
   "cell_type": "code",
   "execution_count": 39,
   "id": "4085cfa5",
   "metadata": {},
   "outputs": [
    {
     "name": "stdout",
     "output_type": "stream",
     "text": [
      "4\n"
     ]
    }
   ],
   "source": [
    "print(math.ceil(pi))"
   ]
  },
  {
   "cell_type": "code",
   "execution_count": 40,
   "id": "bdc0ea5c",
   "metadata": {},
   "outputs": [
    {
     "name": "stdout",
     "output_type": "stream",
     "text": [
      "0\n"
     ]
    }
   ],
   "source": [
    "print(x//y)"
   ]
  },
  {
   "cell_type": "code",
   "execution_count": 1,
   "id": "6df88fd8",
   "metadata": {},
   "outputs": [
    {
     "name": "stdout",
     "output_type": "stream",
     "text": [
      "False\n"
     ]
    }
   ],
   "source": [
    "x1=30\n",
    "x2=50\n",
    "print(x1>x2)"
   ]
  },
  {
   "cell_type": "code",
   "execution_count": 2,
   "id": "c1cda338",
   "metadata": {},
   "outputs": [
    {
     "name": "stdout",
     "output_type": "stream",
     "text": [
      "True\n"
     ]
    }
   ],
   "source": [
    "print(x1<=x2)"
   ]
  },
  {
   "cell_type": "code",
   "execution_count": 3,
   "id": "77ef7fcb",
   "metadata": {},
   "outputs": [
    {
     "name": "stdout",
     "output_type": "stream",
     "text": [
      "True\n"
     ]
    }
   ],
   "source": [
    "print(x1!=x2)"
   ]
  },
  {
   "cell_type": "code",
   "execution_count": 4,
   "id": "c5ad3867",
   "metadata": {},
   "outputs": [
    {
     "name": "stdout",
     "output_type": "stream",
     "text": [
      "False\n"
     ]
    }
   ],
   "source": [
    "print(x1 == x2)"
   ]
  },
  {
   "cell_type": "code",
   "execution_count": 27,
   "id": "9a39c36a",
   "metadata": {},
   "outputs": [
    {
     "name": "stdout",
     "output_type": "stream",
     "text": [
      "False\n"
     ]
    }
   ],
   "source": [
    "a=True\n",
    "b=False\n",
    "print(a & b)"
   ]
  },
  {
   "cell_type": "code",
   "execution_count": 6,
   "id": "59e3344a",
   "metadata": {},
   "outputs": [
    {
     "name": "stdout",
     "output_type": "stream",
     "text": [
      "False\n"
     ]
    }
   ],
   "source": [
    "print(b & b)"
   ]
  },
  {
   "cell_type": "code",
   "execution_count": 7,
   "id": "98bdc103",
   "metadata": {},
   "outputs": [
    {
     "name": "stdout",
     "output_type": "stream",
     "text": [
      "True\n"
     ]
    }
   ],
   "source": [
    "print(a & a)"
   ]
  },
  {
   "cell_type": "code",
   "execution_count": 8,
   "id": "a0faf16e",
   "metadata": {},
   "outputs": [
    {
     "name": "stdout",
     "output_type": "stream",
     "text": [
      "True\n"
     ]
    }
   ],
   "source": [
    "print(a | b)"
   ]
  },
  {
   "cell_type": "code",
   "execution_count": 9,
   "id": "ed94839a",
   "metadata": {},
   "outputs": [
    {
     "name": "stdout",
     "output_type": "stream",
     "text": [
      "False\n"
     ]
    }
   ],
   "source": [
    "print( b | b)"
   ]
  },
  {
   "cell_type": "code",
   "execution_count": 14,
   "id": "81610e37",
   "metadata": {},
   "outputs": [
    {
     "name": "stdout",
     "output_type": "stream",
     "text": [
      "After exchange : 30  and 10\n"
     ]
    }
   ],
   "source": [
    " p=10\n",
    "q=30\n",
    "z=p\n",
    "p=q\n",
    "q=z\n",
    "print(\"After exchange :\",p, \" and\",q)"
   ]
  },
  {
   "cell_type": "code",
   "execution_count": 11,
   "id": "810942fa",
   "metadata": {},
   "outputs": [
    {
     "name": "stdout",
     "output_type": "stream",
     "text": [
      "After exchange : 20  and 40\n"
     ]
    }
   ],
   "source": [
    "p= p+q\n",
    "q= p-q\n",
    "p= p-q\n",
    "print(\"After exchange :\",p, \" and\",q)"
   ]
  },
  {
   "cell_type": "code",
   "execution_count": 13,
   "id": "72a7ec55",
   "metadata": {},
   "outputs": [
    {
     "name": "stdout",
     "output_type": "stream",
     "text": [
      "After exchange : 20  and 40\n"
     ]
    }
   ],
   "source": [
    "p=p+q\n",
    "q=p-q\n",
    "p=p-q\n",
    "print(\"After exchange :\",p, \" and\",q)"
   ]
  },
  {
   "cell_type": "code",
   "execution_count": 15,
   "id": "72b694a4",
   "metadata": {},
   "outputs": [
    {
     "name": "stdout",
     "output_type": "stream",
     "text": [
      "After exchange : 30  and 10\n"
     ]
    }
   ],
   "source": [
    "p=10\n",
    "q=30\n",
    "p=p+q\n",
    "q=p-q\n",
    "p=p-q\n",
    "print(\"After exchange :\",p, \" and\",q)"
   ]
  },
  {
   "cell_type": "code",
   "execution_count": 17,
   "id": "942c2748",
   "metadata": {},
   "outputs": [
    {
     "name": "stdout",
     "output_type": "stream",
     "text": [
      "After exchange : 30  and 10\n"
     ]
    }
   ],
   "source": [
    "p=10\n",
    "q=30\n",
    "p,q = q,p\n",
    "print(\"After exchange :\",p, \" and\",q)"
   ]
  },
  {
   "cell_type": "code",
   "execution_count": 18,
   "id": "7e7f9525",
   "metadata": {},
   "outputs": [
    {
     "name": "stdout",
     "output_type": "stream",
     "text": [
      "False\n"
     ]
    }
   ],
   "source": [
    "a=True\n",
    "b=False\n",
    "print(a is b)"
   ]
  },
  {
   "cell_type": "code",
   "execution_count": 19,
   "id": "1510f682",
   "metadata": {},
   "outputs": [
    {
     "ename": "SyntaxError",
     "evalue": "invalid syntax (<ipython-input-19-a0c07c9fe106>, line 1)",
     "output_type": "error",
     "traceback": [
      "\u001b[1;36m  File \u001b[1;32m\"<ipython-input-19-a0c07c9fe106>\"\u001b[1;36m, line \u001b[1;32m1\u001b[0m\n\u001b[1;33m    print(a not is b)\u001b[0m\n\u001b[1;37m                ^\u001b[0m\n\u001b[1;31mSyntaxError\u001b[0m\u001b[1;31m:\u001b[0m invalid syntax\n"
     ]
    }
   ],
   "source": [
    "print(a not is b)"
   ]
  },
  {
   "cell_type": "code",
   "execution_count": 20,
   "id": "1fd3a545",
   "metadata": {},
   "outputs": [
    {
     "name": "stdout",
     "output_type": "stream",
     "text": [
      "True\n"
     ]
    }
   ],
   "source": [
    "print(a is not b)"
   ]
  },
  {
   "cell_type": "code",
   "execution_count": 22,
   "id": "998c390d",
   "metadata": {},
   "outputs": [
    {
     "name": "stdout",
     "output_type": "stream",
     "text": [
      "True\n"
     ]
    }
   ],
   "source": [
    "p=10\n",
    "q=10\n",
    "print(p is q)"
   ]
  },
  {
   "cell_type": "code",
   "execution_count": 25,
   "id": "3969ae3a",
   "metadata": {},
   "outputs": [
    {
     "name": "stdout",
     "output_type": "stream",
     "text": [
      "True\n"
     ]
    }
   ],
   "source": [
    "marks=[89,78,69,50,90]\n",
    "print(80 not in marks)"
   ]
  },
  {
   "cell_type": "code",
   "execution_count": 28,
   "id": "6f4e5bf9",
   "metadata": {},
   "outputs": [
    {
     "name": "stdout",
     "output_type": "stream",
     "text": [
      "4\n"
     ]
    }
   ],
   "source": [
    "print( 5 & 4)"
   ]
  },
  {
   "cell_type": "code",
   "execution_count": null,
   "id": "197566c6",
   "metadata": {},
   "outputs": [],
   "source": []
  }
 ],
 "metadata": {
  "kernelspec": {
   "display_name": "Python 3",
   "language": "python",
   "name": "python3"
  },
  "language_info": {
   "codemirror_mode": {
    "name": "ipython",
    "version": 3
   },
   "file_extension": ".py",
   "mimetype": "text/x-python",
   "name": "python",
   "nbconvert_exporter": "python",
   "pygments_lexer": "ipython3",
   "version": "3.9.0"
  }
 },
 "nbformat": 4,
 "nbformat_minor": 5
}
